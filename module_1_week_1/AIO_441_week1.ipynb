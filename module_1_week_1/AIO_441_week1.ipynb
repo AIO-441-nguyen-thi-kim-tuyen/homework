{
  "nbformat": 4,
  "nbformat_minor": 0,
  "metadata": {
    "colab": {
      "provenance": []
    },
    "kernelspec": {
      "name": "python3",
      "display_name": "Python 3"
    },
    "language_info": {
      "name": "python"
    }
  },
  "cells": [
    {
      "cell_type": "markdown",
      "source": [
        "#Basic Python – Exercise"
      ],
      "metadata": {
        "id": "CWCv_-fbEKhx"
      }
    },
    {
      "cell_type": "markdown",
      "source": [
        "# I."
      ],
      "metadata": {
        "id": "OWD2cNNBkCsp"
      }
    },
    {
      "cell_type": "markdown",
      "source": [
        "## Exercise 1 - Classification Model Evaluation"
      ],
      "metadata": {
        "id": "xUYCy3NoAJyy"
      }
    },
    {
      "cell_type": "code",
      "source": [
        "def classification_model_eval(tp, fp, fn):\n",
        "  '''\n",
        "  Classification model evaluation by F1-score\n",
        "  Args:\n",
        "   tp (int) > 0: True Positive\n",
        "   fp (int) > 0: False Positive\n",
        "   fn (int) > 0: False Negative\n",
        "  '''\n",
        "  if not isinstance(tp, int):\n",
        "    print(\"tp must be int\")\n",
        "    return\n",
        "  if not isinstance(fp, int):\n",
        "    print(\"fp must be int\")\n",
        "    return\n",
        "  if not isinstance(fn, int):\n",
        "    print(\"fn must be int\")\n",
        "    return\n",
        "  if tp <= 0 or fp <= 0 or fn <= 0:\n",
        "    print(\"tp and fp and fn must be greater than zero\")\n",
        "    return\n",
        "\n",
        "  precision = tp / (tp + fp)\n",
        "  recall = tp / (tp + fn)\n",
        "  f1_score = 2 * (precision * recall)/ (precision + recall)\n",
        "\n",
        "  print(f\"Precision: {precision}\")\n",
        "  print(f\"Recall: {recall}\")\n",
        "  print(f\"F1-score: {f1_score}\")\n"
      ],
      "metadata": {
        "id": "oxhaejRQ7IWh"
      },
      "execution_count": 1,
      "outputs": []
    },
    {
      "cell_type": "code",
      "source": [
        "classification_model_eval(tp =2 , fp =3 , fn =4)"
      ],
      "metadata": {
        "colab": {
          "base_uri": "https://localhost:8080/"
        },
        "id": "pkqAv8Hy-uCu",
        "outputId": "6f4f8048-5808-4c1e-f2f0-92fa04d32b80"
      },
      "execution_count": 2,
      "outputs": [
        {
          "output_type": "stream",
          "name": "stdout",
          "text": [
            "Precision: 0.4\n",
            "Recall: 0.3333333333333333\n",
            "F1-score: 0.3636363636363636\n"
          ]
        }
      ]
    },
    {
      "cell_type": "code",
      "source": [
        "classification_model_eval(tp ='a' , fp =3 , fn =4)"
      ],
      "metadata": {
        "colab": {
          "base_uri": "https://localhost:8080/"
        },
        "id": "XUHj1Q17_F-j",
        "outputId": "d9b73799-9324-4143-9c80-217406be354d"
      },
      "execution_count": 5,
      "outputs": [
        {
          "output_type": "stream",
          "name": "stdout",
          "text": [
            "tp must be int\n"
          ]
        }
      ]
    },
    {
      "cell_type": "code",
      "source": [
        "classification_model_eval(tp =2 , fp ='a' , fn =4)"
      ],
      "metadata": {
        "colab": {
          "base_uri": "https://localhost:8080/"
        },
        "id": "OdFpUVja_kk-",
        "outputId": "8779e87e-4e8f-4e98-9a96-04613e61ec79"
      },
      "execution_count": 6,
      "outputs": [
        {
          "output_type": "stream",
          "name": "stdout",
          "text": [
            "fp must be int\n"
          ]
        }
      ]
    },
    {
      "cell_type": "code",
      "source": [
        "classification_model_eval(tp =2 , fp =3 , fn ='a')"
      ],
      "metadata": {
        "colab": {
          "base_uri": "https://localhost:8080/"
        },
        "id": "TRQ18PHq_qTN",
        "outputId": "fb2294fb-69b0-418f-9b48-f4518180ef6f"
      },
      "execution_count": 7,
      "outputs": [
        {
          "output_type": "stream",
          "name": "stdout",
          "text": [
            "fn must be int\n"
          ]
        }
      ]
    },
    {
      "cell_type": "code",
      "source": [
        "classification_model_eval(tp =2 , fp =3 , fn =0)"
      ],
      "metadata": {
        "colab": {
          "base_uri": "https://localhost:8080/"
        },
        "id": "CM2Pmxl7_vOo",
        "outputId": "d728f065-25e8-44df-fdee-e3f41e9dd59e"
      },
      "execution_count": 10,
      "outputs": [
        {
          "output_type": "stream",
          "name": "stdout",
          "text": [
            "tp and fp and fn must be greater than zero\n"
          ]
        }
      ]
    },
    {
      "cell_type": "code",
      "source": [
        "classification_model_eval(tp =2.1 , fp =3 , fn =0)"
      ],
      "metadata": {
        "colab": {
          "base_uri": "https://localhost:8080/"
        },
        "id": "9zxAxjVh_-Nl",
        "outputId": "bfa484d0-43d1-4d08-9cc4-3813c6761b00"
      },
      "execution_count": 11,
      "outputs": [
        {
          "output_type": "stream",
          "name": "stdout",
          "text": [
            "tp must be int\n"
          ]
        }
      ]
    },
    {
      "cell_type": "markdown",
      "source": [
        "## Exercise 2 - Activation Functions\n",
        "\n",
        "1.   Sigmoid function\n",
        "2.   Rectified Linear Unit (ReLU) function\n",
        "3.   Exponential Linear Unit (ELU) function\n",
        "\n"
      ],
      "metadata": {
        "id": "uvfhxYXxAsnu"
      }
    },
    {
      "cell_type": "code",
      "source": [
        "# Given\n",
        "def is_number( n ):\n",
        "  try :\n",
        "     float ( n ) # Type - casting the string to ‘float ‘.\n",
        "    # If string is not a valid ‘float ‘ ,\n",
        "   # it ’ll raise ‘ValueError ‘ exception\n",
        "  except ValueError :\n",
        "     return False\n",
        "  return True\n",
        "\n",
        "import math\n",
        "\n",
        "def activation_function_simulation():\n",
        "  # user input x and activation function\n",
        "  x = input(\"Input x = \")\n",
        "  if not is_number(x):\n",
        "    print(\"x must be a number\")\n",
        "    return\n",
        "  x = float(x)\n",
        "  allowed_functions = [\"sigmoid\",\"relu\", \"elu\"]\n",
        "  activation_function = input(\"Input activation Function ( sigmoid | relu | elu ) :\")\n",
        "  if activation_function not in allowed_functions:\n",
        "    print(\"%s is not supported\" % activation_function)\n",
        "    return\n",
        "\n",
        "  if activation_function == \"sigmoid\":\n",
        "    result = 1 / (1 + math.e**(-x))\n",
        "  elif activation_function == \"relu\":\n",
        "    result = max(0, x)\n",
        "  else:  # activation_function == \"elu\"\n",
        "      alpha = 0.01\n",
        "      result = x if x >= 0 else alpha * (math.e**x - 1)\n",
        "\n",
        "  print(f\"{activation_function}: f({x}) = {result}\")"
      ],
      "metadata": {
        "id": "hsE-8yp287tD"
      },
      "execution_count": 5,
      "outputs": []
    },
    {
      "cell_type": "code",
      "source": [
        "activation_function_simulation()"
      ],
      "metadata": {
        "colab": {
          "base_uri": "https://localhost:8080/"
        },
        "id": "TXgEtLchFtxC",
        "outputId": "e28e46f4-38fe-44dd-aeb3-6d042ef8f9a5"
      },
      "execution_count": 6,
      "outputs": [
        {
          "output_type": "stream",
          "name": "stdout",
          "text": [
            "Input x = 1.5\n",
            "Input activation Function ( sigmoid | relu | elu ) :sigmoid\n",
            "sigmoid: f(1.5) = 0.8175744761936437\n"
          ]
        }
      ]
    },
    {
      "cell_type": "code",
      "source": [
        "activation_function_simulation()"
      ],
      "metadata": {
        "colab": {
          "base_uri": "https://localhost:8080/"
        },
        "id": "oc7rTKnRGMv8",
        "outputId": "0eb8b349-289e-4625-a75f-95caca707438"
      },
      "execution_count": 8,
      "outputs": [
        {
          "output_type": "stream",
          "name": "stdout",
          "text": [
            "Input x = abc\n",
            "x must be a number\n"
          ]
        }
      ]
    },
    {
      "cell_type": "code",
      "source": [
        "activation_function_simulation()"
      ],
      "metadata": {
        "colab": {
          "base_uri": "https://localhost:8080/"
        },
        "id": "hpj6aCRtF5Lc",
        "outputId": "155ba7bc-454e-4306-b075-963b91890fd7"
      },
      "execution_count": 7,
      "outputs": [
        {
          "output_type": "stream",
          "name": "stdout",
          "text": [
            "Input x = 1.5\n",
            "Input activation Function ( sigmoid | relu | elu ) :belu\n",
            "belu is not supported\n"
          ]
        }
      ]
    },
    {
      "cell_type": "markdown",
      "source": [
        "## Exercise 3 - Regression Loss Function\n",
        "\n",
        "\n",
        "\n"
      ],
      "metadata": {
        "id": "7h6_rc13G7Wu"
      }
    },
    {
      "cell_type": "code",
      "source": [
        "import random\n",
        "import math\n",
        "\n",
        "def regression_loss_function():\n",
        "  num_samples = input(\"Input number of samples ( integer number ) which are generated :\")\n",
        "  if not num_samples.isnumeric():\n",
        "    print(\"number of samples must be an integer number\")\n",
        "    return\n",
        "  loss_name = input(\"Input loss name :\")\n",
        "  num_samples = int(num_samples)\n",
        "  loss = 0\n",
        "  final_loss = 0\n",
        "  for i in range(num_samples):\n",
        "    predict = random.uniform(0, 10)  # random prediction value\n",
        "    target = random.uniform(0, 10)   # random target value\n",
        "\n",
        "    if loss_name.lower() == \"mae\" :\n",
        "      loss = abs(predict - target)\n",
        "    elif loss_name.lower() == \"mse\"or \"rmse\":\n",
        "      loss = (predict - target) ** 2\n",
        "    print(f\"loss name: {loss_name}, sample: {i}, pred: {predict}, target: {target}, loss: {loss}\")\n",
        "    final_loss += loss\n",
        "\n",
        "  final_loss /= num_samples\n",
        "  if loss_name.lower() == \"rmse\":\n",
        "    final_loss = math.sqrt(final_loss)\n",
        "  print(f\"final {loss_name}: {final_loss}\")"
      ],
      "metadata": {
        "id": "pFtsaUbYjg4I"
      },
      "execution_count": 24,
      "outputs": []
    },
    {
      "cell_type": "code",
      "source": [
        "regression_loss_function()"
      ],
      "metadata": {
        "colab": {
          "base_uri": "https://localhost:8080/"
        },
        "id": "KbezlPsJkIOL",
        "outputId": "cf48ad86-0b3e-4589-c5fa-7e799d90c007"
      },
      "execution_count": 26,
      "outputs": [
        {
          "output_type": "stream",
          "name": "stdout",
          "text": [
            "Input number of samples ( integer number ) which are generated :5\n",
            "Input loss name :RMSE\n",
            "loss name: RMSE, sample: 0, pred: 8.159087920416408, target: 9.638580999812968, loss: 2.1888997719823164\n",
            "loss name: RMSE, sample: 1, pred: 4.594001550877764, target: 8.265801303560476, loss: 13.482113423800824\n",
            "loss name: RMSE, sample: 2, pred: 2.7196704229156854, target: 8.341836896765077, loss: 31.6087558596761\n",
            "loss name: RMSE, sample: 3, pred: 6.451523883547429, target: 0.7049247312337026, loss: 33.023401817372836\n",
            "loss name: RMSE, sample: 4, pred: 6.939840901107253, target: 8.230542090743928, loss: 1.6659095609295274\n",
            "final RMSE: 4.04892777000928\n"
          ]
        }
      ]
    },
    {
      "cell_type": "code",
      "source": [
        "regression_loss_function()"
      ],
      "metadata": {
        "colab": {
          "base_uri": "https://localhost:8080/"
        },
        "id": "F4T6Z9hBtz3-",
        "outputId": "528bfd78-f94c-49b5-a786-0225b4faf765"
      },
      "execution_count": 27,
      "outputs": [
        {
          "output_type": "stream",
          "name": "stdout",
          "text": [
            "Input number of samples ( integer number ) which are generated :aa\n",
            "number of samples must be an integer number\n"
          ]
        }
      ]
    },
    {
      "cell_type": "markdown",
      "source": [
        "## Exercise 4 - sin(x), cos(x), sinh(x), cosh(x)\n"
      ],
      "metadata": {
        "id": "rwpaWoJ3uGdw"
      }
    },
    {
      "cell_type": "code",
      "source": [
        "def factorial(n):\n",
        "    \"\"\"\n",
        "    Calculates the factorial of a non-negative integer iteratively.\n",
        "\n",
        "    Args:\n",
        "        n (int): A non-negative integer.\n",
        "\n",
        "    Returns:\n",
        "        int: The factorial of n.\n",
        "    \"\"\"\n",
        "    if n < 0:\n",
        "        raise ValueError(\"Factorial is not defined for negative numbers.\")\n",
        "\n",
        "    result = 1\n",
        "    for i in range(1, n + 1):\n",
        "        result *= i\n",
        "    return result\n"
      ],
      "metadata": {
        "id": "RYjycYBGy6Qd"
      },
      "execution_count": 23,
      "outputs": []
    },
    {
      "cell_type": "code",
      "source": [
        "print(factorial(5))\n",
        "print(factorial(0))"
      ],
      "metadata": {
        "colab": {
          "base_uri": "https://localhost:8080/"
        },
        "id": "5Bx14CYgzRlq",
        "outputId": "ee3c421f-11df-4173-f670-20517932ee38"
      },
      "execution_count": 30,
      "outputs": [
        {
          "output_type": "stream",
          "name": "stdout",
          "text": [
            "120\n",
            "1\n"
          ]
        }
      ]
    },
    {
      "cell_type": "code",
      "source": [
        "def approx_sin(x, n):\n",
        "    \"\"\" Estimate sin(x) by Taylor series.\"\"\"\n",
        "    result = 0\n",
        "    for i in range(n):\n",
        "        term = (-1) ** i * x ** (2 * i + 1) / factorial(2 * i + 1)\n",
        "        result += term\n",
        "    return result\n",
        "\n",
        "def approx_cos(x, n):\n",
        "    \"\"\"Estimate cos(x) by Taylor series.\"\"\"\n",
        "    result = 0\n",
        "    for i in range(n):\n",
        "        term = (-1) ** i * x ** (2 * i) / factorial(2 * i)\n",
        "        result += term\n",
        "    return result\n",
        "\n",
        "def approx_sinh(x, n):\n",
        "    \"\"\"Estimate sinh(x) by Taylor series.\"\"\"\n",
        "    result = 0\n",
        "    for i in range(n):\n",
        "        term = x ** (2 * i + 1) / factorial(2 * i + 1)\n",
        "        result += term\n",
        "    return result\n",
        "\n",
        "def approx_cosh(x, n):\n",
        "    \"\"\"Estimate cosh(x) by Taylor series.\"\"\"\n",
        "    result = 0\n",
        "    for i in range(n):\n",
        "        term = x ** (2 * i) / factorial(2 * i)\n",
        "        result += term\n",
        "    return result"
      ],
      "metadata": {
        "id": "pZdNmzAfuie6"
      },
      "execution_count": 31,
      "outputs": []
    },
    {
      "cell_type": "code",
      "source": [
        "approx_sin ( x =3.14 , n =10)"
      ],
      "metadata": {
        "colab": {
          "base_uri": "https://localhost:8080/"
        },
        "id": "K0GONb2p2HS7",
        "outputId": "a79cf409-0ee4-42f1-c5c7-74455c7b62d4"
      },
      "execution_count": 32,
      "outputs": [
        {
          "output_type": "execute_result",
          "data": {
            "text/plain": [
              "0.001592652393160744"
            ]
          },
          "metadata": {},
          "execution_count": 32
        }
      ]
    },
    {
      "cell_type": "code",
      "source": [
        "approx_cos ( x =3.14 , n =10)"
      ],
      "metadata": {
        "colab": {
          "base_uri": "https://localhost:8080/"
        },
        "id": "bp0MeJeR2V51",
        "outputId": "a147b907-7cd2-4276-a105-69d0b9ed26ef"
      },
      "execution_count": 33,
      "outputs": [
        {
          "output_type": "execute_result",
          "data": {
            "text/plain": [
              "-0.9999987352210833"
            ]
          },
          "metadata": {},
          "execution_count": 33
        }
      ]
    },
    {
      "cell_type": "code",
      "source": [
        "approx_sinh ( x =3.14 , n =10)"
      ],
      "metadata": {
        "colab": {
          "base_uri": "https://localhost:8080/"
        },
        "id": "B0ksawl02bhi",
        "outputId": "66e8ab76-6eb4-4e60-e75f-475048183285"
      },
      "execution_count": 34,
      "outputs": [
        {
          "output_type": "execute_result",
          "data": {
            "text/plain": [
              "11.530292029865986"
            ]
          },
          "metadata": {},
          "execution_count": 34
        }
      ]
    },
    {
      "cell_type": "code",
      "source": [
        "approx_cosh ( x =3.14 , n =10)"
      ],
      "metadata": {
        "colab": {
          "base_uri": "https://localhost:8080/"
        },
        "id": "pTKRAVxF2f-d",
        "outputId": "20fe1fe9-4ea7-49d2-d854-9e222078dc47"
      },
      "execution_count": 35,
      "outputs": [
        {
          "output_type": "execute_result",
          "data": {
            "text/plain": [
              "11.573574824666185"
            ]
          },
          "metadata": {},
          "execution_count": 35
        }
      ]
    },
    {
      "cell_type": "markdown",
      "source": [
        "## Exercise 5 - Mean Difference of n-th Root Error:"
      ],
      "metadata": {
        "id": "Rf46TzJ42taM"
      }
    },
    {
      "cell_type": "code",
      "source": [
        "def mdnre_loss_single_sample(y, y_hat, n, p):\n",
        "    \"\"\"\n",
        "    Calculates the Mean Difference of n-th Root Error (MDnRE) loss.\n",
        "\n",
        "    Args:\n",
        "        y : True target values.\n",
        "        y_hat : Predicted value.\n",
        "        n (int): The root to be taken (e.g., 2 for square root, 3 for cube root).\n",
        "        p (int): The power to raise the absolute difference to.\n",
        "\n",
        "    Returns:\n",
        "        float: The calculated MDnRE loss.\n",
        "    \"\"\"\n",
        "    result = (y ** (1/n) - y_hat ** (1/n)) ** p\n",
        "\n",
        "    return result\n"
      ],
      "metadata": {
        "id": "RgokpOZy9sDh"
      },
      "execution_count": 1,
      "outputs": []
    },
    {
      "cell_type": "code",
      "source": [
        "mdnre_loss_single_sample( y =100 , y_hat =99.5 , n =2 , p =1)"
      ],
      "metadata": {
        "colab": {
          "base_uri": "https://localhost:8080/"
        },
        "id": "y9kgegcZ_Gta",
        "outputId": "dca0611c-94b1-48a5-8154-ca1ef4e1a326"
      },
      "execution_count": 2,
      "outputs": [
        {
          "output_type": "execute_result",
          "data": {
            "text/plain": [
              "0.025031328369998107"
            ]
          },
          "metadata": {},
          "execution_count": 2
        }
      ]
    },
    {
      "cell_type": "code",
      "source": [
        "mdnre_loss_single_sample( y =50 , y_hat =49.5 , n =2 , p =1)"
      ],
      "metadata": {
        "colab": {
          "base_uri": "https://localhost:8080/"
        },
        "id": "gCBVhUQK_W3i",
        "outputId": "3d7073e5-857d-482a-e156-d6706d0a71f6"
      },
      "execution_count": 3,
      "outputs": [
        {
          "output_type": "execute_result",
          "data": {
            "text/plain": [
              "0.03544417213033135"
            ]
          },
          "metadata": {},
          "execution_count": 3
        }
      ]
    },
    {
      "cell_type": "code",
      "source": [
        "mdnre_loss_single_sample( y =20 , y_hat =19.5 , n =2 , p =1)"
      ],
      "metadata": {
        "colab": {
          "base_uri": "https://localhost:8080/"
        },
        "id": "ayMMSoeW_jTK",
        "outputId": "2dce6665-9a89-487f-e7ec-5bc24098a085"
      },
      "execution_count": 4,
      "outputs": [
        {
          "output_type": "execute_result",
          "data": {
            "text/plain": [
              "0.05625552183565574"
            ]
          },
          "metadata": {},
          "execution_count": 4
        }
      ]
    },
    {
      "cell_type": "code",
      "source": [
        "mdnre_loss_single_sample( y =0.6 , y_hat =0.1 , n =2 , p =1)"
      ],
      "metadata": {
        "colab": {
          "base_uri": "https://localhost:8080/"
        },
        "id": "wLz4jzUU_t_3",
        "outputId": "e20babc4-ee37-43b2-a854-94783c1cc813"
      },
      "execution_count": 5,
      "outputs": [
        {
          "output_type": "execute_result",
          "data": {
            "text/plain": [
              "0.45836890322464546"
            ]
          },
          "metadata": {},
          "execution_count": 5
        }
      ]
    },
    {
      "cell_type": "markdown",
      "source": [
        "# II - Trắc nghiệm"
      ],
      "metadata": {
        "id": "YktKdzJA_8Na"
      }
    },
    {
      "cell_type": "markdown",
      "source": [
        "## 1. F1-score\n",
        "Choose c) 0.31"
      ],
      "metadata": {
        "id": "e64tX2NzAaPT"
      }
    },
    {
      "cell_type": "code",
      "source": [
        "#import math\n",
        "def calc_f1_score ( tp , fp , fn ) :\n",
        " # Your code here\n",
        "  precision = tp / (tp + fp)\n",
        "  recall = tp / (tp + fn)\n",
        "  f1_score = 2 * (precision * recall)/ (precision + recall)\n",
        "  return f1_score\n",
        " # End your code\n",
        "assert round ( calc_f1_score ( tp =2 , fp =3 , fn =5) , 2) == 0.33\n",
        "print( round ( calc_f1_score ( tp =2 , fp =4 , fn =5) , 2))"
      ],
      "metadata": {
        "colab": {
          "base_uri": "https://localhost:8080/"
        },
        "id": "TGZHfwz9_663",
        "outputId": "4e50ff6c-104f-4ef0-f742-8855bbbdf84f"
      },
      "execution_count": 4,
      "outputs": [
        {
          "output_type": "stream",
          "name": "stdout",
          "text": [
            "0.31\n"
          ]
        }
      ]
    },
    {
      "cell_type": "markdown",
      "source": [
        "## 2\n",
        "Choose b)"
      ],
      "metadata": {
        "id": "87TnwKKRwpo6"
      }
    },
    {
      "cell_type": "code",
      "source": [
        "#import math\n",
        "def is_number ( n ) :\n",
        " # Your code here\n",
        "  try:\n",
        "    # Cố gắng chuyển đổi giá trị thành số float\n",
        "    float(n)\n",
        "    return True\n",
        "  except ValueError:\n",
        "    # Nếu không thể chuyển đổi, không phải là số hợp lệ\n",
        "    return False\n",
        " # End your code\n",
        "assert is_number (3) == 1.0\n",
        "assert is_number ('-2a') == 0.0\n",
        "print ( is_number (1) )\n",
        "print ( is_number ('n') )"
      ],
      "metadata": {
        "colab": {
          "base_uri": "https://localhost:8080/"
        },
        "id": "W1zBbPz4t2Ql",
        "outputId": "7829dbf7-cb60-4482-b66d-ffe72343ee77"
      },
      "execution_count": 12,
      "outputs": [
        {
          "output_type": "stream",
          "name": "stdout",
          "text": [
            "True\n",
            "False\n"
          ]
        }
      ]
    },
    {
      "cell_type": "markdown",
      "source": [
        "## 3.\n",
        "Choose c) ReLU"
      ],
      "metadata": {
        "id": "19ijrD-IylhP"
      }
    },
    {
      "cell_type": "markdown",
      "source": [
        "## 4. Sigmoid function\n",
        "Choose a) 0.88"
      ],
      "metadata": {
        "id": "UsltbH1iyrp4"
      }
    },
    {
      "cell_type": "code",
      "source": [
        "import math\n",
        "def calc_sig ( x ) :\n",
        " # Your code here\n",
        " return 1/ (1 + math.e ** (-x))\n",
        " # End your code\n",
        "\n",
        "assert round ( calc_sig (3) , 2) ==0.95\n",
        "print ( round ( calc_sig (2) , 2) )"
      ],
      "metadata": {
        "colab": {
          "base_uri": "https://localhost:8080/"
        },
        "id": "9ji8OUrsyyFV",
        "outputId": "5ff47a03-ce09-40e5-a958-2802cace03c4"
      },
      "execution_count": 17,
      "outputs": [
        {
          "output_type": "stream",
          "name": "stdout",
          "text": [
            "0.88\n"
          ]
        }
      ]
    },
    {
      "cell_type": "markdown",
      "source": [
        "## 5. Elu Function\n",
        "Choose b) -0.01"
      ],
      "metadata": {
        "id": "Tjw6S-ADzoyv"
      }
    },
    {
      "cell_type": "code",
      "source": [
        "import math\n",
        "def calc_elu ( x ) :\n",
        "  y = 0\n",
        "  alpha = 0.01\n",
        "  # Your code here\n",
        "  if x <= 0:\n",
        "    y = alpha * (math.e ** x - 1)\n",
        "  else:\n",
        "    y = x\n",
        "  return y\n",
        "  # End your code\n",
        "\n",
        "assert round ( calc_elu (1) ) ==1\n",
        "print ( round ( calc_elu ( -1) , 2) )"
      ],
      "metadata": {
        "colab": {
          "base_uri": "https://localhost:8080/"
        },
        "id": "4tBAykJUzwuz",
        "outputId": "311d7e13-0187-4beb-d8fc-a6aacd0a9180"
      },
      "execution_count": 18,
      "outputs": [
        {
          "output_type": "stream",
          "name": "stdout",
          "text": [
            "-0.01\n"
          ]
        }
      ]
    },
    {
      "cell_type": "markdown",
      "source": [
        "## 6. Activation function\n",
        "Choose a) 0.95"
      ],
      "metadata": {
        "id": "FjDv6Lsy1Sak"
      }
    },
    {
      "cell_type": "code",
      "source": [
        "import math\n",
        "def calc_activation_func (x , act_name ) :\n",
        "  # Your code here\n",
        "  if act_name == \"sigmoid\":\n",
        "    result = 1 / (1 + math.e**(-x))\n",
        "  elif act_name == \"relu\":\n",
        "    result = max(0, x)\n",
        "  else:  # activation_function == \"elu\"\n",
        "      alpha = 0.01\n",
        "      result = x if x >= 0 else alpha * (math.e**x - 1)\n",
        "  return result\n",
        "# End your code\n",
        "assert calc_activation_func ( x = 1 , act_name ='relu') == 1\n",
        "print ( round ( calc_activation_func (x = 3 , act_name ='sigmoid') , 2) )"
      ],
      "metadata": {
        "colab": {
          "base_uri": "https://localhost:8080/"
        },
        "id": "WMb7oMQd1Z7t",
        "outputId": "a1cd8546-c52b-46ee-f503-819171d82606"
      },
      "execution_count": 20,
      "outputs": [
        {
          "output_type": "stream",
          "name": "stdout",
          "text": [
            "0.95\n"
          ]
        }
      ]
    },
    {
      "cell_type": "markdown",
      "source": [
        "## 7. Absolute error\n",
        "Choose a) 7"
      ],
      "metadata": {
        "id": "y-DfEDbK7tPh"
      }
    },
    {
      "cell_type": "code",
      "source": [
        "def calc_ae (y , y_hat ) :\n",
        " # Your code here\n",
        " return abs(y - y_hat)\n",
        " # End your code\n",
        "\n",
        "y = 1\n",
        "y_hat = 6\n",
        "assert calc_ae (y , y_hat ) ==5\n",
        "y = 2\n",
        "y_hat = 9\n",
        "print ( calc_ae (y , y_hat ) )"
      ],
      "metadata": {
        "colab": {
          "base_uri": "https://localhost:8080/"
        },
        "id": "fyglb3a174bB",
        "outputId": "17209b09-b7e5-4d54-e649-f8e33d2e577e"
      },
      "execution_count": 21,
      "outputs": [
        {
          "output_type": "stream",
          "name": "stdout",
          "text": [
            "7\n"
          ]
        }
      ]
    },
    {
      "cell_type": "markdown",
      "source": [
        "## 8. Squared error\n",
        "Choose a) 1"
      ],
      "metadata": {
        "id": "Vf163jK08MBL"
      }
    },
    {
      "cell_type": "code",
      "source": [
        "def calc_se (y , y_hat ) :\n",
        " # Your code here\n",
        " return (y - y_hat)**2\n",
        " # End your code\n",
        "y = 4\n",
        "y_hat = 2\n",
        "assert calc_se (y , y_hat ) == 4\n",
        "print ( calc_se (2 , 1) )"
      ],
      "metadata": {
        "colab": {
          "base_uri": "https://localhost:8080/"
        },
        "id": "LDRjXye_8Swk",
        "outputId": "9922ea47-9766-476d-e430-34a6353499e3"
      },
      "execution_count": 22,
      "outputs": [
        {
          "output_type": "stream",
          "name": "stdout",
          "text": [
            "1\n"
          ]
        }
      ]
    },
    {
      "cell_type": "markdown",
      "source": [
        "## 9. Approximate Cos(x)\n",
        "Choose c) -1.0"
      ],
      "metadata": {
        "id": "rL_HUA-d8hXM"
      }
    },
    {
      "cell_type": "code",
      "source": [
        "def factorial(n):\n",
        "    \"\"\"\n",
        "    Calculates the factorial of a non-negative integer iteratively.\n",
        "    \"\"\"\n",
        "    if n < 0:\n",
        "        raise ValueError(\"Factorial is not defined for negative numbers.\")\n",
        "\n",
        "    result = 1\n",
        "    for i in range(1, n + 1):\n",
        "        result *= i\n",
        "    return result\n",
        "def approx_cos (x , n ) :\n",
        "  # Your code here\n",
        "  \"\"\"Estimate cos(x) by Taylor series.\"\"\"\n",
        "  result = 0\n",
        "  for i in range(n):\n",
        "    term = (-1) ** i * x ** (2 * i) / factorial(2 * i)\n",
        "    result += term\n",
        "  return result\n",
        "  # End your code\n",
        "\n",
        "assert round ( approx_cos ( x =1 , n =10) , 2) ==0.54\n",
        "print ( round ( approx_cos ( x =3.14 , n =10) , 2) )"
      ],
      "metadata": {
        "colab": {
          "base_uri": "https://localhost:8080/"
        },
        "id": "PtqBWCGs82Q_",
        "outputId": "85b583f4-0859-4ceb-9891-99c69118df06"
      },
      "execution_count": 24,
      "outputs": [
        {
          "output_type": "stream",
          "name": "stdout",
          "text": [
            "-1.0\n"
          ]
        }
      ]
    },
    {
      "cell_type": "markdown",
      "source": [
        "## 10. Approximate sin(x)\n",
        "Choose a) 0.0016"
      ],
      "metadata": {
        "id": "ObKI04DI-Xs9"
      }
    },
    {
      "cell_type": "code",
      "source": [
        "def approx_sin (x , n ) :\n",
        "  # Your code here\n",
        "  \"\"\"Estimate sinh(x) by Taylor series.\"\"\"\n",
        "  result = 0\n",
        "  for i in range(n):\n",
        "    term = (-1) ** i * x ** (2 * i + 1) / factorial(2 * i + 1)\n",
        "    result += term\n",
        "  return result\n",
        "  # End your code\n",
        "\n",
        "assert round ( approx_sin ( x =1 , n =10) , 4) ==0.8415\n",
        "print ( round ( approx_sin ( x =3.14 , n =10) , 4) )"
      ],
      "metadata": {
        "colab": {
          "base_uri": "https://localhost:8080/"
        },
        "id": "3zXHA7n0-gCX",
        "outputId": "f7bbb6f8-f337-472d-f343-9f469c97d25e"
      },
      "execution_count": 30,
      "outputs": [
        {
          "output_type": "stream",
          "name": "stdout",
          "text": [
            "0.0016\n"
          ]
        }
      ]
    },
    {
      "cell_type": "markdown",
      "source": [
        "## 11. Approximate sinh(x)\n",
        "Choose a) 11.53"
      ],
      "metadata": {
        "id": "RHTGnuoE_afo"
      }
    },
    {
      "cell_type": "code",
      "source": [
        "def approx_sinh (x , n ) :\n",
        " # Your code here\n",
        " \"\"\"Estimate sinh(x) by Taylor series.\"\"\"\n",
        " result = 0\n",
        " for i in range(n):\n",
        "    term = x ** (2 * i + 1) / factorial(2 * i + 1)\n",
        "    result += term\n",
        " return result\n",
        " # End your code\n",
        "\n",
        "assert round ( approx_sinh ( x =1 , n =10) , 2) ==1.18\n",
        "print ( round ( approx_sinh ( x =3.14 , n =10) , 2) )"
      ],
      "metadata": {
        "colab": {
          "base_uri": "https://localhost:8080/"
        },
        "id": "SPRrxU_vCkZ3",
        "outputId": "77e20fa4-e61d-41a3-db06-e349de42ff61"
      },
      "execution_count": 31,
      "outputs": [
        {
          "output_type": "stream",
          "name": "stdout",
          "text": [
            "11.53\n"
          ]
        }
      ]
    },
    {
      "cell_type": "markdown",
      "source": [
        "## 12. Approximate cosh(x)\n",
        "Choose a) 11.57"
      ],
      "metadata": {
        "id": "ul_jGoMjDKNQ"
      }
    },
    {
      "cell_type": "code",
      "source": [
        "def approx_cosh (x , n ) :\n",
        "  # Your code here\n",
        "  \"\"\"Estimate cosh(x) by Taylor series.\"\"\"\n",
        "  result = 0\n",
        "  for i in range(n):\n",
        "    term = x ** (2 * i) / factorial(2 * i)\n",
        "    result += term\n",
        "  return result\n",
        "  # End your code\n",
        "assert round ( approx_cosh ( x =1 , n =10) , 2) ==1.54\n",
        "print ( round ( approx_cosh ( x =3.14 , n =10) , 2) )"
      ],
      "metadata": {
        "colab": {
          "base_uri": "https://localhost:8080/"
        },
        "id": "9xvytaVGDSJ0",
        "outputId": "c2a3938f-ac10-477c-942c-664785bbb220"
      },
      "execution_count": 32,
      "outputs": [
        {
          "output_type": "stream",
          "name": "stdout",
          "text": [
            "11.57\n"
          ]
        }
      ]
    },
    {
      "cell_type": "markdown",
      "source": [],
      "metadata": {
        "id": "-BhQfFDlDn2d"
      }
    }
  ]
}