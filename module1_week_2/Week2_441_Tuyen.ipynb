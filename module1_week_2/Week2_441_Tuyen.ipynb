{
  "cells": [
    {
      "cell_type": "markdown",
      "metadata": {
        "id": "heRU1HJPdn3Q"
      },
      "source": [
        "# Câu hỏi tự luận\n",
        "\n",
        "[<img src=\"../images/colab-badge.svg\">](https://colab.research.google.com/drive/110mqM0KB1pdl9G0JFiClmSmP81zIz6t8?usp=sharing)"
      ]
    },
    {
      "cell_type": "markdown",
      "metadata": {
        "id": "sYRFmkRWJORD"
      },
      "source": [
        "## 1.\n",
        "Cho một list các số nguyên num_list và một sliding window có kích thước size k di\n",
        "chuyển từ trái sang phải. Mỗi lần dịch chuyển 1 vị trí sang phải có thể nhìn thấy\n",
        "đươc k số trong num_list và tìm số lớn nhất trong k số này sau mỗi lần trượt k phải\n",
        "lớn hơn hoặc bằng 1\n",
        "* Input: num_list = [3, 4, 5, 1, -44 , 5 ,10, 12 ,33, 1] với k=3\n",
        "* Output: [5, 5, 5, 5, 10, 12, 33, 33]\n",
        "Ví dụ:\n",
        "* [3, 4, 5], 1, -44 , 5 ,10, 12 ,33, 1 => max 5\n",
        "* 3, [4, 5, 1], -44 , 5 ,10, 12 ,33, 1 => max 5\n",
        "* 3, 4, [5, 1, -44] , 5 ,10, 12 ,33, 1 => max 5\n",
        "* 3, 4, 5, [1, -44 , 5] ,10, 12 ,33, 1 => max 5\n",
        "* 3, 4, 5, 1, [-44 , 5 ,10], 12 ,33, 1 => max 10\n",
        "* 3, 4, 5, 1, -44 , [5 ,10, 12] ,33, 1 => max 12\n",
        "* 3, 4, 5, 1, -44 , 5 ,[10, 12 ,33], 1 => max 33\n",
        "* 3, 4, 5, 1, -44 , 5 ,10, [12 ,33, 1] => max 33"
      ]
    },
    {
      "cell_type": "code",
      "execution_count": null,
      "metadata": {
        "id": "TRWNOR2CJRqv"
      },
      "outputs": [],
      "source": [
        "def sliding_window(num_list, k):\n",
        "  max_values = []\n",
        "  for i in range(len(num_list) - k + 1):\n",
        "    window = num_list[i:i + k]\n",
        "    max_values.append(max(window))\n",
        "  return max_values\n"
      ]
    },
    {
      "cell_type": "code",
      "execution_count": null,
      "metadata": {
        "colab": {
          "base_uri": "https://localhost:8080/"
        },
        "id": "JIEwdoV2Kaq9",
        "outputId": "efe1d22f-3d99-4bd1-9514-de76d583ab28"
      },
      "outputs": [
        {
          "data": {
            "text/plain": [
              "[5, 5, 5, 5, 10, 12, 33, 33]"
            ]
          },
          "execution_count": 2,
          "metadata": {},
          "output_type": "execute_result"
        }
      ],
      "source": [
        "sliding_window([3, 4, 5, 1, -44 , 5 ,10, 12 ,33, 1],3)"
      ]
    },
    {
      "cell_type": "markdown",
      "metadata": {
        "id": "ZwCH2VoYKl9W"
      },
      "source": [
        "## 2. Thực hiện theo các yêu cầu sau.\n",
        "Viết function trả về một dictionary đếm số lượng chữ xuất hiện trong một từ, với key là chữ cái và value là số lần xuất hiện\n",
        "* Input: một từ\n",
        "\n",
        "* Output: dictionary đếm số lần các chữ xuất hiện\n",
        "* Note: Giả sử các từ nhập vào đều có các chữ cái thuộc [a-z] hoặc [A-Z]\n",
        "\n",
        "### Examples\n",
        "```\n",
        "2 string = ’Happiness ’\n",
        "3 count_chars ( string )\n",
        "4 >> {’H’: 1 , ’a’: 1 , ’e’: 1 , ’i’: 1 , ’n’: 1 , ’p’: 2 , ’s’: 2}\n",
        "5\n",
        "6 string = ’smiles ’\n",
        "7 count_chars ( string )\n",
        "8 >> {’e’: 1 , ’i’: 1 , ’l’: 1 , ’m’: 1 , ’s’: 2}\n",
        "```\n",
        "\n",
        "\n",
        "\n"
      ]
    },
    {
      "cell_type": "code",
      "execution_count": null,
      "metadata": {
        "id": "1U8YV34gKpyr"
      },
      "outputs": [],
      "source": [
        "def count_chars(string):\n",
        "  count = {}\n",
        "  for char in string:\n",
        "    if char in count:\n",
        "      count[char] += 1\n",
        "    else:\n",
        "      count[char] = 1\n",
        "  return count"
      ]
    },
    {
      "cell_type": "code",
      "execution_count": null,
      "metadata": {
        "colab": {
          "base_uri": "https://localhost:8080/"
        },
        "id": "GvwinvFcL_-C",
        "outputId": "b8852d60-0139-4feb-9564-ee242fdb7312"
      },
      "outputs": [
        {
          "data": {
            "text/plain": [
              "{'H': 1, 'a': 1, 'p': 2, 'i': 1, 'n': 1, 'e': 1, 's': 2}"
            ]
          },
          "execution_count": 4,
          "metadata": {},
          "output_type": "execute_result"
        }
      ],
      "source": [
        "string = 'Happiness'\n",
        "count_chars ( string )"
      ]
    },
    {
      "cell_type": "code",
      "execution_count": null,
      "metadata": {
        "colab": {
          "base_uri": "https://localhost:8080/"
        },
        "id": "hkD5PZi5MPLJ",
        "outputId": "6dfba555-d4bd-473b-ad1b-2aafd7253154"
      },
      "outputs": [
        {
          "data": {
            "text/plain": [
              "{'s': 2, 'm': 1, 'i': 1, 'l': 1, 'e': 1}"
            ]
          },
          "execution_count": 5,
          "metadata": {},
          "output_type": "execute_result"
        }
      ],
      "source": [
        "string = 'smiles'\n",
        "count_chars ( string )"
      ]
    },
    {
      "cell_type": "markdown",
      "metadata": {
        "id": "6E1pnnlANVSB"
      },
      "source": [
        "## 3.\n",
        "Thực hiện theo các yêu cầu sau.\n",
        "Viết function đọc các câu trong một file txt, đếm số lượng các từ xuất hiện và trả về một dictionary\n",
        "với key là từ và value là số lần từ đó xuất hiện.\n",
        "* Input: Đường dẫn đến file txt\n",
        "* Output: dictionary đếm số lần các từ xuất hiện\n",
        "* Note:\n",
        "  -  Giả sử các từ trong file txt đều có các chữ cái thuộc [a-z] hoặc [A-Z]\n",
        "  -  Không cần các thao tác xử lý string phức tạp nhưng cần xử lý các từ đều là viết thường\n",
        "  -  Các bạn dùng lệnh này để download\n",
        "`!gdown https://drive.google.com/uc?id=1IBScGdW2xlNsc9v5zSAya548kNgiOrko`\n",
        "\n",
        "```\n",
        "1 # Examples\n",
        "2 ! gdown https :// drive . google . com / uc ?id =1 IBScGdW2xlNsc9v5zSAya548kNgiOrko\n",
        "3 file_path = ’/ content / P1_data . txt ’\n",
        "4 word_count ( file_path )\n",
        "5 > >{’a’: 7 ,\n",
        "6 ’again ’: 1 ,\n",
        "7 ’and ’: 1 ,\n",
        "8 ’are ’: 1 ,\n",
        "9 ’at ’: 1 ,\n",
        "10 ’be ’: 1 ,\n",
        "11 ’become ’: 2 ,\n",
        "12 ...}\n",
        "```\n",
        "\n"
      ]
    },
    {
      "cell_type": "code",
      "execution_count": null,
      "metadata": {
        "id": "oDWMhYbcN6WV"
      },
      "outputs": [],
      "source": [
        "def word_count(file_path):\n",
        "  with open(file_path, 'r') as f:\n",
        "    lines = f.read().lower().split()\n",
        "  count = {}\n",
        "  for word in lines:\n",
        "    if word in count:\n",
        "      count[word] += 1\n",
        "    else:\n",
        "      count[word] = 1\n",
        "  return count"
      ]
    },
    {
      "cell_type": "code",
      "execution_count": null,
      "metadata": {
        "colab": {
          "base_uri": "https://localhost:8080/"
        },
        "id": "iSlPKbR1PJCG",
        "outputId": "15a79473-3936-4e77-d7f4-0ea1aa0f496d"
      },
      "outputs": [
        {
          "name": "stdout",
          "output_type": "stream",
          "text": [
            "Downloading...\n",
            "From: https://drive.google.com/uc?id=1IBScGdW2xlNsc9v5zSAya548kNgiOrko\n",
            "To: /content/P1_data.txt\n",
            "\r  0% 0.00/747 [00:00<?, ?B/s]\r100% 747/747 [00:00<00:00, 3.12MB/s]\n"
          ]
        }
      ],
      "source": [
        "!gdown https://drive.google.com/uc?id=1IBScGdW2xlNsc9v5zSAya548kNgiOrko"
      ]
    },
    {
      "cell_type": "code",
      "execution_count": null,
      "metadata": {
        "colab": {
          "base_uri": "https://localhost:8080/"
        },
        "id": "L7xQrswKPi-_",
        "outputId": "44d6db86-3b47-4f7a-f1dc-effe9a7b703c"
      },
      "outputs": [
        {
          "data": {
            "text/plain": [
              "{'he': 1,\n",
              " 'who': 3,\n",
              " 'conquers': 1,\n",
              " 'himself': 1,\n",
              " 'is': 3,\n",
              " 'the': 5,\n",
              " 'mightiest': 1,\n",
              " 'warrior': 1,\n",
              " 'try': 2,\n",
              " 'not': 1,\n",
              " 'to': 3,\n",
              " 'become': 2,\n",
              " 'a': 7,\n",
              " 'man': 6,\n",
              " 'of': 4,\n",
              " 'success': 3,\n",
              " 'but': 1,\n",
              " 'rather': 1,\n",
              " 'value': 1,\n",
              " 'one': 4,\n",
              " 'with': 4,\n",
              " 'courage': 1,\n",
              " 'makes': 1,\n",
              " 'majority': 1,\n",
              " 'secret': 1,\n",
              " 'in': 4,\n",
              " 'life': 2,\n",
              " 'for': 3,\n",
              " 'be': 1,\n",
              " 'ready': 1,\n",
              " 'his': 2,\n",
              " 'opportunity': 1,\n",
              " 'when': 2,\n",
              " 'it': 2,\n",
              " 'comes': 2,\n",
              " 'successful': 2,\n",
              " 'will': 2,\n",
              " 'profit': 1,\n",
              " 'from': 1,\n",
              " 'mistakes': 1,\n",
              " 'and': 1,\n",
              " 'again': 1,\n",
              " 'different': 1,\n",
              " 'way': 1,\n",
              " 'can': 3,\n",
              " 'lay': 1,\n",
              " 'firm': 1,\n",
              " 'foundation': 1,\n",
              " 'bricks': 1,\n",
              " 'others': 1,\n",
              " 'have': 1,\n",
              " 'thrown': 1,\n",
              " 'at': 1,\n",
              " 'him': 1,\n",
              " 'usually': 1,\n",
              " 'those': 1,\n",
              " 'are': 1,\n",
              " 'too': 1,\n",
              " 'busy': 1,\n",
              " 'looking': 1,\n",
              " 'we': 3,\n",
              " 'cannot': 1,\n",
              " 'solve': 1,\n",
              " 'problems': 1,\n",
              " 'kind': 1,\n",
              " 'thinking': 1,\n",
              " 'employed': 1,\n",
              " 'came': 1,\n",
              " 'up': 1,\n",
              " 'them': 1,\n",
              " 'just': 2,\n",
              " 'small': 1,\n",
              " 'positive': 1,\n",
              " 'thought': 1,\n",
              " 'morning': 1,\n",
              " 'change': 1,\n",
              " 'your': 1,\n",
              " 'whole': 1,\n",
              " 'day': 1,\n",
              " 'you': 3,\n",
              " 'get': 2,\n",
              " 'everything': 1,\n",
              " 'want': 2,\n",
              " 'if': 1,\n",
              " 'help': 1,\n",
              " 'enough': 1,\n",
              " 'other': 1,\n",
              " 'people': 1,\n",
              " 'what': 1,\n",
              " 'they': 1}"
            ]
          },
          "execution_count": 10,
          "metadata": {},
          "output_type": "execute_result"
        }
      ],
      "source": [
        "file_path = '/content/P1_data.txt'\n",
        "word_count ( file_path )"
      ]
    },
    {
      "cell_type": "markdown",
      "metadata": {
        "id": "XCQa7nSJRuVG"
      },
      "source": [
        "## 4. Khoảng cách Levenshtein.\n",
        "Viết chương trình tính khoảng cách chỉnh sửa tối thiểu Levenshtein. Khoảng cách Levenshtein thể\n",
        "hiện khoảng cách khác biệt giữa 2 chuỗi ký tự. Khoảng cách Levenshtein giữa chuỗi S và chuỗi T\n",
        "là số bước ít nhất biến chuỗi S thành chuỗi T thông qua 3 phép biến đổi là:\n",
        "* Xoá một ký tự\n",
        "* Thêm một ký tự\n",
        "* Thay thế ký tự này bằng ký tự khác\n",
        "\n",
        "Khoảng cách này được sử dụng trong việc tính toán sự giống và khác nhau giữa 2 chuỗi, như chương trình kiểm tra lỗi chính tả của winword spellchecker. Ví dụ: Khoảng cách Levenshtein giữa 2 chuỗi \"kitten\" và \"sitting\" là 3, vì phải dùng ít nhất 3 lần biến đổi. Trong đó:\n",
        "* kitten -> sitten (thay \"k\" bằng \"s\")\n",
        "* sitten -> sittin (thay \"e\" bằng \"i\")\n",
        "* sittin -> sitting (thêm ký tự \"g\")\n",
        "\n",
        "Để hiểu rõ về thuật toán, chúng ta lấy ví dụ, khoảng cách cần tính giữa hai từ source: ’yu’ và\n",
        "target: ’you’. Chi phí thực hiện cho các phép biến đổi bao gồm: xoá một ký tự, thêm một ký tự và thay thế ký tự này thành ký tự khác đều là 1 (Nếu 2 ký tự giống nhau thì chi phí thực hiện là 0).\n",
        "Các bước thực hiện như sau:\n",
        "* Bước 1: Xây dựng ma trận lưu trữ có số hàng là M và số cột là N. Trong đó M là số lượng các ký tự trong từ source + 1, N là số lượng các ký tự trong từ target + 1. Vì vậy với ví dụ ’yu’ và ’you’, ta có ma trận được biểu diễn như hình 1. Ký hiệu ’#’ đại diện cho chuỗi rỗng. Gọi là ma trận D.\n",
        "![](https://drive.google.com/uc?export=view&id=1SjOpG0qmds3kwXNaZE1vQVx10kIhPCd9)\n",
        "\n",
        "* Bước 2: Hoàn thiện hàng và cột đầu tiên. Với hàng đầu tiên, các giá trị đại diện cho chuỗi bắt đầu là chuỗi ’#’ và phép biến đổi là thêm (insert) từ chuỗi ’#’ thành ’#’, ’#y’, ’#yo’,’#you’ lần lượt là 0, 1, 2, 3 tương ứng với ô D[0, 0], D[0, 1], D[0, 2], D[0, 3]. Với cột đầu tiên,\n",
        "các giá trị đại diện cho chuỗi ’#’, ’#y’, ’#yu’ và phép biến đổi là xoá (delete) để thu được chuỗi ’#’ lần lượt là: 0, 1, 2 tương ứng với ô D[0, 0], D[1, 0], D[2, 0]. Ta được hình 2.\n",
        "![](https://drive.google.com/uc?export=view&id=1X0RkGjORDJdgqfq32rGvDgq6uJMCLi6H)\n",
        "• Bước 3. Tính toán các giá trị với các ô còn lại trong ma trận. Bắt đầu từ D[1, 1] được tính\n",
        "dựa vào 3 ô phía trước là D[0, 1], D[1, 0], D[0, 0] như sau:\n",
        "\n",
        "![](https://drive.google.com/uc?export=view&id=1AhfBgLoHzM9Z69D0U10_tQ3b6ASySnFF)        \n",
        "\n",
        "Vì vậy D[1, 1] = 0 ta được ma trận D như sau:\n",
        "\n",
        "![](https://drive.google.com/uc?export=view&id=17W0kzk6wbxjqtGMRjw1vivmQRKEBVtA-)\n",
        "\n",
        "Tiếp theo chúng ta tính D[2, 1], D[1, 2]:\n",
        "\n",
        "![](https://drive.google.com/uc?export=view&id=12sCMdQMm67GuT6ESzIS7SfU3IkKloRYE)\n",
        "\n",
        "Vì vậy D[2, 1] = 1, D[1, 2] = 1 ta được ma trận D như sau:\n",
        "\n",
        "![](https://drive.google.com/uc?export=view&id=1mPSz2ZG24PRqh5oHMN7Y_tl9hpuXQJQh)\n",
        "\n",
        "Cuối cùng, chúng ta tính D[1, 3], D[2, 2], D[2, 3]:\n",
        "\n",
        "![](https://drive.google.com/uc?export=view&id=19qAvJDHPheCaejALVjIYCKkTLM_0L078)\n",
        "\n",
        "Vì vậy D[1, 3] = 2, D[2, 2] = 1, D[2, 3] = 1 ta được ma trận như sau:\n",
        "\n",
        "\n",
        "![](https://drive.google.com/uc?export=view&id=1Nw8dZ0fNUxIOhS1CMcM_LoZWWoA3Aus2)\n",
        "\n",
        "* Bước 4: Sau khi hoàn thành ma trận, chúng ta đi tìm đường đi từ ô cuối cùng D[2, 3] có giá\n",
        "trị là 1. Vì vậy khoảng cách chỉnh sửa từ source: ’yu’ sang thành target: ’you’ là 1. Đầu tiên ký tự ’y’ giữ nguyên sau đó thực hiện 1 phép thêm ký tự ’o’ vào sau ký tự ’y’ và cuối cùng ký tự ’u’ được giữ nguyên. Minh hoạ các bước quay lui để tìm đường đi ngắn nhất tương ứng mũi tên vàng trong hình sau:\n",
        "\n",
        "![](https://drive.google.com/uc?export=view&id=1xdI2BuaA2wr3iyK6HGCxQ8NfCanUH7qz)"
      ]
    },
    {
      "cell_type": "code",
      "execution_count": null,
      "metadata": {
        "id": "rZFFzRsnnqwt"
      },
      "outputs": [],
      "source": [
        "def levenshtein_distance(source, target):\n",
        "  if not source:\n",
        "    return len(target)\n",
        "  if not target:\n",
        "    return len(source)\n",
        "\n",
        "  # Create a matrix to store the distances between prefixes.\n",
        "  distances = [[0 for _ in range(len(target) + 1)] for _ in range(len(source) + 1)]\n",
        "\n",
        "  # Initialize the first row and column of the matrix.\n",
        "  for i in range(len(source) + 1):\n",
        "    distances[i][0] = i\n",
        "  for j in range(len(target) + 1):\n",
        "    distances[0][j] = j\n",
        "\n",
        "  # Fill in the rest of the matrix.\n",
        "  for i in range(1, len(source) + 1):\n",
        "    for j in range(1, len(target) + 1):\n",
        "      if source[i - 1] == target[j - 1]:\n",
        "        cost = 0\n",
        "      else:\n",
        "        cost = 1\n",
        "      distances[i][j] = min(\n",
        "          distances[i - 1][j] + 1,  # deletion\n",
        "          distances[i][j - 1] + 1,  # insertion\n",
        "          distances[i - 1][j - 1] + cost  # substitution\n",
        "      )\n",
        "\n",
        "  # The last element of the matrix is the Levenshtein distance.\n",
        "  return distances[len(source)][len(target)]"
      ]
    },
    {
      "cell_type": "code",
      "execution_count": null,
      "metadata": {
        "colab": {
          "base_uri": "https://localhost:8080/"
        },
        "id": "Cx4bb3jrYyvz",
        "outputId": "8a4423e7-0e6c-492e-c625-1d99df2f6d27"
      },
      "outputs": [
        {
          "name": "stdout",
          "output_type": "stream",
          "text": [
            "The Levenshtein distance between \"yu\" and \"you\" is 1\n"
          ]
        }
      ],
      "source": [
        "source = 'yu'\n",
        "target = 'you'\n",
        "distance = levenshtein_distance(source, target)\n",
        "print(f'The Levenshtein distance between \"{source}\" and \"{target}\" is {distance}')"
      ]
    },
    {
      "cell_type": "code",
      "execution_count": null,
      "metadata": {
        "colab": {
          "base_uri": "https://localhost:8080/"
        },
        "id": "0E75rzjpZJVI",
        "outputId": "c4cef3ff-871b-4d9f-8c14-7cb875b86877"
      },
      "outputs": [
        {
          "name": "stdout",
          "output_type": "stream",
          "text": [
            "The Levenshtein distance between \"kitten\" and \"sitting\" is 3\n"
          ]
        }
      ],
      "source": [
        "source = 'kitten'\n",
        "target = 'sitting'\n",
        "distance = levenshtein_distance(source, target)\n",
        "print(f'The Levenshtein distance between \"{source}\" and \"{target}\" is {distance}')"
      ]
    },
    {
      "cell_type": "markdown",
      "metadata": {
        "id": "HChObvdSafmF"
      },
      "source": [
        "# Câu hỏi trắc nghiệm"
      ]
    },
    {
      "cell_type": "markdown",
      "metadata": {
        "id": "FygzAkUIalWh"
      },
      "source": [
        "## 1\n",
        "Choose a)"
      ]
    },
    {
      "cell_type": "code",
      "execution_count": null,
      "metadata": {
        "colab": {
          "base_uri": "https://localhost:8080/"
        },
        "id": "c_Tv-0MDaol5",
        "outputId": "32638641-752c-4499-e4ac-df0ad6bfb5c7"
      },
      "outputs": [
        {
          "name": "stdout",
          "output_type": "stream",
          "text": [
            "[5, 5, 5, 5, 10, 12, 33, 33]\n"
          ]
        }
      ],
      "source": [
        "def max_kernel ( num_list , k ) :\n",
        "  result = []\n",
        "\n",
        " # Your Code Here\n",
        "  for i in range(len(num_list) - k + 1):\n",
        "    window = num_list[i:i + k]\n",
        "    result.append(max(window))\n",
        " # End Code Here\n",
        "  return result\n",
        "\n",
        "assert max_kernel ([3 , 4 , 5 , 1 , -44] , 3) == [5 , 5 , 5]\n",
        "num_list = [3 , 4 , 5 , 1 , -44 , 5 ,10 , 12 ,33 , 1]\n",
        "k = 3\n",
        "print ( max_kernel ( num_list , k ) )"
      ]
    },
    {
      "cell_type": "markdown",
      "metadata": {
        "id": "HhrvpeLIbHYQ"
      },
      "source": [
        "## 2\n",
        "Choose a)"
      ]
    },
    {
      "cell_type": "code",
      "execution_count": null,
      "metadata": {
        "colab": {
          "base_uri": "https://localhost:8080/"
        },
        "id": "FJrxTq0TbKvI",
        "outputId": "fb3fda97-966e-40ef-968a-c60398a71383"
      },
      "outputs": [
        {
          "name": "stdout",
          "output_type": "stream",
          "text": [
            "{'s': 2, 'm': 1, 'i': 1, 'l': 1, 'e': 1}\n"
          ]
        }
      ],
      "source": [
        "def character_count ( word ) :\n",
        "  character_statistic = {}\n",
        "\n",
        "  # Your Code Here\n",
        "  for char in word:\n",
        "    if char in character_statistic:\n",
        "      character_statistic[char] += 1\n",
        "    else:\n",
        "      character_statistic[char] = 1\n",
        "\n",
        "  # End Code Here\n",
        "  return character_statistic\n",
        "\n",
        "assert character_count (\"Baby\") == {'B': 1 , 'a': 1 , 'b': 1 , 'y': 1}\n",
        "print(character_count ('smiles') )"
      ]
    },
    {
      "cell_type": "markdown",
      "metadata": {
        "id": "M_4lpq3YcKLr"
      },
      "source": [
        "## 3\n",
        "Choose c)"
      ]
    },
    {
      "cell_type": "code",
      "execution_count": 10,
      "metadata": {
        "colab": {
          "base_uri": "https://localhost:8080/"
        },
        "id": "nnE789rXcLXc",
        "outputId": "14dbddfe-7f65-4499-9164-5930df4e1535"
      },
      "outputs": [
        {
          "name": "stdout",
          "output_type": "stream",
          "text": [
            "Downloading...\n",
            "From: https://drive.google.com/uc?id=1IBScGdW2xlNsc9v5zSAya548kNgiOrko\n",
            "To: /content/P1_data.txt\n",
            "\r  0% 0.00/747 [00:00<?, ?B/s]\r100% 747/747 [00:00<00:00, 2.91MB/s]\n",
            "6\n"
          ]
        }
      ],
      "source": [
        "!gdown https://drive.google.com/uc?id=1IBScGdW2xlNsc9v5zSAya548kNgiOrko\n",
        "\n",
        "def count_word ( file_path ) :\n",
        "  counter = {}\n",
        "\n",
        " # Your Code Here\n",
        "  with open(file_path, 'r') as f:\n",
        "    data = f.read().lower().split()\n",
        "  for word in data:\n",
        "    if word in counter:\n",
        "      counter[word] += 1\n",
        "    else:\n",
        "      counter[word] = 1\n",
        " # End Code Here\n",
        "\n",
        "  return counter\n",
        "file_path = '/content/P1_data.txt'\n",
        "result = count_word ( file_path )\n",
        "assert result ['who'] == 3\n",
        "print ( result ['man'])"
      ]
    },
    {
      "cell_type": "markdown",
      "metadata": {
        "id": "l7s9Bn73iP4c"
      },
      "source": [
        "## 4\n",
        "Choose c)"
      ]
    },
    {
      "cell_type": "code",
      "execution_count": 27,
      "metadata": {
        "id": "zDN0w7bSiRYV"
      },
      "outputs": [],
      "source": [
        "def levenshtein_distance ( token1 , token2 ) :\n",
        "  # Your Code Here\n",
        "  if not token1:\n",
        "    return len(token2)\n",
        "  if not token2:\n",
        "    return len(token1)\n",
        "\n",
        "  # Create a matrix to store the distances between prefixes.\n",
        "  distances = [[0 for _ in range(len(token2) + 1)] for _ in range(len(token1) + 1)]\n",
        "\n",
        "  # Initialize the first row and column of the matrix.\n",
        "  for i in range(len(token1) + 1):\n",
        "    distances[i][0] = i\n",
        "  for j in range(len(token2) + 1):\n",
        "    distances[0][j] = j\n",
        "\n",
        "  # Fill in the rest of the matrix.\n",
        "  for i in range(1, len(token1) + 1):\n",
        "    for j in range(1, len(token2) + 1):\n",
        "      if token1[i - 1] == token2[j - 1]:\n",
        "        cost = 0\n",
        "      else:\n",
        "        cost = 1\n",
        "      distances[i][j] = min(\n",
        "          distances[i - 1][j] + 1,  # deletion\n",
        "          distances[i][j - 1] + 1,  # insertion\n",
        "          distances[i - 1][j - 1] + cost  # substitution\n",
        "      )\n",
        "\n",
        "  # The last element of the matrix is the Levenshtein distance.\n",
        "  distance = distances[len(token1)][len(token2)]\n",
        "  # End Code Here\n",
        "\n",
        "\n",
        "  return distance"
      ]
    },
    {
      "cell_type": "code",
      "execution_count": 28,
      "metadata": {
        "colab": {
          "base_uri": "https://localhost:8080/"
        },
        "id": "0F5pfvlNkG1y",
        "outputId": "db087bd1-5af6-4338-f0a5-be0b85153216"
      },
      "outputs": [
        {
          "name": "stdout",
          "output_type": "stream",
          "text": [
            "3\n"
          ]
        }
      ],
      "source": [
        "assert levenshtein_distance (\"hi\", \"hello\") == 4.0\n",
        "print ( levenshtein_distance (\"hola\", \"hello\") )"
      ]
    },
    {
      "cell_type": "markdown",
      "metadata": {
        "id": "0NDXoWvtkj8d"
      },
      "source": [
        "## 5.\n",
        "Choose a)"
      ]
    },
    {
      "cell_type": "code",
      "execution_count": 30,
      "metadata": {
        "colab": {
          "base_uri": "https://localhost:8080/"
        },
        "id": "rr5qbHahkl8l",
        "outputId": "b3467988-a694-47f8-b84a-d9693ab19762"
      },
      "outputs": [
        {
          "name": "stdout",
          "output_type": "stream",
          "text": [
            " True \n"
          ]
        }
      ],
      "source": [
        "def check_the_number ( N ) :\n",
        "  list_of_numbers = []\n",
        "  result = \"\"\n",
        "  for i in range (1 , 5) :\n",
        "    # Your code here\n",
        "    #Su dung append them i vao trong list_of_number\n",
        "    list_of_numbers.append(i)\n",
        "    #End code here\n",
        "  if N in list_of_numbers :\n",
        "    results = \" True \"\n",
        "  if N not in list_of_numbers :\n",
        "    results = \" False \"\n",
        "  return results\n",
        "\n",
        "N = 7\n",
        "assert check_the_number ( N ) == \" False \"\n",
        "N = 2\n",
        "results = check_the_number ( N )\n",
        "print ( results )"
      ]
    },
    {
      "cell_type": "markdown",
      "metadata": {
        "id": "yY5vK5gmlSMF"
      },
      "source": [
        "## 6.\n",
        "Choose c)"
      ]
    },
    {
      "cell_type": "code",
      "execution_count": 31,
      "metadata": {
        "colab": {
          "base_uri": "https://localhost:8080/"
        },
        "id": "fgPiByjulW4V",
        "outputId": "1b393d6c-384c-4fe0-aca6-704d954a97b2"
      },
      "outputs": [
        {
          "name": "stdout",
          "output_type": "stream",
          "text": [
            "[2, 2, 2, 1, 1]\n"
          ]
        }
      ],
      "source": [
        "def my_function ( data , max , min) :\n",
        "  result = []\n",
        "  for i in data :\n",
        "    # Your code here\n",
        "    # Neu i < min thi them min vao result\n",
        "    if i < min:\n",
        "      result.append(min)\n",
        "    elif i > max :\n",
        "      result.append( max )\n",
        "    else :\n",
        "      result.append( i )\n",
        "  return result\n",
        "my_list = [5 , 2 , 5 , 0 , 1]\n",
        "max = 1\n",
        "min = 0\n",
        "assert my_function (max = max , min = min , data = my_list ) == [1 , 1 , 1 , 0 , 1]\n",
        "my_list = [10 , 2 , 5 , 0 , 1]\n",
        "max = 2\n",
        "min = 1\n",
        "print(my_function (max = max , min = min , data = my_list))"
      ]
    },
    {
      "cell_type": "markdown",
      "metadata": {
        "id": "FzZa_yOnnbte"
      },
      "source": [
        "## 7.\n",
        "Choose a)"
      ]
    },
    {
      "cell_type": "code",
      "execution_count": 32,
      "metadata": {
        "colab": {
          "base_uri": "https://localhost:8080/"
        },
        "id": "ngWrBpXOnd_8",
        "outputId": "62153878-cb19-44cd-cfa0-067837647893"
      },
      "outputs": [
        {
          "name": "stdout",
          "output_type": "stream",
          "text": [
            "[1, 2, 3, 4, 0, 0]\n"
          ]
        }
      ],
      "source": [
        "def my_function (x , y ) :\n",
        "  # Your code here\n",
        "  #Su dung extend de noi y vao x\n",
        "  x.extend(y)\n",
        "  #End code here\n",
        "  return x\n",
        "\n",
        "list_num1 = ['a', 2 , 5]\n",
        "list_num2 = [1 , 1]\n",
        "list_num3 = [0 , 0]\n",
        "\n",
        "assert my_function ( list_num1 , my_function ( list_num2 , list_num3 ) ) == ['a', 2 , 5 , 1 , 1 , 0 , 0]\n",
        "\n",
        "list_num1 = [1 , 2]\n",
        "list_num2 = [3 , 4]\n",
        "list_num3 = [0 , 0]\n",
        "\n",
        "print ( my_function ( list_num1 , my_function ( list_num2 , list_num3 ) ) )"
      ]
    },
    {
      "cell_type": "markdown",
      "metadata": {
        "id": "0lbYLAVUn9fe"
      },
      "source": [
        "## 8.\n",
        "Hãy hoàn thành chương trình tìm phần tử có giá trị nhỏ nhất trong một list dưới đây. Đầu ra của chương trình là gì?\n",
        "\n",
        "Choose c)"
      ]
    },
    {
      "cell_type": "code",
      "execution_count": 33,
      "metadata": {
        "colab": {
          "base_uri": "https://localhost:8080/"
        },
        "id": "_aDKzQpzA2Fb",
        "outputId": "6b90c6ac-f273-474a-976e-8e2da30da744"
      },
      "outputs": [
        {
          "name": "stdout",
          "output_type": "stream",
          "text": [
            "-1\n"
          ]
        }
      ],
      "source": [
        "def my_function ( n ) :\n",
        "  # Your code here\n",
        "  min_value = n[0]\n",
        "  for num in n:\n",
        "    if num < min_value:\n",
        "      min_value = num\n",
        "  return min_value\n",
        "  #End code here\n",
        "\n",
        "my_list = [1 , 22 , 93 , -100]\n",
        "assert my_function ( my_list ) == -100\n",
        "\n",
        "my_list = [1 , 2 , 3 , -1]\n",
        "print ( my_function ( my_list ) )"
      ]
    },
    {
      "cell_type": "markdown",
      "metadata": {
        "id": "NrySIxaVBM_4"
      },
      "source": [
        "## 9.\n",
        "Hãy hoàn thành chương trình tìm phần tử có giá trị lớn nhất trong một list dưới đây. Đầu ra của chương trình là gì?\n",
        "\n",
        "Choose d)"
      ]
    },
    {
      "cell_type": "code",
      "execution_count": 34,
      "metadata": {
        "colab": {
          "base_uri": "https://localhost:8080/"
        },
        "id": "OFvR94crBfoB",
        "outputId": "cdf86490-8a58-4253-8888-637edffb62d6"
      },
      "outputs": [
        {
          "name": "stdout",
          "output_type": "stream",
          "text": [
            "9\n"
          ]
        }
      ],
      "source": [
        "def my_function ( n ) :\n",
        "  # Your code here\n",
        "  max_value = n[0]\n",
        "  for num in n:\n",
        "    if num > max_value:\n",
        "      max_value = num\n",
        "  return max_value\n",
        "  #End code here\n",
        "\n",
        "\n",
        "my_list = [1001 , 9 , 100 , 0]\n",
        "assert my_function ( my_list ) == 1001\n",
        "\n",
        "my_list = [1 , 9 , 9 , 0]\n",
        "print ( my_function ( my_list ) )"
      ]
    },
    {
      "cell_type": "markdown",
      "metadata": {
        "id": "wWqCkhRCB6Ls"
      },
      "source": [
        "## 10\n",
        "Choose c)"
      ]
    },
    {
      "cell_type": "code",
      "execution_count": 35,
      "metadata": {
        "colab": {
          "base_uri": "https://localhost:8080/"
        },
        "id": "QPnZ4GWTB7_8",
        "outputId": "4f4a1cce-921e-4eca-b233-69e5b252ffd9"
      },
      "outputs": [
        {
          "name": "stdout",
          "output_type": "stream",
          "text": [
            "True\n"
          ]
        }
      ],
      "source": [
        "def My_function ( integers , number = 1) :\n",
        "  return any(\n",
        "      # Your code here : Thuc hien duyet tung phan tu trong integers , so sanh\n",
        "      # tung phan tu voi number , neu bang nhau tra ve True , khac nhau tra ve false\n",
        "      #vi du: integers = [1 , 2 , 3] , number = 2 , ban se tao ra list [False , True , False ]\n",
        "      [num == number for num in integers]\n",
        "      )\n",
        "\n",
        "my_list = [1 , 3 , 9 , 4]\n",
        "assert My_function ( my_list , -1) == False\n",
        "\n",
        "my_list = [1 , 2 , 3 , 4]\n",
        "print ( My_function ( my_list , 2) )"
      ]
    },
    {
      "cell_type": "markdown",
      "metadata": {
        "id": "YChy_uCQC8ps"
      },
      "source": [
        "## 11.\n",
        "Choose a)"
      ]
    },
    {
      "cell_type": "code",
      "execution_count": 36,
      "metadata": {
        "colab": {
          "base_uri": "https://localhost:8080/"
        },
        "id": "miaVzpHuDApq",
        "outputId": "a9c0e651-047a-4854-c8bc-a2d2fa9d0f9a"
      },
      "outputs": [
        {
          "name": "stdout",
          "output_type": "stream",
          "text": [
            "1.0\n"
          ]
        }
      ],
      "source": [
        "def my_function ( list_nums = [0 , 1 , 2]) :\n",
        "  var = 0\n",
        "  for i in list_nums :\n",
        "    var += i\n",
        "  return var/len(list_nums)# Your code here : Tra ve gia tri trung binh cua list bang cach chia var cho so luong phan tu trong list_mums\n",
        "\n",
        "assert my_function ([4 , 6 , 8]) == 6\n",
        "print ( my_function () )"
      ]
    },
    {
      "cell_type": "markdown",
      "metadata": {
        "id": "B_RdKz5nDeZZ"
      },
      "source": [
        "## 12.\n",
        "Choose a)"
      ]
    },
    {
      "cell_type": "code",
      "execution_count": 37,
      "metadata": {
        "colab": {
          "base_uri": "https://localhost:8080/"
        },
        "id": "lLN6l21WDh7l",
        "outputId": "7116fb0f-bac6-428d-d7fa-86b93928a612"
      },
      "outputs": [
        {
          "name": "stdout",
          "output_type": "stream",
          "text": [
            "[3, 6]\n"
          ]
        }
      ],
      "source": [
        "def my_function ( data ) :\n",
        "  var = []\n",
        "  for i in data :\n",
        "  # Your code here\n",
        "  # Neu i chia het cho 3 thi them i vao list var\n",
        "    if i % 3 == 0:\n",
        "      var.append(i)\n",
        "  #End code here\n",
        "  return var\n",
        "\n",
        "assert my_function ([3 , 9 , 4 , 5]) == [3 , 9]\n",
        "print ( my_function ([1 , 2 , 3 , 5 , 6]) )"
      ]
    },
    {
      "cell_type": "markdown",
      "metadata": {
        "id": "UqJr6PW8GmVU"
      },
      "source": [
        "## 13.\n",
        "Hãy hoàn thành chương trình sau đây thực hiện tính giai thừa của 1 số. Đầu ra của chương trình dưới đây là gì?\n",
        "\n",
        "Choose c)"
      ]
    },
    {
      "cell_type": "code",
      "execution_count": 38,
      "metadata": {
        "colab": {
          "base_uri": "https://localhost:8080/"
        },
        "id": "PR5ys07bGsPL",
        "outputId": "4b7e185b-9ed7-47d3-c960-4e7598891eb3"
      },
      "outputs": [
        {
          "name": "stdout",
          "output_type": "stream",
          "text": [
            "24\n"
          ]
        }
      ],
      "source": [
        "def my_function ( y ) :\n",
        "  var = 1\n",
        "  while ( y > 1) :\n",
        "  # Your code here\n",
        "    var = var * y\n",
        "    y -= 1\n",
        "  #End code here\n",
        "  return var\n",
        "assert my_function (8) == 40320\n",
        "print ( my_function (4) )"
      ]
    },
    {
      "cell_type": "markdown",
      "metadata": {
        "id": "BYmhEx1SHy7K"
      },
      "source": [
        "## 14.\n",
        "Hãy hoàn thành chương trình đảo ngược chuỗi dưới đây. Đầu ra của chương trình là gì?\n",
        "\n",
        "Choose b)"
      ]
    },
    {
      "cell_type": "code",
      "execution_count": 39,
      "metadata": {
        "colab": {
          "base_uri": "https://localhost:8080/"
        },
        "id": "RP__AGDdH55e",
        "outputId": "79a90a8b-41e5-4a51-c538-3d26b9d68fdc"
      },
      "outputs": [
        {
          "name": "stdout",
          "output_type": "stream",
          "text": [
            "tocirpa\n"
          ]
        }
      ],
      "source": [
        "def my_function ( x ) :\n",
        "  # your code here\n",
        "  return x[::-1]\n",
        "  #End code here\n",
        "x = 'I can do it'\n",
        "assert my_function (x ) ==\"ti od nac I\"\n",
        "\n",
        "x = 'apricot'\n",
        "print ( my_function ( x ) )"
      ]
    },
    {
      "cell_type": "markdown",
      "metadata": {
        "id": "4U9tDl0nINja"
      },
      "source": [
        "## 15.\n",
        "Choose c)"
      ]
    },
    {
      "cell_type": "code",
      "execution_count": 40,
      "metadata": {
        "colab": {
          "base_uri": "https://localhost:8080/"
        },
        "id": "igpGWHJcIVP3",
        "outputId": "3735f7c2-3a26-4176-ddb9-2d56b0e5650d"
      },
      "outputs": [
        {
          "name": "stdout",
          "output_type": "stream",
          "text": [
            "['T', 'T', 'T', 'N']\n"
          ]
        }
      ],
      "source": [
        "def function_helper ( x ) :\n",
        "  # Your code here\n",
        "  # Neu x >0 tra ve 'T', nguoc lai tra ve 'N'\n",
        "  if x > 0:\n",
        "    return 'T'\n",
        "  else:\n",
        "    return 'N'\n",
        "  #End code here\n",
        "\n",
        "def my_function ( data ) :\n",
        "  res = [ function_helper ( x ) for x in data ]\n",
        "  return res\n",
        "\n",
        "data = [10 , 0 , -10 , -1]\n",
        "assert my_function ( data ) == ['T', 'N', 'N', 'N']\n",
        "\n",
        "data = [2 , 3 , 5 , -1]\n",
        "print ( my_function ( data ) )"
      ]
    },
    {
      "cell_type": "markdown",
      "metadata": {
        "id": "54GxRPS9LFZv"
      },
      "source": [
        "## 16.\n",
        "Hãy hoàn thành chương trình dưới đây để loại bỏ những phần tử trùng nhau. Đầu ra của chương trình là gì?\n",
        "\n",
        "Choose a"
      ]
    },
    {
      "cell_type": "code",
      "execution_count": 41,
      "metadata": {
        "colab": {
          "base_uri": "https://localhost:8080/"
        },
        "id": "Uvp_yTyBLNwH",
        "outputId": "6ae8fe7e-49c6-4910-e4b7-180ceeed660b"
      },
      "outputs": [
        {
          "name": "stdout",
          "output_type": "stream",
          "text": [
            "[9, 8, 1]\n"
          ]
        }
      ],
      "source": [
        "def function_helper (x , data ) :\n",
        "  for i in data :\n",
        "  # Your code here\n",
        "  # Neu x == i thi return 0\n",
        "    if x == i:\n",
        "      return 0\n",
        "  #End code here\n",
        "  return 1\n",
        "\n",
        "def my_function ( data ) :\n",
        "  res = []\n",
        "  for i in data :\n",
        "    if function_helper (i , res ) :\n",
        "      res.append( i )\n",
        "  return res\n",
        "\n",
        "lst = [10 , 10 , 9 , 7 , 7]\n",
        "assert my_function ( lst ) ==[10 , 9 , 7]\n",
        "\n",
        "lst = [9 , 9 , 8 , 1 , 1]\n",
        "print ( my_function ( lst ) )"
      ]
    }
  ],
  "metadata": {
    "colab": {
      "provenance": []
    },
    "kernelspec": {
      "display_name": "Python 3",
      "name": "python3"
    },
    "language_info": {
      "name": "python"
    }
  },
  "nbformat": 4,
  "nbformat_minor": 0
}
