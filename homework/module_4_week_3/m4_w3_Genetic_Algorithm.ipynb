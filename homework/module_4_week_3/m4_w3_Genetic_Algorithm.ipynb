{
  "nbformat": 4,
  "nbformat_minor": 0,
  "metadata": {
    "colab": {
      "provenance": []
    },
    "kernelspec": {
      "name": "python3",
      "display_name": "Python 3"
    },
    "language_info": {
      "name": "python"
    }
  },
  "cells": [
    {
      "cell_type": "markdown",
      "source": [
        "**Bài tập 1 (kỹ thuật đọc và xử lý dữ liệu từ file .csv):**\n",
        "\n",
        "Cho trước file dữ liệu advertising.csv, hãy hoàn\n",
        "thành function load_data_from_file() trả về dữ liệu đã được tổ chức (features_X cho input và\n",
        "sales_Y cho output)."
      ],
      "metadata": {
        "id": "7wmGH7VhETel"
      }
    },
    {
      "cell_type": "code",
      "source": [
        "#https://drive.google.com/file/d/1r2Sb4ogBjRR1Wu28gy9X2D4WmOdFoICT/view?usp=sharing\n",
        "!gdown 1r2Sb4ogBjRR1Wu28gy9X2D4WmOdFoICT"
      ],
      "metadata": {
        "colab": {
          "base_uri": "https://localhost:8080/"
        },
        "id": "jnbTg4U6EwYe",
        "outputId": "416559c2-2cc6-4608-d3e9-910c3cc1adf5"
      },
      "execution_count": 4,
      "outputs": [
        {
          "output_type": "stream",
          "name": "stdout",
          "text": [
            "Downloading...\n",
            "From: https://drive.google.com/uc?id=1r2Sb4ogBjRR1Wu28gy9X2D4WmOdFoICT\n",
            "To: /content/advertising.csv\n",
            "\r  0% 0.00/4.06k [00:00<?, ?B/s]\r100% 4.06k/4.06k [00:00<00:00, 14.2MB/s]\n"
          ]
        }
      ]
    },
    {
      "cell_type": "code",
      "execution_count": 5,
      "metadata": {
        "id": "j2gqKVKJEBsi"
      },
      "outputs": [],
      "source": [
        "import numpy as np\n",
        "# from numpy import genfromtxt\n",
        "import matplotlib.pyplot as plt\n",
        "import random\n",
        "random.seed(0) # please do not remove this line\n",
        "%matplotlib inline\n",
        "\n",
        "def load_data_from_file(fileName = \"advertising.csv\"):\n",
        "  data = np.genfromtxt(fileName, dtype=None, delimiter=',', skip_header=1)\n",
        "  features_X = data[:, :3]\n",
        "  sales_Y = data[:, 3]\n",
        "\n",
        "  # **************** your code here ****************\n",
        "\n",
        "\n",
        "  return features_X, sales_Y\n"
      ]
    },
    {
      "cell_type": "code",
      "source": [
        "#Question 2\n",
        "features_X, _ = load_data_from_file()\n",
        "print(features_X[:5,:])"
      ],
      "metadata": {
        "colab": {
          "base_uri": "https://localhost:8080/"
        },
        "id": "95M_AT98EnJb",
        "outputId": "f033761d-23d5-4845-c438-c2d4728ce7c9"
      },
      "execution_count": 6,
      "outputs": [
        {
          "output_type": "stream",
          "name": "stdout",
          "text": [
            "[[230.1  37.8  69.2]\n",
            " [ 44.5  39.3  45.1]\n",
            " [ 17.2  45.9  69.3]\n",
            " [151.5  41.3  58.5]\n",
            " [180.8  10.8  58.4]]\n"
          ]
        }
      ]
    },
    {
      "cell_type": "code",
      "source": [
        "#Question 3\n",
        "_, sales_Y = load_data_from_file()\n",
        "print(sales_Y.shape)"
      ],
      "metadata": {
        "colab": {
          "base_uri": "https://localhost:8080/"
        },
        "id": "yPGI8NRSFTlz",
        "outputId": "b7d5017a-481f-4a16-c3c8-5c031ae10a07"
      },
      "execution_count": 7,
      "outputs": [
        {
          "output_type": "stream",
          "name": "stdout",
          "text": [
            "(200,)\n"
          ]
        }
      ]
    },
    {
      "cell_type": "markdown",
      "source": [
        "**Bài tập 2 (kỹ thuật khởi tạo giá trị cho từng gene trong chromosome (individual), tạo ra các giá trị ngẫu nhiên cho một cá thể (tham số theta của mô hình)):**\n",
        "\n",
        "hãy hoàn thiện function create_individual(n,bound) để khởi tạo ngẫu nhiên giá trị của n genes (tham số θi) trong chromosome với giá trị từng gene được khởi tạo [-bound/2, bound/2]"
      ],
      "metadata": {
        "id": "cyZocbKRFfY4"
      }
    },
    {
      "cell_type": "code",
      "source": [
        "def generate_random_value(bound = 10):\n",
        "    return (random.random() - 0.5)*bound\n",
        "\n",
        "def create_individual(n=4, bound=10):\n",
        "\n",
        "  # **************** your code here ****************\n",
        "   individual = []\n",
        "   for _ in range(n):\n",
        "   # Gọi hàm generate_random_value để tạo giá trị ngẫu nhiên cho mỗi gene\n",
        "    gene_value = generate_random_value(bound)\n",
        "    individual.append(gene_value)\n",
        "\n",
        "    return individual"
      ],
      "metadata": {
        "id": "0LOFEENKFgJV"
      },
      "execution_count": 13,
      "outputs": []
    },
    {
      "cell_type": "code",
      "source": [
        "individual = create_individual()\n",
        "print(individual)"
      ],
      "metadata": {
        "colab": {
          "base_uri": "https://localhost:8080/"
        },
        "id": "5Tm2xkOWGFa4",
        "outputId": "57390f88-8a14-4108-95a1-f93ce0ae0a98"
      },
      "execution_count": 14,
      "outputs": [
        {
          "output_type": "stream",
          "name": "stdout",
          "text": [
            "[3.444218515250481]\n"
          ]
        }
      ]
    },
    {
      "cell_type": "markdown",
      "source": [
        "**Bài tập 3 (kỹ thuật xây dựng fitness function để đánh giá fitness score cho từng chromosome):**\n",
        "hãy hoàn thiện function compute_fitness(individual) để tính fitness values của một chromosome bằng cách nghịch đảo giá trị của hàm loss theo công thức fitness = 1 / (loss + 1). Hàm compute_fitness(individual) đánh giá độ tốt của một cá thể. Giá trị càng lớn thì cá thể càng tốt."
      ],
      "metadata": {
        "id": "u-hsQ0-HHLqp"
      }
    },
    {
      "cell_type": "code",
      "source": [
        "def compute_loss(individual):\n",
        "    #theta = np.array(individual)\n",
        "    theta = np.reshape(individual, (1, -1))  # Reshape to (1, -1) for flexibility\n",
        "    y_hat = features_X.dot(theta)\n",
        "    loss  = np.multiply((y_hat-sales_Y), (y_hat-sales_Y)).mean()\n",
        "    return loss\n",
        "\n",
        "def compute_fitness(individual):\n",
        "\n",
        "    # **************** your code here ****************\n",
        "    # Tính toán giá trị loss\n",
        "    loss = compute_loss(individual)\n",
        "    # Tính toán giá trị fitness dựa trên công thức\n",
        "    fitness = 1 / (loss + 1)\n",
        "    return fitness"
      ],
      "metadata": {
        "id": "X9l2xjqXGIi4"
      },
      "execution_count": 17,
      "outputs": []
    },
    {
      "cell_type": "code",
      "source": [
        "#question 4\n",
        "features_X, sales_Y = load_data_from_file()\n",
        "individual = [4.09, 4.82, 3.10, 4.02]\n",
        "fitness_score = compute_fitness(individual)\n",
        "print(fitness_score)"
      ],
      "metadata": {
        "colab": {
          "base_uri": "https://localhost:8080/",
          "height": 400
        },
        "id": "oGa8Un8HGK9C",
        "outputId": "bf4e28df-168e-46ba-c035-8ac79352a58c"
      },
      "execution_count": 18,
      "outputs": [
        {
          "output_type": "error",
          "ename": "ValueError",
          "evalue": "shapes (200,3) and (1,4) not aligned: 3 (dim 1) != 1 (dim 0)",
          "traceback": [
            "\u001b[0;31m---------------------------------------------------------------------------\u001b[0m",
            "\u001b[0;31mValueError\u001b[0m                                Traceback (most recent call last)",
            "\u001b[0;32m<ipython-input-18-c0b010d9ee2f>\u001b[0m in \u001b[0;36m<cell line: 4>\u001b[0;34m()\u001b[0m\n\u001b[1;32m      2\u001b[0m \u001b[0mfeatures_X\u001b[0m\u001b[0;34m,\u001b[0m \u001b[0msales_Y\u001b[0m \u001b[0;34m=\u001b[0m \u001b[0mload_data_from_file\u001b[0m\u001b[0;34m(\u001b[0m\u001b[0;34m)\u001b[0m\u001b[0;34m\u001b[0m\u001b[0;34m\u001b[0m\u001b[0m\n\u001b[1;32m      3\u001b[0m \u001b[0mindividual\u001b[0m \u001b[0;34m=\u001b[0m \u001b[0;34m[\u001b[0m\u001b[0;36m4.09\u001b[0m\u001b[0;34m,\u001b[0m \u001b[0;36m4.82\u001b[0m\u001b[0;34m,\u001b[0m \u001b[0;36m3.10\u001b[0m\u001b[0;34m,\u001b[0m \u001b[0;36m4.02\u001b[0m\u001b[0;34m]\u001b[0m\u001b[0;34m\u001b[0m\u001b[0;34m\u001b[0m\u001b[0m\n\u001b[0;32m----> 4\u001b[0;31m \u001b[0mfitness_score\u001b[0m \u001b[0;34m=\u001b[0m \u001b[0mcompute_fitness\u001b[0m\u001b[0;34m(\u001b[0m\u001b[0mindividual\u001b[0m\u001b[0;34m)\u001b[0m\u001b[0;34m\u001b[0m\u001b[0;34m\u001b[0m\u001b[0m\n\u001b[0m\u001b[1;32m      5\u001b[0m \u001b[0mprint\u001b[0m\u001b[0;34m(\u001b[0m\u001b[0mfitness_score\u001b[0m\u001b[0;34m)\u001b[0m\u001b[0;34m\u001b[0m\u001b[0;34m\u001b[0m\u001b[0m\n",
            "\u001b[0;32m<ipython-input-17-ace8fff74710>\u001b[0m in \u001b[0;36mcompute_fitness\u001b[0;34m(individual)\u001b[0m\n\u001b[1;32m     10\u001b[0m     \u001b[0;31m# **************** your code here ****************\u001b[0m\u001b[0;34m\u001b[0m\u001b[0;34m\u001b[0m\u001b[0m\n\u001b[1;32m     11\u001b[0m     \u001b[0;31m# Tính toán giá trị loss\u001b[0m\u001b[0;34m\u001b[0m\u001b[0;34m\u001b[0m\u001b[0m\n\u001b[0;32m---> 12\u001b[0;31m     \u001b[0mloss\u001b[0m \u001b[0;34m=\u001b[0m \u001b[0mcompute_loss\u001b[0m\u001b[0;34m(\u001b[0m\u001b[0mindividual\u001b[0m\u001b[0;34m)\u001b[0m\u001b[0;34m\u001b[0m\u001b[0;34m\u001b[0m\u001b[0m\n\u001b[0m\u001b[1;32m     13\u001b[0m     \u001b[0;31m# Tính toán giá trị fitness dựa trên công thức\u001b[0m\u001b[0;34m\u001b[0m\u001b[0;34m\u001b[0m\u001b[0m\n\u001b[1;32m     14\u001b[0m     \u001b[0mfitness\u001b[0m \u001b[0;34m=\u001b[0m \u001b[0;36m1\u001b[0m \u001b[0;34m/\u001b[0m \u001b[0;34m(\u001b[0m\u001b[0mloss\u001b[0m \u001b[0;34m+\u001b[0m \u001b[0;36m1\u001b[0m\u001b[0;34m)\u001b[0m\u001b[0;34m\u001b[0m\u001b[0;34m\u001b[0m\u001b[0m\n",
            "\u001b[0;32m<ipython-input-17-ace8fff74710>\u001b[0m in \u001b[0;36mcompute_loss\u001b[0;34m(individual)\u001b[0m\n\u001b[1;32m      2\u001b[0m     \u001b[0;31m#theta = np.array(individual)\u001b[0m\u001b[0;34m\u001b[0m\u001b[0;34m\u001b[0m\u001b[0m\n\u001b[1;32m      3\u001b[0m     \u001b[0mtheta\u001b[0m \u001b[0;34m=\u001b[0m \u001b[0mnp\u001b[0m\u001b[0;34m.\u001b[0m\u001b[0mreshape\u001b[0m\u001b[0;34m(\u001b[0m\u001b[0mindividual\u001b[0m\u001b[0;34m,\u001b[0m \u001b[0;34m(\u001b[0m\u001b[0;36m1\u001b[0m\u001b[0;34m,\u001b[0m \u001b[0;34m-\u001b[0m\u001b[0;36m1\u001b[0m\u001b[0;34m)\u001b[0m\u001b[0;34m)\u001b[0m  \u001b[0;31m# Reshape to (1, -1) for flexibility\u001b[0m\u001b[0;34m\u001b[0m\u001b[0;34m\u001b[0m\u001b[0m\n\u001b[0;32m----> 4\u001b[0;31m     \u001b[0my_hat\u001b[0m \u001b[0;34m=\u001b[0m \u001b[0mfeatures_X\u001b[0m\u001b[0;34m.\u001b[0m\u001b[0mdot\u001b[0m\u001b[0;34m(\u001b[0m\u001b[0mtheta\u001b[0m\u001b[0;34m)\u001b[0m\u001b[0;34m\u001b[0m\u001b[0;34m\u001b[0m\u001b[0m\n\u001b[0m\u001b[1;32m      5\u001b[0m     \u001b[0mloss\u001b[0m  \u001b[0;34m=\u001b[0m \u001b[0mnp\u001b[0m\u001b[0;34m.\u001b[0m\u001b[0mmultiply\u001b[0m\u001b[0;34m(\u001b[0m\u001b[0;34m(\u001b[0m\u001b[0my_hat\u001b[0m\u001b[0;34m-\u001b[0m\u001b[0msales_Y\u001b[0m\u001b[0;34m)\u001b[0m\u001b[0;34m,\u001b[0m \u001b[0;34m(\u001b[0m\u001b[0my_hat\u001b[0m\u001b[0;34m-\u001b[0m\u001b[0msales_Y\u001b[0m\u001b[0;34m)\u001b[0m\u001b[0;34m)\u001b[0m\u001b[0;34m.\u001b[0m\u001b[0mmean\u001b[0m\u001b[0;34m(\u001b[0m\u001b[0;34m)\u001b[0m\u001b[0;34m\u001b[0m\u001b[0;34m\u001b[0m\u001b[0m\n\u001b[1;32m      6\u001b[0m     \u001b[0;32mreturn\u001b[0m \u001b[0mloss\u001b[0m\u001b[0;34m\u001b[0m\u001b[0;34m\u001b[0m\u001b[0m\n",
            "\u001b[0;31mValueError\u001b[0m: shapes (200,3) and (1,4) not aligned: 3 (dim 1) != 1 (dim 0)"
          ]
        }
      ]
    },
    {
      "cell_type": "markdown",
      "source": [
        "**Bài tập 4 (kỹ thuật thực hiện crossover giữa 2 chromosomes:**\n",
        "hãy hoàn thiện function crossover(individual1,\n",
        "individual2, crossover_rate = 0.9) để thực hiện crossover giữa 2 individual (chromosome). Bước\n",
        "này, thực hiện việc lai tạo (trao đổi gen) giữa 2 individual với tỉ lệ crossover_rate"
      ],
      "metadata": {
        "id": "1AyzMnJ8GO8z"
      }
    },
    {
      "cell_type": "code",
      "source": [
        "def crossover(individual1, individual2, crossover_rate = 0.9):\n",
        "    individual1_new = individual1.copy()\n",
        "    individual2_new = individual2.copy()\n",
        "\n",
        "\n",
        "   # **************** your code here ****************\n",
        "\n",
        "\n",
        "    return individual1_new, individual2_new"
      ],
      "metadata": {
        "id": "BJjmb5lZGPR0"
      },
      "execution_count": 12,
      "outputs": []
    },
    {
      "cell_type": "code",
      "source": [
        "#question 5\n",
        "individual1 = [4.09, 4.82, 3.10, 4.02]\n",
        "individual2 = [3.44, 2.57, -0.79, -2.41]\n",
        "\n",
        "individual1, individual2 = crossover(individual1, individual2, 2.0)\n",
        "print(\"individual1: \", individual1)\n",
        "print(\"individual2: \", individual2)"
      ],
      "metadata": {
        "id": "yRu1FnqNIgsB"
      },
      "execution_count": null,
      "outputs": []
    },
    {
      "cell_type": "markdown",
      "source": [
        "**Bài tập 5 (kỹ thuật mutation với chromosome): **\n",
        "hãy hoàn thiện function mutate(individual, muta-\n",
        "tion_rate = 0.05) để thực hiện việc đột biến cho một cá thể với tỉ lệ đột biến là mutation_rate."
      ],
      "metadata": {
        "id": "W_F69MgzIki0"
      }
    },
    {
      "cell_type": "code",
      "source": [
        "def mutate(individual, mutation_rate = 0.05):\n",
        "    individual_m = individual.copy()\n",
        "\n",
        "    # **************** your code here ****************\n",
        "\n",
        "\n",
        "    return individual_m"
      ],
      "metadata": {
        "id": "afCqc85oIo0k"
      },
      "execution_count": null,
      "outputs": []
    },
    {
      "cell_type": "code",
      "source": [
        "#Question 6\n",
        "before_individual = [4.09, 4.82, 3.10, 4.02]\n",
        "after_individual = mutate(individual, mutation_rate = 2.0)\n",
        "print(before_individual == after_individual)"
      ],
      "metadata": {
        "id": "3gZc_-_JIsp1"
      },
      "execution_count": null,
      "outputs": []
    }
  ]
}