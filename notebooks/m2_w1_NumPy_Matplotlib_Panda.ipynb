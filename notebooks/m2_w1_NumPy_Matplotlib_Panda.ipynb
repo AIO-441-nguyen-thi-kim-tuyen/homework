{
  "nbformat": 4,
  "nbformat_minor": 0,
  "metadata": {
    "colab": {
      "provenance": []
    },
    "kernelspec": {
      "name": "python3",
      "display_name": "Python 3"
    },
    "language_info": {
      "name": "python"
    }
  },
  "cells": [
    {
      "cell_type": "markdown",
      "source": [
        "[<img src=\"../images/colab-badge.svg\">](https://colab.research.google.com/drive/13v5oMcqg0jc9pzq-g96JH1z7T3zuha64?usp=sharing)"
      ],
      "metadata": {
        "id": "4bW2OXR-1SFv"
      }
    },
    {
      "cell_type": "markdown",
      "source": [
        "[<img src=\"https://colab.research.google.com/assets/colab-badge.svg\\\">](https://colab.research.google.com/drive/13v5oMcqg0jc9pzq-g96JH1z7T3zuha64?usp=sharing)"
      ],
      "metadata": {
        "id": "Qzm3rhbr1kzW"
      }
    },
    {
      "cell_type": "markdown",
      "source": [
        "# I - Bài tập 1 - NumPy cơ bản"
      ],
      "metadata": {
        "id": "Ablo_tV9GU9Y"
      }
    },
    {
      "cell_type": "markdown",
      "source": [
        "### Câu 1: Câu nào sau đây là đúng để tạo mảng 1 chiều từ 0 đến 9\n",
        "* a"
      ],
      "metadata": {
        "id": "AdDEYeaGGdIu"
      }
    },
    {
      "cell_type": "code",
      "execution_count": null,
      "metadata": {
        "id": "SYnI9IMM2Y6O",
        "colab": {
          "base_uri": "https://localhost:8080/"
        },
        "outputId": "b18b4f0e-8b38-432a-da18-fe0b908437b4"
      },
      "outputs": [
        {
          "output_type": "stream",
          "name": "stdout",
          "text": [
            "[0 1 2 3 4 5 6 7 8 9]\n"
          ]
        }
      ],
      "source": [
        "import numpy as np\n",
        "arr = np . arange (0 , 10 , 1)\n",
        "print (arr)"
      ]
    },
    {
      "cell_type": "markdown",
      "source": [
        "### Câu 2: Cách tạo một mảng boolean 3x3 với tất cả giá trị là True\n",
        "* d"
      ],
      "metadata": {
        "id": "yQWeDAfdGgMo"
      }
    },
    {
      "cell_type": "code",
      "source": [
        "arr = np.ones((3 ,3) ) > 0\n",
        "print(arr)"
      ],
      "metadata": {
        "colab": {
          "base_uri": "https://localhost:8080/"
        },
        "id": "ipXXiPvzGhJj",
        "outputId": "463ae860-283d-4f13-f7c3-b4f83368d14f"
      },
      "execution_count": null,
      "outputs": [
        {
          "output_type": "stream",
          "name": "stdout",
          "text": [
            "[[ True  True  True]\n",
            " [ True  True  True]\n",
            " [ True  True  True]]\n"
          ]
        }
      ]
    },
    {
      "cell_type": "code",
      "source": [
        "arr = np . ones ((3 ,3) , dtype = bool )\n",
        "print(arr)"
      ],
      "metadata": {
        "colab": {
          "base_uri": "https://localhost:8080/"
        },
        "id": "cpdfETHnGyP5",
        "outputId": "b92d202c-87de-42b5-afa5-79af88e8eafa"
      },
      "execution_count": null,
      "outputs": [
        {
          "output_type": "stream",
          "name": "stdout",
          "text": [
            "[[ True  True  True]\n",
            " [ True  True  True]\n",
            " [ True  True  True]]\n"
          ]
        }
      ]
    },
    {
      "cell_type": "code",
      "source": [
        "arr = np . full ((3 ,3) , fill_value = True , dtype = bool )\n",
        "print(arr)"
      ],
      "metadata": {
        "colab": {
          "base_uri": "https://localhost:8080/"
        },
        "id": "jrkxr4OvGzYh",
        "outputId": "466f72f8-5646-450b-9f9a-25ec0a551eb4"
      },
      "execution_count": null,
      "outputs": [
        {
          "output_type": "stream",
          "name": "stdout",
          "text": [
            "[[ True  True  True]\n",
            " [ True  True  True]\n",
            " [ True  True  True]]\n"
          ]
        }
      ]
    },
    {
      "cell_type": "markdown",
      "source": [
        "### Câu 3: Kết quả của đoạn code sau đây:\n",
        "```\n",
        "import numpy as np\n",
        "arr = np . arange (0 ,10)\n",
        "print ( arr [ arr %2 == 1])\n",
        "```\n",
        "* a"
      ],
      "metadata": {
        "id": "br-PmDsYHJmt"
      }
    },
    {
      "cell_type": "code",
      "source": [
        "import numpy as np\n",
        "arr = np . arange (0 ,10)\n",
        "print ( arr [ arr %2 == 1])"
      ],
      "metadata": {
        "colab": {
          "base_uri": "https://localhost:8080/"
        },
        "id": "MmTbReWhHeO-",
        "outputId": "20abb43a-13f5-42b5-a9c4-fe3b1bdd3892"
      },
      "execution_count": null,
      "outputs": [
        {
          "output_type": "stream",
          "name": "stdout",
          "text": [
            "[1 3 5 7 9]\n"
          ]
        }
      ]
    },
    {
      "cell_type": "markdown",
      "source": [
        "### Câu 4: Kết quả của đoạn code sau đây:\n",
        "```\n",
        "import numpy as np\n",
        "arr = np . arange (0 ,10)\n",
        "arr [ arr %2 ==1] = -1\n",
        "print ( arr )\n",
        "```\n",
        "* b"
      ],
      "metadata": {
        "id": "AfD8U65_HlEv"
      }
    },
    {
      "cell_type": "code",
      "source": [
        "import numpy as np\n",
        "arr = np . arange (0 ,10)\n",
        "arr [ arr %2 ==1] = -1\n",
        "print ( arr )"
      ],
      "metadata": {
        "colab": {
          "base_uri": "https://localhost:8080/"
        },
        "id": "7PPOm5PwIAJP",
        "outputId": "8fe3e7a5-5409-423a-a17b-5e5a4320ad24"
      },
      "execution_count": null,
      "outputs": [
        {
          "output_type": "stream",
          "name": "stdout",
          "text": [
            "[ 0 -1  2 -1  4 -1  6 -1  8 -1]\n"
          ]
        }
      ]
    },
    {
      "cell_type": "markdown",
      "source": [
        "### Câu 5: Kết quả của đoạn code sau đây\n",
        "```\n",
        "import numpy as np\n",
        "arr = np . arange (10)\n",
        "arr_2d = arr . reshape (2 , -1)\n",
        "print ( arr_2d )\n",
        "```\n",
        "* b"
      ],
      "metadata": {
        "id": "Cl5zVu9XIXSX"
      }
    },
    {
      "cell_type": "code",
      "source": [
        "import numpy as np\n",
        "arr = np . arange (10)\n",
        "arr_2d = arr . reshape (2 , -1)\n",
        "print ( arr_2d )"
      ],
      "metadata": {
        "colab": {
          "base_uri": "https://localhost:8080/"
        },
        "id": "FISnvcICIf5b",
        "outputId": "267b3063-22e9-48d9-b7c8-5b49a72e7312"
      },
      "execution_count": null,
      "outputs": [
        {
          "output_type": "stream",
          "name": "stdout",
          "text": [
            "[[0 1 2 3 4]\n",
            " [5 6 7 8 9]]\n"
          ]
        }
      ]
    },
    {
      "cell_type": "markdown",
      "source": [
        "### Câu 6: Kết quả của đoạn code sau đây\n",
        "```\n",
        "import numpy as np\n",
        "arr1 = np . arange (10) . reshape (2 , -1)\n",
        "arr2 = np . repeat (1 ,10) . reshape (2 , -1)\n",
        "c = np . concatenate ([ arr1 , arr2 ] , axis =0)\n",
        "print (\" Result : \\n\", c )\n",
        "```\n",
        "* a"
      ],
      "metadata": {
        "id": "QqehnRTtI2Ej"
      }
    },
    {
      "cell_type": "code",
      "source": [
        "import numpy as np\n",
        "arr1 = np . arange (10) . reshape (2 , -1)\n",
        "print(arr1)\n",
        "arr2 = np . repeat (1 ,10) . reshape (2 , -1)\n",
        "print(arr2)\n",
        "c = np . concatenate ([ arr1 , arr2 ] , axis =0)\n",
        "print (\" Result : \\n\", c )\n",
        "c = np . concatenate ([ arr1 , arr2 ] , axis =1)\n",
        "print (\" Result : \\n\", c)"
      ],
      "metadata": {
        "colab": {
          "base_uri": "https://localhost:8080/"
        },
        "id": "oqgsZne9JIpx",
        "outputId": "4f4f218c-cd34-46b7-d1c6-1c0ab7ac5290"
      },
      "execution_count": null,
      "outputs": [
        {
          "output_type": "stream",
          "name": "stdout",
          "text": [
            "[[0 1 2 3 4]\n",
            " [5 6 7 8 9]]\n",
            "[[1 1 1 1 1]\n",
            " [1 1 1 1 1]]\n",
            " Result : \n",
            " [[0 1 2 3 4]\n",
            " [5 6 7 8 9]\n",
            " [1 1 1 1 1]\n",
            " [1 1 1 1 1]]\n",
            " Result : \n",
            " [[0 1 2 3 4 1 1 1 1 1]\n",
            " [5 6 7 8 9 1 1 1 1 1]]\n"
          ]
        }
      ]
    },
    {
      "cell_type": "markdown",
      "source": [
        "### Câu 7: Kết quả của đoạn code sau đây\n",
        "```\n",
        "import numpy as np\n",
        "arr1 = np . arange (10) . reshape (2 , -1)\n",
        "arr2 = np . repeat (1 ,10) . reshape (2 , -1)\n",
        "c = np . concatenate ([ arr1 , arr2 ] , axis =1)\n",
        "print (\"C = \", c )\n",
        "```\n",
        "* c"
      ],
      "metadata": {
        "id": "dH4aG96aLU3G"
      }
    },
    {
      "cell_type": "code",
      "source": [
        "import numpy as np\n",
        "arr1 = np . arange (10) . reshape (2 , -1)\n",
        "arr2 = np . repeat (1 ,10) . reshape (2 , -1)\n",
        "c = np . concatenate ([ arr1 , arr2 ] , axis =1)\n",
        "print (\"C = \", c )"
      ],
      "metadata": {
        "colab": {
          "base_uri": "https://localhost:8080/"
        },
        "id": "sjJ00okYLbHm",
        "outputId": "4475cbe4-5990-49bb-d9ab-2ac89c6661a6"
      },
      "execution_count": null,
      "outputs": [
        {
          "output_type": "stream",
          "name": "stdout",
          "text": [
            "C =  [[0 1 2 3 4 1 1 1 1 1]\n",
            " [5 6 7 8 9 1 1 1 1 1]]\n"
          ]
        }
      ]
    },
    {
      "cell_type": "markdown",
      "source": [
        "### Câu 8: Kết quả của đoạn code sau đây\n",
        "```\n",
        "import numpy as np\n",
        "arr = np . array ([1 ,2 ,3])\n",
        "print ( np . repeat ( arr ,3) )\n",
        "print ( np . tile ( arr ,3) )\n",
        "```\n",
        "* a"
      ],
      "metadata": {
        "id": "28UyamQxLqpR"
      }
    },
    {
      "cell_type": "code",
      "source": [
        "import numpy as np\n",
        "arr = np . array ([1 ,2 ,3])\n",
        "print ( np . repeat ( arr ,3) )\n",
        "print ( np . tile ( arr ,3) )"
      ],
      "metadata": {
        "colab": {
          "base_uri": "https://localhost:8080/"
        },
        "id": "VdhN9OM_MLS7",
        "outputId": "3cce73ff-b8cc-47a2-8efb-a34f455a2d88"
      },
      "execution_count": null,
      "outputs": [
        {
          "output_type": "stream",
          "name": "stdout",
          "text": [
            "[1 1 1 2 2 2 3 3 3]\n",
            "[1 2 3 1 2 3 1 2 3]\n"
          ]
        }
      ]
    },
    {
      "cell_type": "markdown",
      "source": [
        "### Câu 9: Kết quả của đoạn code sau đây\n",
        "```\n",
        "import numpy as np\n",
        "a = np . array ([2 ,6 ,1 ,9 ,10 ,3 ,27])\n",
        "index = np . where ((a >=5) &( a <=10) )\n",
        "print (\" result \", a [ index ])\n",
        "```"
      ],
      "metadata": {
        "id": "wX5dqvAbOdNg"
      }
    },
    {
      "cell_type": "code",
      "source": [
        "import numpy as np\n",
        "a = np . array ([2 ,6 ,1 ,9 ,10 ,3 ,27])\n",
        "index = np . where ((a >=5) &( a <=10) )\n",
        "print (\" result \", a [ index ])"
      ],
      "metadata": {
        "colab": {
          "base_uri": "https://localhost:8080/"
        },
        "id": "JZRBSuojOkyL",
        "outputId": "a7f0ae12-8952-4238-901a-8fe25ec47aeb"
      },
      "execution_count": null,
      "outputs": [
        {
          "output_type": "stream",
          "name": "stdout",
          "text": [
            " result  [ 6  9 10]\n"
          ]
        }
      ]
    },
    {
      "cell_type": "markdown",
      "source": [
        "### Câu 10: Kết quả của đoạn code sau đây\n",
        "```\n",
        "import numpy as np\n",
        "\n",
        "def maxx (x , y ) :\n",
        "  if x >= y :\n",
        "    return x\n",
        "  else :\n",
        "    return y\n",
        "\n",
        "a = np . array ([5 ,7 ,9 ,8 ,6 ,4 ,5])\n",
        "b = np . array ([6 ,3 ,4 ,8 ,9 ,7 ,1])\n",
        "\n",
        "pair_max = np . vectorize ( maxx , otypes =[ float ])\n",
        "print ( pair_max (a , b ) )\n",
        "```\n",
        "* d"
      ],
      "metadata": {
        "id": "GIcozbORPCcG"
      }
    },
    {
      "cell_type": "code",
      "source": [
        "import numpy as np\n",
        "\n",
        "def maxx (x , y ) :\n",
        "  if x >= y :\n",
        "    return x\n",
        "  else :\n",
        "    return y\n",
        "\n",
        "a = np . array ([5 ,7 ,9 ,8 ,6 ,4 ,5])\n",
        "b = np . array ([6 ,3 ,4 ,8 ,9 ,7 ,1])\n",
        "\n",
        "pair_max = np . vectorize ( maxx , otypes =[ float ])\n",
        "print ( pair_max (a , b ) )"
      ],
      "metadata": {
        "colab": {
          "base_uri": "https://localhost:8080/"
        },
        "id": "A0qwp7KEPVih",
        "outputId": "4d773164-2d1c-4a77-c9de-2c34c6c98ac2"
      },
      "execution_count": null,
      "outputs": [
        {
          "output_type": "stream",
          "name": "stdout",
          "text": [
            "[6. 7. 9. 8. 9. 7. 5.]\n"
          ]
        }
      ]
    },
    {
      "cell_type": "markdown",
      "source": [
        "### Câu 11: Kết quả của đoạn code sau đây\n",
        "```\n",
        "import numpy as np\n",
        "\n",
        "a = np . array ([5 ,7 ,9 ,8 ,6 ,4 ,5])\n",
        "b = np . array ([6 ,3 ,4 ,8 ,9 ,7 ,1])\n",
        "print (\" Result \", np . where (a <b , b , a ) )\n",
        "```\n",
        "* a ?\n",
        "* 6. 7. 9. 8. 9. 7. 5."
      ],
      "metadata": {
        "id": "HM8HF-m3SgJs"
      }
    },
    {
      "cell_type": "code",
      "source": [
        "import numpy as np\n",
        "\n",
        "a = np . array ([5 ,7 ,9 ,8 ,6 ,4 ,5])\n",
        "b = np . array ([6 ,3 ,4 ,8 ,9 ,7 ,1])\n",
        "\n",
        "print (\" Result \", np . where (a <b , b , a ) )"
      ],
      "metadata": {
        "colab": {
          "base_uri": "https://localhost:8080/"
        },
        "id": "dtQ2vZatSiEz",
        "outputId": "4961e350-b52f-497c-a90b-ba62c531e127"
      },
      "execution_count": null,
      "outputs": [
        {
          "output_type": "stream",
          "name": "stdout",
          "text": [
            " Result  [6 7 9 8 9 7 5]\n"
          ]
        }
      ]
    },
    {
      "cell_type": "markdown",
      "source": [
        "# II - Bài tập 2 - Xử lý ảnh"
      ],
      "metadata": {
        "id": "QujYIUTzTd-B"
      }
    },
    {
      "cell_type": "markdown",
      "source": [
        "Các câu hỏi phần này giải quyết bài toán chuyển ảnh màu về ảnh xám. Ví dụ được mô tả như hình sau:\n",
        "<img src = 'https://drive.google.com/uc?id=1vC8Vs4V1b-99YzRqaep2GrTUAhwk6nAZ'>\n",
        "**Hình 1: Chuyển ảnh màu thành ảnh xám**\n",
        "Ảnh sẽ được biểu diễn bởi tập các điểm ảnh (Pixel) có giá trị từ 0 đến 255. Ảnh màu sẽ được biểu\n",
        "diễn thành ma trận có kích thước (Height, Width, Channel); trong đó số Channel là 3 tương ứng là giá\n",
        "trị biểu diễn cho các kênh màu R-Red, G-Green, B-Blue. Ảnh xám sẽ được biểu diễn thành ma trận\n",
        "có kích thước (Height, Width). Vì vậy, để chuyển ảnh màu thành ảnh xám, chúng ta sẽ tổng hợp từ 3\n",
        "kênh màu RGB thành 1 giá trị duy nhất trong khoảng 0 đến 255. Có 3 phương pháp chính để tính giá\n",
        "trị chuyển đổi:\n",
        "* Lightness: Tính giá trị trung bình của giá trị lớn nhất và nhỏ nhất cho các kênh màu: ```(max(R,G,B) + min(R,G,B))/2```\n",
        "* Average: Tính giá trị trung bình của 3 kênh màu: ```(R+G+B)/3```\n",
        "* Luminosity: Nhân hệ số tương ứng của 3 kênh màu như sau: ```0.21*R + 0.72*G + 0.07*B```"
      ],
      "metadata": {
        "id": "PRhVK_fZTtNK"
      }
    },
    {
      "cell_type": "markdown",
      "source": [
        "### Câu 12: Hoàn thành đoạn code sau đây để chuyển ảnh màu sang ảnh xám dựa vào phương pháp Lightness:\n",
        "\n",
        "Choose a)\n",
        "\n",
        "```\n",
        "# Download image\n",
        "! gdown 1 i9dqan21DjQoG5Q_VEvm0LrVwAlXD0vB\n",
        "\n",
        "import matplotlib . image as mpimg\n",
        "img = mpimg . imread (’/ content /dog. jpeg ’)\n",
        "gray_img_01 = # Your Code Here\n",
        "gray_img_01 [0 , 0]\n",
        "```"
      ],
      "metadata": {
        "id": "cOxCNU-iVZmh"
      }
    },
    {
      "cell_type": "code",
      "source": [
        "# Download image\n",
        "! gdown 1i9dqan21DjQoG5Q_VEvm0LrVwAlXD0vB\n",
        "\n"
      ],
      "metadata": {
        "colab": {
          "base_uri": "https://localhost:8080/"
        },
        "id": "KB8VmMo-U8i1",
        "outputId": "74b73b8b-180f-419d-d7ba-602b08e07a60"
      },
      "execution_count": 2,
      "outputs": [
        {
          "output_type": "stream",
          "name": "stdout",
          "text": [
            "Downloading...\n",
            "From: https://drive.google.com/uc?id=1i9dqan21DjQoG5Q_VEvm0LrVwAlXD0vB\n",
            "To: /content/dog.jpeg\n",
            "\r  0% 0.00/33.7k [00:00<?, ?B/s]\r100% 33.7k/33.7k [00:00<00:00, 65.0MB/s]\n"
          ]
        },
        {
          "output_type": "execute_result",
          "data": {
            "text/plain": [
              "169.5"
            ]
          },
          "metadata": {},
          "execution_count": 2
        }
      ]
    },
    {
      "cell_type": "code",
      "source": [
        "import matplotlib.image as mpimg\n",
        "img = mpimg.imread('/content/dog.jpeg')\n",
        "gray_img_01 = (img.max(axis=2) + img.min(axis=2))/2\n",
        "gray_img_01[0, 0]"
      ],
      "metadata": {
        "colab": {
          "base_uri": "https://localhost:8080/"
        },
        "id": "xZoOUSivviE4",
        "outputId": "4ceffdfc-0eda-4c29-a9ec-9fd3bdaad2d9"
      },
      "execution_count": 7,
      "outputs": [
        {
          "output_type": "execute_result",
          "data": {
            "text/plain": [
              "102.5"
            ]
          },
          "metadata": {},
          "execution_count": 7
        }
      ]
    },
    {
      "cell_type": "markdown",
      "source": [
        "### Câu 13: Hoàn thành đoạn code sau đây để chuyển ảnh màu sang ảnh xám dựa vào phương pháp Average:\n",
        "\n",
        "Choose a)\n",
        "\n",
        "```\n",
        "# Download image\n",
        "! gdown 1i9dqan21DjQoG5Q_VEvm0LrVwAlXD0vB\n",
        "\n",
        "import matplotlib . image as mpimg\n",
        "img = mpimg . imread ('/content/dog.jpeg')\n",
        "gray_img_02 = # Your Code Here\n",
        "gray_img_02 [0 , 0]\n",
        "```"
      ],
      "metadata": {
        "id": "kg55adW_WSff"
      }
    },
    {
      "cell_type": "code",
      "source": [
        "import matplotlib . image as mpimg\n",
        "img = mpimg . imread ('/content/dog.jpeg')\n",
        "gray_img_02 = img.mean(axis=2)\n",
        "gray_img_02 [0 , 0]"
      ],
      "metadata": {
        "colab": {
          "base_uri": "https://localhost:8080/"
        },
        "id": "-sbWHdHmvquM",
        "outputId": "4879a3f0-6849-42a7-ccc0-86df1009fbf4"
      },
      "execution_count": 5,
      "outputs": [
        {
          "output_type": "execute_result",
          "data": {
            "text/plain": [
              "107.66666666666667"
            ]
          },
          "metadata": {},
          "execution_count": 5
        }
      ]
    },
    {
      "cell_type": "markdown",
      "source": [
        "### Câu 14: Hoàn thành đoạn code sau đây để chuyển ảnh màu sang ảnh xám dựa vào phương pháp Luminosity:\n",
        "\n",
        "Choose c)\n",
        "\n",
        "```\n",
        "# Download image\n",
        "! gdown 1i9dqan21DjQoG5Q_VEvm0LrVwAlXD0vB\n",
        "\n",
        "import matplotlib.image as mpimg\n",
        "img = mpimg . imread ('/content/dog.jpeg')\n",
        "gray_img_03 = # Your Code Here\n",
        "gray_img_03 [0 , 0]\n",
        "```"
      ],
      "metadata": {
        "id": "jzLk7qNHWn55"
      }
    },
    {
      "cell_type": "code",
      "source": [
        "import matplotlib.image as mpimg\n",
        "img = mpimg . imread ('/content/dog.jpeg')\n",
        "gray_img_03 = 0.21*img[:,:,0] + 0.72*img[:,:,1] + 0.07*img[:,:,2]\n",
        "gray_img_03 [0 , 0]"
      ],
      "metadata": {
        "id": "GsN6tMCVW4bA",
        "colab": {
          "base_uri": "https://localhost:8080/"
        },
        "outputId": "a676ea06-b571-474a-cbdf-b3bcffc9e44b"
      },
      "execution_count": 6,
      "outputs": [
        {
          "output_type": "execute_result",
          "data": {
            "text/plain": [
              "126.22999999999999"
            ]
          },
          "metadata": {},
          "execution_count": 6
        }
      ]
    },
    {
      "cell_type": "markdown",
      "source": [
        "# III - Bài tập 3: Phân tích dữ liệu dạng bảng\n",
        "Các câu hỏi phần này ứng dụng numpy trong phân tích dữ liệu dạng bảng, được mô tả gồm các cột và một số hàng như sau:\n",
        "<img src='https://drive.google.com/uc?id=1E0vZ0AXdoGiiMOlkVhQvtFmo_2fEAq6k'>\n",
        "**Hình 2: Dữ liệu Advertising dạng bảng.**\n",
        "\n",
        "Dựa vào đoạn code sau để tải về dữ liệu và thực hiện các đoạn code cho các các câu hỏi sau để chọn đáp án đúng:\n",
        "```\n",
        "# Download data\n",
        "! gdown 1iA0WmVfW88HyJvTBSQDI5vesf-pgKabq\n",
        "import pandas as pd\n",
        "df = pd . read_csv ('/content/advertising.csv')\n",
        "\n",
        "data = df . to_numpy ()\n",
        "```"
      ],
      "metadata": {
        "id": "5xfNUs6RW91n"
      }
    },
    {
      "cell_type": "code",
      "source": [
        "! gdown 1iA0WmVfW88HyJvTBSQDI5vesf-pgKabq\n"
      ],
      "metadata": {
        "id": "JOMhYPv1YFQm",
        "colab": {
          "base_uri": "https://localhost:8080/"
        },
        "outputId": "bccd78ec-df54-4ea2-ffb3-5836a9aaf474"
      },
      "execution_count": 8,
      "outputs": [
        {
          "output_type": "stream",
          "name": "stdout",
          "text": [
            "Downloading...\n",
            "From: https://drive.google.com/uc?id=1iA0WmVfW88HyJvTBSQDI5vesf-pgKabq\n",
            "To: /content/advertising.csv\n",
            "\r  0% 0.00/4.06k [00:00<?, ?B/s]\r100% 4.06k/4.06k [00:00<00:00, 12.6MB/s]\n"
          ]
        }
      ]
    },
    {
      "cell_type": "code",
      "source": [
        "import pandas as pd\n",
        "df = pd . read_csv ('/content/advertising.csv')\n",
        "\n",
        "data = df . to_numpy ()"
      ],
      "metadata": {
        "id": "jxBZM28x158M"
      },
      "execution_count": 9,
      "outputs": []
    },
    {
      "cell_type": "markdown",
      "source": [
        "### Câu hỏi 15:\n",
        "Lấy giá trị lớn nhất và chỉ mục tương ứng của nó trên cột Sales\n",
        "\n",
        "Choose c)"
      ],
      "metadata": {
        "id": "b-m8QQlNYYYL"
      }
    },
    {
      "cell_type": "code",
      "source": [
        "import numpy as np\n",
        "max_sales_index = np.argmax(data[:,3])\n",
        "max_sales_value = data[max_sales_index,3]\n",
        "print(max_sales_index, max_sales_value)"
      ],
      "metadata": {
        "colab": {
          "base_uri": "https://localhost:8080/"
        },
        "id": "eGGsRdFU2gPd",
        "outputId": "e1ad5864-7c49-4ab2-85d4-c94d194c20f4"
      },
      "execution_count": 14,
      "outputs": [
        {
          "output_type": "stream",
          "name": "stdout",
          "text": [
            "175 27.0\n"
          ]
        }
      ]
    },
    {
      "cell_type": "markdown",
      "source": [
        "### Câu hỏi 16:\n",
        "Giá trị trung bình của cột TV là\n",
        "\n",
        "Choose b)"
      ],
      "metadata": {
        "id": "rtvwKv-VYfZL"
      }
    },
    {
      "cell_type": "code",
      "source": [
        "import numpy as np\n",
        "tv_avg = np.mean(data[:,0])\n",
        "print(tv_avg)"
      ],
      "metadata": {
        "colab": {
          "base_uri": "https://localhost:8080/"
        },
        "id": "vprJMH6RB5Rd",
        "outputId": "843bb2d8-78bc-4983-c3a6-c8d68a4edd6f"
      },
      "execution_count": 16,
      "outputs": [
        {
          "output_type": "stream",
          "name": "stdout",
          "text": [
            "147.0425\n"
          ]
        }
      ]
    },
    {
      "cell_type": "markdown",
      "source": [
        "### Câu hỏi 17:\n",
        "Số lượng bản ghi có giá trị tại cột Sales lớn hơn hoặc bằng 20 là:\n",
        "\n",
        "Choose a)"
      ],
      "metadata": {
        "id": "x-2p81R0YiYa"
      }
    },
    {
      "cell_type": "code",
      "source": [
        "import numpy as np\n",
        "count = np.count_nonzero(data[:,3]>=20)\n",
        "print(count)"
      ],
      "metadata": {
        "colab": {
          "base_uri": "https://localhost:8080/"
        },
        "id": "ZlVUjnyaCMt5",
        "outputId": "dc48130a-3a08-4ce8-e07b-2be56dcd55d5"
      },
      "execution_count": 17,
      "outputs": [
        {
          "output_type": "stream",
          "name": "stdout",
          "text": [
            "40\n"
          ]
        }
      ]
    },
    {
      "cell_type": "markdown",
      "source": [
        "### Câu hỏi 18:\n",
        "Tính giá trị trung bình của cột Radio thoả mãn điều kiện giá trị tương ứng trên cột Sales lớn hơn hoặc bằng 15:\n",
        "\n",
        "Choose b)"
      ],
      "metadata": {
        "id": "TfkzAsqOYmRx"
      }
    },
    {
      "cell_type": "code",
      "source": [
        "import numpy as np\n",
        "radio_avg = np.mean(data[data[:,3]>=15,1])\n",
        "print(radio_avg)"
      ],
      "metadata": {
        "colab": {
          "base_uri": "https://localhost:8080/"
        },
        "id": "CNpcaOsCCY62",
        "outputId": "519a37c4-5be1-4054-b8eb-9c53317f2f97"
      },
      "execution_count": 18,
      "outputs": [
        {
          "output_type": "stream",
          "name": "stdout",
          "text": [
            "26.22293577981651\n"
          ]
        }
      ]
    },
    {
      "cell_type": "markdown",
      "source": [
        "### Câu hỏi 19:\n",
        "Tính tổng các hàng của cột Sales với điều kiện giá trị Newspaper lớn hơn giá trị trung bình của cột Newspaper:\n",
        "\n",
        "Choose c)"
      ],
      "metadata": {
        "id": "W6kuEzl4YqC8"
      }
    },
    {
      "cell_type": "code",
      "source": [
        "import numpy as np\n",
        "sales_sum = np.sum(data[data[:,2]>np.mean(data[:,2]),3])\n",
        "print(sales_sum)"
      ],
      "metadata": {
        "colab": {
          "base_uri": "https://localhost:8080/"
        },
        "id": "OhEZC_v9CveF",
        "outputId": "02531b42-3f9b-4beb-b012-3df8829714d9"
      },
      "execution_count": 19,
      "outputs": [
        {
          "output_type": "stream",
          "name": "stdout",
          "text": [
            "1405.1\n"
          ]
        }
      ]
    },
    {
      "cell_type": "markdown",
      "source": [
        "### Câu hỏi 20:\n",
        "Gọi giá trị trung bình của cột Sales là A. Tạo ra mảng mới scores chứa các giá trị Good, Average và Bad sao cho: nếu giá trị hiện tại > A => giá trị trong mảng mới là Good, < A thì sẽ là Bad và = A sẽ là Average. Sau đó in ra kết quả scores[7:10]\n",
        "\n",
        "Choose c)"
      ],
      "metadata": {
        "id": "3Cm--Fy3YvNy"
      }
    },
    {
      "cell_type": "code",
      "source": [
        "data[7:10]"
      ],
      "metadata": {
        "colab": {
          "base_uri": "https://localhost:8080/"
        },
        "id": "A53AxrsuIh2C",
        "outputId": "61c4a8a9-ae99-4e57-fdae-e5638c439d74"
      },
      "execution_count": 30,
      "outputs": [
        {
          "output_type": "execute_result",
          "data": {
            "text/plain": [
              "array([[120.2,  19.6,  11.6,  13.2],\n",
              "       [  8.6,   2.1,   1. ,   4.8],\n",
              "       [199.8,   2.6,  21.2,  15.6]])"
            ]
          },
          "metadata": {},
          "execution_count": 30
        }
      ]
    },
    {
      "cell_type": "code",
      "source": [
        "import numpy as np\n",
        "sales_avg = np.mean(data[:,3])\n",
        "print(sales_avg)\n",
        "scores = np.where(data[:,3]>sales_avg, 'Good', np.where(data[:,3]<sales_avg, 'Bad', 'Average'))\n",
        "scores[7:10]"
      ],
      "metadata": {
        "colab": {
          "base_uri": "https://localhost:8080/"
        },
        "id": "xARk7N3xFmUX",
        "outputId": "a8d2e9a0-4bc7-42c5-c7f5-5d64590e3cc8"
      },
      "execution_count": 31,
      "outputs": [
        {
          "output_type": "stream",
          "name": "stdout",
          "text": [
            "15.130500000000001\n"
          ]
        },
        {
          "output_type": "execute_result",
          "data": {
            "text/plain": [
              "array(['Bad', 'Bad', 'Good'], dtype='<U7')"
            ]
          },
          "metadata": {},
          "execution_count": 31
        }
      ]
    },
    {
      "cell_type": "markdown",
      "source": [
        "### Câu hỏi 21:\n",
        "Gọi giá trị trên cột Sales gần nhất với giá trị trung bình cũng chính cột Sales là A. Tạo ra mảng mới scores chứa các giá trị Good, Average và Bad sao cho: nếu\n",
        "giá trị hiện tại > A => giá trị trong mảng mới là Good, < A thì sẽ là Bad và = A sẽ là Average. Sau đó in ra kết quả scores[7:10]\n",
        "\n",
        "Choose c)"
      ],
      "metadata": {
        "id": "1OdaciqWY1_h"
      }
    },
    {
      "cell_type": "code",
      "source": [
        "import numpy as np\n",
        "\n",
        "sales = data[:, 3]\n",
        "\n",
        "average_sales = np.mean(sales)\n",
        "print(average_sales)\n",
        "closest_to_average = sales[np.abs(sales - average_sales).argmin()]\n",
        "print(closest_to_average)\n",
        "\n",
        "scores = np.where(sales > closest_to_average, 'Good',\n",
        "                 np.where(sales < closest_to_average, 'Bad', 'Average'))\n",
        "\n",
        "scores[7:10]"
      ],
      "metadata": {
        "id": "gfzetsNyY5Ny",
        "colab": {
          "base_uri": "https://localhost:8080/"
        },
        "outputId": "ea8c16f4-d1e4-4887-a73f-470500a98f25"
      },
      "execution_count": 29,
      "outputs": [
        {
          "output_type": "stream",
          "name": "stdout",
          "text": [
            "15.130500000000001\n",
            "15.2\n"
          ]
        },
        {
          "output_type": "execute_result",
          "data": {
            "text/plain": [
              "array(['Bad', 'Bad', 'Good'], dtype='<U7')"
            ]
          },
          "metadata": {},
          "execution_count": 29
        }
      ]
    }
  ]
}