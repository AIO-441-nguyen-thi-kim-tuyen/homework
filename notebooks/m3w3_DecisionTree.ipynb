{
  "nbformat": 4,
  "nbformat_minor": 0,
  "metadata": {
    "colab": {
      "provenance": []
    },
    "kernelspec": {
      "name": "python3",
      "display_name": "Python 3"
    },
    "language_info": {
      "name": "python"
    }
  },
  "cells": [
    {
      "cell_type": "markdown",
      "source": [
        "# 1. Decision Tree for Classification"
      ],
      "metadata": {
        "id": "lyUSc2w1zBaT"
      }
    },
    {
      "cell_type": "markdown",
      "source": [
        "Dòng lệnh nào sau đây để tải về bộ dữ liệu Iris từ thư viện ‘sklearn’ là?\n",
        "\n",
        "*   a) iris_X, iris_y = datasets.load_iris(return_X_y=True)\n",
        "*   b) iris_X, iris_y = datasets.load_iris()\n",
        "*   c) iris_X, iris_y = datasets.load_iris_data(return_X_y=True)\n",
        "*   d) iris_X, iris_y = datasets.load_iris_data()"
      ],
      "metadata": {
        "id": "KqfmG-fuyG-b"
      }
    },
    {
      "cell_type": "code",
      "execution_count": 2,
      "metadata": {
        "colab": {
          "base_uri": "https://localhost:8080/"
        },
        "id": "Z_jF2haypwuw",
        "outputId": "f48b00fd-1b9e-4a6f-cc21-b5581c59da71"
      },
      "outputs": [
        {
          "output_type": "execute_result",
          "data": {
            "text/plain": [
              "1.0"
            ]
          },
          "metadata": {},
          "execution_count": 2
        }
      ],
      "source": [
        "from sklearn import datasets\n",
        "from sklearn . model_selection import train_test_split\n",
        "from sklearn . metrics import accuracy_score\n",
        "from sklearn . tree import DecisionTreeClassifier\n",
        "\n",
        "#Paragraph C :\n",
        "# Load the diabetes dataset\n",
        "iris_X , iris_y = datasets.load_iris ( return_X_y = True )\n",
        "\n",
        "#Paragraph B :\n",
        "# Define model\n",
        "dt_classifier = DecisionTreeClassifier ()\n",
        "\n",
        "# Split train : test = 8:2\n",
        "X_train , X_test , y_train , y_test = train_test_split (iris_X , iris_y ,test_size =0.2 , random_state =42)\n",
        "\n",
        "# Paragraph A :\n",
        "# Train\n",
        "dt_classifier . fit ( X_train , y_train )\n",
        "\n",
        "\n",
        "\n",
        "#Paragraph D :\n",
        "# Preidct and evaluate\n",
        "y_pred = dt_classifier . predict ( X_test )\n",
        "accuracy_score ( y_test , y_pred )"
      ]
    },
    {
      "cell_type": "markdown",
      "source": [
        "# 2. Decision Tree for Regression"
      ],
      "metadata": {
        "id": "CD9natNd0YNR"
      }
    },
    {
      "cell_type": "code",
      "source": [
        "from sklearn . datasets import fetch_openml\n",
        "from sklearn . model_selection import train_test_split\n",
        "from sklearn . metrics import mean_squared_error\n",
        "from sklearn . tree import DecisionTreeRegressor\n",
        "\n",
        "#Paragraph C :\n",
        "# Load dataset\n",
        "machine_cpu = fetch_openml ( name ='machine_cpu')\n",
        "machine_data = machine_cpu . data\n",
        "machine_labels = machine_cpu . target\n",
        "# Split train : test = 8:2\n",
        "X_train , X_test , y_train , y_test = train_test_split (machine_data , machine_labels ,test_size =0.2 , random_state =42)\n",
        "\n",
        "#Paragraph B :\n",
        "# Define model\n",
        "tree_reg = DecisionTreeRegressor ()\n",
        "\n",
        "#Paragraph A :\n",
        "# Train\n",
        "tree_reg . fit ( X_train , y_train )\n",
        "\n",
        "#Paragraph D :\n",
        "# Preidct and evaluate\n",
        "y_pred = tree_reg . predict ( X_test )\n",
        "mean_squared_error ( y_test , y_pred )"
      ],
      "metadata": {
        "colab": {
          "base_uri": "https://localhost:8080/"
        },
        "id": "7ChDNT-s0acP",
        "outputId": "96a04697-de84-4840-b590-17ae710e2933"
      },
      "execution_count": 3,
      "outputs": [
        {
          "output_type": "stream",
          "name": "stderr",
          "text": [
            "/usr/local/lib/python3.10/dist-packages/sklearn/datasets/_openml.py:311: UserWarning: Multiple active versions of the dataset matching the name machine_cpu exist. Versions may be fundamentally different, returning version 1.\n",
            "  warn(\n",
            "/usr/local/lib/python3.10/dist-packages/sklearn/datasets/_openml.py:1022: FutureWarning: The default value of `parser` will change from `'liac-arff'` to `'auto'` in 1.4. You can set `parser='auto'` to silence this warning. Therefore, an `ImportError` will be raised from 1.4 if the dataset is dense and pandas is not installed. Note that the pandas parser may return different data types. See the Notes Section in fetch_openml's API doc for details.\n",
            "  warn(\n"
          ]
        },
        {
          "output_type": "execute_result",
          "data": {
            "text/plain": [
              "9148.597883597884"
            ]
          },
          "metadata": {},
          "execution_count": 3
        }
      ]
    }
  ]
}