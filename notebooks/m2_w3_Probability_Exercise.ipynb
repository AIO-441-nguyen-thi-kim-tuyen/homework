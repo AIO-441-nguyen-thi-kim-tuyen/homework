{
  "nbformat": 4,
  "nbformat_minor": 0,
  "metadata": {
    "colab": {
      "provenance": []
    },
    "kernelspec": {
      "name": "python3",
      "display_name": "Python 3"
    },
    "language_info": {
      "name": "python"
    }
  },
  "cells": [
    {
      "cell_type": "markdown",
      "source": [
        "[<img src=\"../images/colab-badge.svg\">](https://colab.research.google.com/drive/1FJlfd0TCBPclz2ahHgl5Fxld4CCGsaBF?usp=sharing)"
      ],
      "metadata": {
        "id": "2ZWdjnrQFmDM"
      }
    },
    {
      "cell_type": "markdown",
      "source": [
        "[<img src=\"https://colab.research.google.com/assets/colab-badge.svg\\\">](https://colab.research.google.com/drive/1FJlfd0TCBPclz2ahHgl5Fxld4CCGsaBF?usp=sharing)"
      ],
      "metadata": {
        "id": "yaNBhX86FrRH"
      }
    },
    {
      "cell_type": "markdown",
      "source": [
        "## 4. PLAY TENNIS CLASSIFIER IMPLEMENTATION"
      ],
      "metadata": {
        "id": "Xv7KwH_TEyt7"
      }
    },
    {
      "cell_type": "markdown",
      "source": [
        "Cho trước dữ liệu thời tiết của 10 ngày (D1-D10, như bảng 1). Hãy phát triển chương trình sử dụng mô hình phân loại Naive Bayes để dự đoán xem ngày thứ 11 (D11), AD có thể chơi tennis hay không?"
      ],
      "metadata": {
        "id": "E_gNJ2tEE8BR"
      }
    },
    {
      "cell_type": "markdown",
      "source": [
        "![](https://drive.google.com/uc?export=view&id=1mYBtBpKWIzruZw72pRc0_L1uNU1j9vjO)"
      ],
      "metadata": {
        "id": "s9Bt0Ap9FRNk"
      }
    },
    {
      "cell_type": "markdown",
      "source": [
        "### 4.1 Hoàn thiện function create_train_dataset() để tổ chức dữ liệu bảng 1 vào array 2 chiều như bên dưới."
      ],
      "metadata": {
        "id": "H8Vo7vUriudX"
      }
    },
    {
      "cell_type": "code",
      "execution_count": 7,
      "metadata": {
        "colab": {
          "base_uri": "https://localhost:8080/"
        },
        "id": "4SVCiUqRs8gL",
        "outputId": "d085ecee-23d3-4787-a83a-66ad5767e823"
      },
      "outputs": [
        {
          "output_type": "stream",
          "name": "stdout",
          "text": [
            "[0. 0.]\n",
            "[['Sunny' 'Hot' 'High' 'Weak' 'no']\n",
            " ['Sunny' 'Hot' 'High' 'Strong' 'no']\n",
            " ['Overcast' 'Hot' 'High' 'Weak' 'yes']\n",
            " ['Rain' 'Mild' 'High' 'Weak' 'yes']\n",
            " ['Rain' 'Cool' 'Normal' 'Weak' 'yes']\n",
            " ['Rain' 'Cool' 'Normal' 'Strong' 'no']\n",
            " ['Overcast' 'Cool' 'Normal' 'Strong' 'yes']\n",
            " ['Overcast' 'Mild' 'High' 'Weak' 'no']\n",
            " ['Sunny' 'Cool' 'Normal' 'Weak' 'yes']\n",
            " ['Rain' 'Mild' 'Normal' 'Weak' 'yes']]\n"
          ]
        }
      ],
      "source": [
        "# ########################\n",
        "# Create data\n",
        "# ########################\n",
        "import numpy as np\n",
        "\n",
        "def create_train_data () :\n",
        "# your code here ************************\n",
        "  data = [[ 'Sunny', 'Hot', 'High', 'Weak', 'no'],\n",
        "   ['Sunny', 'Hot', 'High', 'Strong', 'no'],\n",
        "   ['Overcast', 'Hot', 'High', 'Weak', 'yes'],\n",
        "   ['Rain', 'Mild', 'High', 'Weak', 'yes'],\n",
        "   ['Rain', 'Cool', 'Normal', 'Weak', 'yes'],\n",
        "   ['Rain', 'Cool', 'Normal', 'Strong', 'no'],\n",
        "   ['Overcast', 'Cool', 'Normal', 'Strong', 'yes'],\n",
        "   ['Overcast', 'Mild', 'High', 'Weak', 'no'],\n",
        "   ['Sunny', 'Cool', 'Normal', 'Weak', 'yes'],\n",
        "   ['Rain', 'Mild', 'Normal', 'Weak', 'yes']]\n",
        "  return np . array ( data )\n",
        "\n",
        "train_data = create_train_data ()\n",
        "print ( train_data )\n"
      ]
    },
    {
      "cell_type": "markdown",
      "source": [
        "### 4.2. Hoàn thiện function compute_prior_probability tính P(\"Play Tennis\" = \"Yes\") and tính P(\"Play Tennis\" = \"No\") như bên dưới:"
      ],
      "metadata": {
        "id": "AcqlAsPVi_RF"
      }
    },
    {
      "cell_type": "code",
      "source": [
        "def compute_prior_probablity ( train_data ) :\n",
        "  y_unique = np.unique ( train_data [ : , -1 ] )\n",
        "  #print(y_unique)\n",
        "  prior_probability = np . zeros ( len ( y_unique ) )\n",
        "  train_data_len = len ( train_data )\n",
        "  for i in range ( len ( prior_probablity ) ) :\n",
        "    prior_probability[i] = len(np.where ( train_data[:,-1] == y_unique[i])[0]) / train_data_len\n",
        "\n",
        "  #print(prior_probability)\n",
        "  return prior_probability\n",
        "\n",
        "prior_probablity = compute_prior_probablity ( train_data )\n",
        "print (\"P( play tennis = No)\" , prior_probablity [0])\n",
        "print (\"P( play tennis = Yes)\" , prior_probablity [1])"
      ],
      "metadata": {
        "colab": {
          "base_uri": "https://localhost:8080/"
        },
        "id": "QJfCsWtli88c",
        "outputId": "dbb1f467-76f1-4611-cc7c-39c6f513c575"
      },
      "execution_count": 42,
      "outputs": [
        {
          "output_type": "stream",
          "name": "stdout",
          "text": [
            "P( play tennis = No) 0.4\n",
            "P( play tennis = Yes) 0.6\n"
          ]
        }
      ]
    },
    {
      "cell_type": "markdown",
      "source": [
        "### 4.3. Hoàn thiện function compute_conditional_probability để tính likelihood (The probability of \"A\" being True. Given \"B\" True, P(A|B)) như bên dưới:"
      ],
      "metadata": {
        "id": "DJuKvmRV9_dP"
      }
    },
    {
      "cell_type": "code",
      "source": [
        "def compute_conditional_probability ( train_data ) :\n",
        "  y_unique = np.unique ( train_data [ : , -1 ] )\n",
        "  conditional_probability = []\n",
        "  list_x_name = []\n",
        "  for i in range (0 , train_data . shape [1] -1) :\n",
        "    x_unique = np . unique ( train_data [: , i ])\n",
        "    list_x_name . append ( x_unique )\n",
        "\n",
        "    x_conditional_probability = np . zeros ( ( len ( y_unique ) , len ( x_unique ) ) )\n",
        "    for j in range (0 , len ( y_unique )) :\n",
        "      for k in range (0 , len ( x_unique )) :\n",
        "        x_conditional_probability[j, k] =  len(np.where ( ( train_data [ : , i ] == x_unique [k] ) & ( train_data [ : , -1 ] == y_unique [j] ) )[0]) / len(np.where ( train_data [ : , -1 ] == y_unique [j] )[0])\n",
        "\n",
        "    conditional_probability . append ( x_conditional_probability )\n",
        "  return conditional_probability , list_x_name"
      ],
      "metadata": {
        "id": "FhSlW_gF9_67"
      },
      "execution_count": 16,
      "outputs": []
    },
    {
      "cell_type": "code",
      "source": [
        "## Question 15\n",
        "train_data = create_train_data ()\n",
        "_ , list_x_name = compute_conditional_probability ( train_data )\n",
        "print (\"x1 = \", list_x_name [0])\n",
        "print (\"x2 = \", list_x_name [1])\n",
        "print (\"x3 = \", list_x_name [2])\n",
        "print (\"x4 = \", list_x_name [3])"
      ],
      "metadata": {
        "colab": {
          "base_uri": "https://localhost:8080/"
        },
        "id": "ROUdUhS_HXhZ",
        "outputId": "04e5a332-678b-4957-cf6d-0e071b102a09"
      },
      "execution_count": 20,
      "outputs": [
        {
          "output_type": "stream",
          "name": "stdout",
          "text": [
            "x1 =  ['Overcast' 'Rain' 'Sunny']\n",
            "x2 =  ['Cool' 'Hot' 'Mild']\n",
            "x3 =  ['High' 'Normal']\n",
            "x4 =  ['Strong' 'Weak']\n"
          ]
        }
      ]
    },
    {
      "cell_type": "markdown",
      "source": [
        "### 4.4. Hoàn thiện function get_index_from_value để tính trả về index tương ứng với feature name:"
      ],
      "metadata": {
        "id": "ipBEsr83Iggy"
      }
    },
    {
      "cell_type": "code",
      "source": [
        "# This function is used to return the index of the feature name\n",
        "def get_index_from_value ( feature_name , list_features ) :\n",
        "  #print (np . where ( list_features == feature_name ))\n",
        "  return np . where ( list_features == feature_name ) [0][0]"
      ],
      "metadata": {
        "id": "ruji88c9IhsH"
      },
      "execution_count": 30,
      "outputs": []
    },
    {
      "cell_type": "code",
      "source": [
        "## Question 16\n",
        "train_data = create_train_data ()\n",
        "_ , list_x_name = compute_conditional_probability ( train_data )\n",
        "outlook = list_x_name [0]\n",
        "print ( outlook )\n",
        "\n",
        "i1 = get_index_from_value (\"Overcast\", outlook )\n",
        "i2 = get_index_from_value (\"Rain\", outlook )\n",
        "i3 = get_index_from_value (\"Sunny\", outlook )\n",
        "\n",
        "print ( i1 , i2 , i3 )"
      ],
      "metadata": {
        "colab": {
          "base_uri": "https://localhost:8080/"
        },
        "id": "LcYms78FJyzP",
        "outputId": "1c9fe96f-7b91-45b7-b8ca-c633e208baa0"
      },
      "execution_count": 31,
      "outputs": [
        {
          "output_type": "stream",
          "name": "stdout",
          "text": [
            "['Overcast' 'Rain' 'Sunny']\n",
            "0 1 2\n"
          ]
        }
      ]
    },
    {
      "cell_type": "code",
      "source": [
        "## Question 17\n",
        "train_data = create_train_data ()\n",
        "conditional_probability , list_x_name = compute_conditional_probability ( train_data )\n",
        "# Compute P(\" Outlook \"=\" Sunny \"| Play Tennis \"=\" Yes \")\n",
        "x1 = get_index_from_value (\"Sunny\", list_x_name [0])\n",
        "print (\"P( 'Outlook'= 'Sunny'| 'Play Tennis'= 'Yes') = \", np . round ( conditional_probability[0][1 , x1 ] ,2) )"
      ],
      "metadata": {
        "colab": {
          "base_uri": "https://localhost:8080/"
        },
        "id": "eSVNeKlJO4MS",
        "outputId": "501a201a-4093-4136-bb5d-3886b133f607"
      },
      "execution_count": 34,
      "outputs": [
        {
          "output_type": "stream",
          "name": "stdout",
          "text": [
            "P( 'Outlook'= 'Sunny'| 'Play Tennis'= 'Yes') =  0.17\n"
          ]
        }
      ]
    },
    {
      "cell_type": "code",
      "source": [
        "## Question 18\n",
        "train_data = create_train_data ()\n",
        "conditional_probability , list_x_name = compute_conditional_probability ( train_data )\n",
        "# Compute P(\" Outlook \"=\" Sunny \"| Play Tennis \"=\" No \")\n",
        "x1 = get_index_from_value (\"Sunny\", list_x_name [0])\n",
        "print (\"P( 'Outlook'= 'Sunny'| 'Play Tennis'= 'No') = \", np . round ( conditional_probability[0][0 , x1 ] ,2) )"
      ],
      "metadata": {
        "colab": {
          "base_uri": "https://localhost:8080/"
        },
        "id": "F0FjgZL7PnPa",
        "outputId": "2c8db266-64f6-4628-c68f-07b3ec95dfef"
      },
      "execution_count": 35,
      "outputs": [
        {
          "output_type": "stream",
          "name": "stdout",
          "text": [
            "P( 'Outlook'= 'Sunny'| 'Play Tennis'= 'No') =  0.5\n"
          ]
        }
      ]
    },
    {
      "cell_type": "markdown",
      "source": [
        "## 4.5. Hoàn thiện function train_naive_bayes như bên dưới:"
      ],
      "metadata": {
        "id": "12Az89t-RPTs"
      }
    },
    {
      "cell_type": "code",
      "source": [
        "# ##########################\n",
        "# Train Naive Bayes Model\n",
        "# ##########################\n",
        "def train_naive_bayes ( train_data ) :\n",
        "  # Step 1: Calculate Prior Probability\n",
        "  y_unique = np.unique ( train_data [ : , -1 ] )\n",
        "  #print(y_unique)\n",
        "  #y_unique = ['no', 'yes']\n",
        "  prior_probability = compute_prior_probablity ( train_data )\n",
        "\n",
        "  # Step 2: Calculate Conditional Probability\n",
        "  conditional_probability , list_x_name = compute_conditional_probability ( train_data)\n",
        "\n",
        "  return prior_probability , conditional_probability , list_x_name"
      ],
      "metadata": {
        "id": "Mv4ShI0WRPvU"
      },
      "execution_count": 40,
      "outputs": []
    },
    {
      "cell_type": "markdown",
      "source": [
        "## 4.6 Hoàn thiện function prediction_play_tennis để hỗ trợ AD có nên đi chơi tennis vào ngày D11 không:"
      ],
      "metadata": {
        "id": "kahmNLaXSPUn"
      }
    },
    {
      "cell_type": "markdown",
      "source": [
        "![](https://drive.google.com/uc?export=view&id=1wHQV76_HlLIA2Jd5WxEWLA-uSPA3xozF)"
      ],
      "metadata": {
        "id": "LGBzuFQISSqw"
      }
    },
    {
      "cell_type": "code",
      "source": [
        "# ###################\n",
        "# Prediction\n",
        "# ###################\n",
        "def prediction_play_tennis (X , list_x_name , prior_probability , conditional_probability ):\n",
        "\n",
        "  x1 = get_index_from_value ( X [0] , list_x_name [0])\n",
        "  x2 = get_index_from_value ( X [1] , list_x_name [1])\n",
        "  x3 = get_index_from_value ( X [2] , list_x_name [2])\n",
        "  x4 = get_index_from_value ( X [3] , list_x_name [3])\n",
        "\n",
        "  p0=prior_probability[0] \\\n",
        "    *conditional_probability[0][0,x1] \\\n",
        "    *conditional_probability[1][0,x2] \\\n",
        "    *conditional_probability[2][0,x3] \\\n",
        "    *conditional_probability[3][0,x4]\n",
        "\n",
        "  p1=prior_probability[1]\\\n",
        "    *conditional_probability[0][1,x1]\\\n",
        "    *conditional_probability[1][1,x2]\\\n",
        "    *conditional_probability[2][1,x3]\\\n",
        "    *conditional_probability[3][1,x4]\n",
        "\n",
        "# your code here ***********************\n",
        "\n",
        "  if p0 > p1 :\n",
        "    y_pred =0\n",
        "  else :\n",
        "    y_pred =1\n",
        "\n",
        "  return y_pred"
      ],
      "metadata": {
        "id": "Sz9_CFYBSMGW"
      },
      "execution_count": 37,
      "outputs": []
    },
    {
      "cell_type": "code",
      "source": [
        "X = ['Sunny','Cool', 'High', 'Strong']\n",
        "data = create_train_data ()\n",
        "prior_probability , conditional_probability , list_x_name = train_naive_bayes ( data )\n",
        "pred = prediction_play_tennis (X , list_x_name , prior_probability , conditional_probability )\n",
        "\n",
        "if( pred ) :\n",
        "  print (\"Ad should go!\")\n",
        "else :\n",
        "  print (\"Ad should not go!\")"
      ],
      "metadata": {
        "colab": {
          "base_uri": "https://localhost:8080/"
        },
        "id": "Vnt3AQgAULMr",
        "outputId": "1ce3e0d1-6ad1-45d6-f33c-8a21201574e5"
      },
      "execution_count": 43,
      "outputs": [
        {
          "output_type": "stream",
          "name": "stdout",
          "text": [
            "Ad should not go!\n"
          ]
        }
      ]
    },
    {
      "cell_type": "markdown",
      "source": [
        "## 5. (OPTIONAL) IRIS CLASSIFIER IMPLEMENTATION"
      ],
      "metadata": {
        "id": "vp2BD1ZqGd0g"
      }
    },
    {
      "cell_type": "markdown",
      "source": [
        "Cho trước dữ liệu chứa thông tin về hoa Iris gồm có sepal length, sepal width và petal length, và Species\n",
        "(bảng 6). Hãy phát triển chương trình sử dụng mô hình phân loại Gausian Naive Bayes để dự đoán\n",
        "chủng loại của hoa Iris. Dữ liệu hoa iris được lưu trữ trong file iris_data.txt có thể được tải về [tại đây](https://drive.google.com/file/d/1z7hStO6RCOlVmo-YE0O1hwQ2swItvCPa/view)."
      ],
      "metadata": {
        "id": "aozR9sEcGazy"
      }
    },
    {
      "cell_type": "markdown",
      "source": [
        "![](https://drive.google.com/uc?export=view&id=1Y1BCG_n6RADOJpalB1Wwxf1o2IG-1-Bn)"
      ],
      "metadata": {
        "id": "_7nJGazVGz2U"
      }
    },
    {
      "cell_type": "code",
      "source": [
        "#https://drive.google.com/file/d/1l2rsdbpr2x_WksNDZs6nGa4_O-i4fHkK/view?usp=sharing\n",
        "!gdown 1l2rsdbpr2x_WksNDZs6nGa4_O-i4fHkK"
      ],
      "metadata": {
        "colab": {
          "base_uri": "https://localhost:8080/"
        },
        "id": "n5hxqeAzG78U",
        "outputId": "820a0851-e560-4597-c115-b1a1889cb9a7"
      },
      "execution_count": 44,
      "outputs": [
        {
          "output_type": "stream",
          "name": "stdout",
          "text": [
            "Downloading...\n",
            "From: https://drive.google.com/uc?id=1l2rsdbpr2x_WksNDZs6nGa4_O-i4fHkK\n",
            "To: /content/iris.data.txt\n",
            "\r  0% 0.00/4.70k [00:00<?, ?B/s]\r100% 4.70k/4.70k [00:00<00:00, 14.0MB/s]\n"
          ]
        }
      ]
    },
    {
      "cell_type": "code",
      "source": [
        "from sklearn import datasets\n",
        "import numpy as np\n",
        "\n",
        "def create_train_data_iris():\n",
        "  data = np.loadtxt(\"iris.data.txt\", delimiter=\",\", dtype=str)\n",
        "  return data"
      ],
      "metadata": {
        "id": "Ziyt2EToV73C"
      },
      "execution_count": 45,
      "outputs": []
    },
    {
      "cell_type": "code",
      "source": [
        "def compute_prior_probablity_iris(train_data):\n",
        "  y_unique = np.unique(train_data[:,4])\n",
        "  prior_probability = np.zeros(len(y_unique))\n",
        "  for i in range(0,len(y_unique)):\n",
        "    prior_probability[i]=len(np.where(train_data[:,4] == y_unique[i])[0])/len(train_data)\n",
        "  return prior_probability"
      ],
      "metadata": {
        "id": "7mnCPXeZV-uk"
      },
      "execution_count": 46,
      "outputs": []
    },
    {
      "cell_type": "code",
      "source": [
        "def compute_conditional_probability_iris(train_data):\n",
        "  y_unique = np.unique(train_data[:,4]) # 0 for Setosa, 1 for Versicolour, 2 for Virginica\n",
        "  x_feature = 4\n",
        "  conditional_probability = []\n",
        "  list_x_name = []\n",
        "  for i in range(0,train_data.shape[1]-1):\n",
        "    x_conditional_probability = np.zeros((len(y_unique), 2))\n",
        "    for j in range(0,len(y_unique)):\n",
        "        mean = np.mean((train_data[:,i][np.where(train_data[:,4] == y_unique[j])]).astype(float))\n",
        "        sigma =  np.std((train_data[:,i][np.where(train_data[:,4] == y_unique[j])]).astype(float))\n",
        "        sigma = sigma * sigma\n",
        "        x_conditional_probability[j]= [mean, sigma]\n",
        "\n",
        "    conditional_probability.append(x_conditional_probability)\n",
        "  return conditional_probability"
      ],
      "metadata": {
        "id": "-eGPNL7yWDPl"
      },
      "execution_count": 47,
      "outputs": []
    },
    {
      "cell_type": "code",
      "source": [
        "import math\n",
        "#Define the Gaussian function\n",
        "def gauss(x, mean, sigma):\n",
        "  result = (1.0 / (np.sqrt(2*math.pi*sigma))) \\\n",
        "  * (np.exp(-(float(x) - mean) ** 2 / (2 * sigma)))\n",
        "  return result"
      ],
      "metadata": {
        "id": "iCTW-GIHWHC2"
      },
      "execution_count": 48,
      "outputs": []
    },
    {
      "cell_type": "code",
      "source": [
        "###########################\n",
        "# Train Naive Bayes Model\n",
        "###########################\n",
        "def train_gaussian_naive_bayes(train_data):\n",
        "    # Step 1: Calculate Prior Probability\n",
        "    prior_probability = compute_prior_probablity_iris(train_data)\n",
        "\n",
        "    # Step 2: Calculate Conditional Probability\n",
        "    conditional_probability  = compute_conditional_probability_iris(train_data)\n",
        "\n",
        "    return prior_probability,conditional_probability\n",
        "\n",
        "# data = create_train_data_iris()\n",
        "# conditional_probability = train_gaussian_naive_bayes(data)"
      ],
      "metadata": {
        "id": "PW4fXIy2WJ1_"
      },
      "execution_count": 49,
      "outputs": []
    },
    {
      "cell_type": "code",
      "source": [
        "####################\n",
        "# Prediction\n",
        "####################\n",
        "def prediction_iris(X,  prior_probability, conditional_probability):\n",
        "\n",
        "    p0=prior_probability[0] \\\n",
        "    *gauss(X[0], conditional_probability[0][0][0],conditional_probability[0][0][1])  \\\n",
        "    *gauss(X[1], conditional_probability[1][0][0],conditional_probability[1][0][1])  \\\n",
        "    *gauss(X[2], conditional_probability[2][0][0],conditional_probability[2][0][1])  \\\n",
        "    *gauss(X[3], conditional_probability[3][0][0],conditional_probability[3][0][1])\n",
        "\n",
        "    p1=prior_probability[1] \\\n",
        "    *gauss(X[0], conditional_probability[0][1][0],conditional_probability[0][1][1])  \\\n",
        "    *gauss(X[1], conditional_probability[1][1][0],conditional_probability[1][1][1])  \\\n",
        "    *gauss(X[2], conditional_probability[2][1][0],conditional_probability[2][1][1])  \\\n",
        "    *gauss(X[3], conditional_probability[3][1][0],conditional_probability[3][1][1])\n",
        "\n",
        "    p2=prior_probability[2] \\\n",
        "    *gauss(X[0], conditional_probability[0][2][0],conditional_probability[0][2][1])  \\\n",
        "    *gauss(X[1], conditional_probability[1][2][0],conditional_probability[1][2][1])  \\\n",
        "    *gauss(X[2], conditional_probability[2][2][0],conditional_probability[2][2][1])  \\\n",
        "    *gauss(X[3], conditional_probability[3][2][0],conditional_probability[3][2][1])\n",
        "\n",
        "    # print(p0, p1)\n",
        "\n",
        "    list_p = [p0, p1, p2]\n",
        "\n",
        "    return list_p.index(np.max(list_p))\n",
        "\n",
        "# prediction_play_tennis()"
      ],
      "metadata": {
        "id": "rJZHLclqWOw1"
      },
      "execution_count": 50,
      "outputs": []
    },
    {
      "cell_type": "code",
      "source": [
        "# Example 1\n",
        "# X =[ sepal length , sepal width , petal length , petal width ]\n",
        "X = [6.3 , 3.3 , 6.0 , 2.5]\n",
        "train_data = create_train_data_iris ()\n",
        "y_unique = np . unique ( train_data [: ,4])\n",
        "prior_probability , conditional_probability = train_gaussian_naive_bayes ( train_data )\n",
        "pred = y_unique [ prediction_iris (X , prior_probability , conditional_probability ) ]\n",
        "assert pred == \"Iris-virginica\""
      ],
      "metadata": {
        "id": "Wt6xw_KTVzHU"
      },
      "execution_count": 53,
      "outputs": []
    },
    {
      "cell_type": "code",
      "source": [
        "#Example 2 #########################\n",
        "X = [5.0,2.0,3.5,1.0]\n",
        "train_data = create_train_data_iris()\n",
        "y_unique = np.unique(train_data[:,4])\n",
        "prior_probability, conditional_probability = train_gaussian_naive_bayes(train_data)\n",
        "pred = y_unique[prediction_iris(X, prior_probability, conditional_probability)]\n",
        "assert pred == \"Iris-versicolor\""
      ],
      "metadata": {
        "id": "yZTSwLBJWTrV"
      },
      "execution_count": 54,
      "outputs": []
    },
    {
      "cell_type": "code",
      "source": [
        "#Example 3 #########################\n",
        "# X =[sepal length, sepal width, petal length, petal width]\n",
        "X = [4.9,3.1,1.5,0.1]\n",
        "train_data = create_train_data_iris()\n",
        "y_unique = np.unique(train_data[:,4])\n",
        "prior_probability, conditional_probability = train_gaussian_naive_bayes(train_data)\n",
        "pred = y_unique[prediction_iris(X, prior_probability, conditional_probability)]\n",
        "assert pred == \"Iris-setosa\""
      ],
      "metadata": {
        "id": "dM_gXiDbWb19"
      },
      "execution_count": 55,
      "outputs": []
    }
  ]
}