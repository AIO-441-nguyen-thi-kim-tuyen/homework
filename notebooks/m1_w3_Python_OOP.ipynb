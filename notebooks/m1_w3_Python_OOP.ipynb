{
  "nbformat": 4,
  "nbformat_minor": 0,
  "metadata": {
    "colab": {
      "provenance": []
    },
    "kernelspec": {
      "name": "python3",
      "display_name": "Python 3"
    },
    "language_info": {
      "name": "python"
    }
  },
  "cells": [
    {
      "cell_type": "markdown",
      "source": [
        "[<img src=\"https://colab.research.google.com/assets/colab-badge.svg\\\">](https://colab.research.google.com/drive/1DeK9UcoShNYAaGZZzXCd2FYRZB_CtIl7?usp=sharing)"
      ],
      "metadata": {
        "id": "2rXpdRCHX1SU"
      }
    },
    {
      "cell_type": "markdown",
      "source": [
        "# Câu hỏi tự luận"
      ],
      "metadata": {
        "id": "odQUUL_-9OW9"
      }
    },
    {
      "cell_type": "markdown",
      "source": [
        "## 1.  Viết class và cài phương thức softmax\n",
        "Trong pytorch, torch.nn.Module là lớp cơ bản để từ đó xây dựng lên các mô hình hoặc các phương\n",
        "thức kích hoạt (activation funtion) như sigmoid, softmax,... Trong phần này, chúng ta xây dựng\n",
        "class Softmax và softmax_stable nhận đầu vào là mảng 1 chiều (tensor 1 chiều) dựa vào kế thừa\n",
        "từ lớp Module và ghi đè vào phương thức forward() theo công thức sau đây:\n",
        "![](https://drive.google.com/uc?export=view&id=1gR3s_bAdqxD1FbBS1AsYcHWi68hg7UUs)"
      ],
      "metadata": {
        "id": "7EqzmqFU3upj"
      }
    },
    {
      "cell_type": "code",
      "source": [
        "import torch\n",
        "import torch.nn as nn\n",
        "class Softmax(nn.Module):\n",
        "  def __init__(self):\n",
        "    super(Softmax, self).__init__()\n",
        "  def forward(self, x):\n",
        "    return torch.exp(x) / torch.sum(torch.exp(x), dim=0, keepdim=True)"
      ],
      "metadata": {
        "id": "Vr72OHNwAjzP"
      },
      "execution_count": null,
      "outputs": []
    },
    {
      "cell_type": "code",
      "source": [
        "# Examples 1\n",
        "import torch\n",
        "data = torch.Tensor ([1 , 2 , 3])\n",
        "softmax = Softmax()\n",
        "output = softmax(data)\n",
        "output\n",
        "#>> tensor ([0.0900 , 0.2447 , 0.6652])"
      ],
      "metadata": {
        "colab": {
          "base_uri": "https://localhost:8080/"
        },
        "id": "46s6Gh4W55U0",
        "outputId": "e1ef5a40-5a69-44fd-fcef-51fde57a8ce5"
      },
      "execution_count": null,
      "outputs": [
        {
          "output_type": "execute_result",
          "data": {
            "text/plain": [
              "tensor([0.0900, 0.2447, 0.6652])"
            ]
          },
          "metadata": {},
          "execution_count": 19
        }
      ]
    },
    {
      "cell_type": "code",
      "source": [
        "import torch\n",
        "import torch.nn as nn\n",
        "class softmax_stable(nn.Module):\n",
        "  def __init__(self):\n",
        "    super(softmax_stable, self).__init__()\n",
        "  def forward(self, x):\n",
        "    max_val = torch.max(x)\n",
        "    return torch.exp(x - max_val) / torch.sum(torch.exp(x - max_val), dim=0, keepdim=True)"
      ],
      "metadata": {
        "id": "_LEO_0KOCMhR"
      },
      "execution_count": null,
      "outputs": []
    },
    {
      "cell_type": "code",
      "execution_count": null,
      "metadata": {
        "colab": {
          "base_uri": "https://localhost:8080/"
        },
        "id": "TVkYJM913dIR",
        "outputId": "5a726fdf-d579-488e-fa27-4f678cc66359"
      },
      "outputs": [
        {
          "output_type": "execute_result",
          "data": {
            "text/plain": [
              "tensor([0.0900, 0.2447, 0.6652])"
            ]
          },
          "metadata": {},
          "execution_count": 10
        }
      ],
      "source": [
        "import torch\n",
        "\n",
        "data = torch.Tensor ([1 , 2 , 3])\n",
        "softmax_stable = softmax_stable()\n",
        "output = softmax_stable ( data )\n",
        "output\n",
        "# >> tensor ([0.0900 , 0.2447 , 0.6652])"
      ]
    },
    {
      "cell_type": "markdown",
      "source": [
        "## 2. Một Ward (phường) gồm có name (string) và danh sách của mọi người trong Ward.\n",
        "* Một người person có thể là student, doctor, hoặc teacher.\n",
        "* Một student gồm có name,\n",
        "yob (int) (năm sinh), và grade (string).\n",
        "* Một teacher gồm có name, yob, và subject\n",
        "(string).\n",
        "* Một doctor gồm có name, yob, và specialist (string). Lưu ý cần sử dụng a\n",
        "list để chứa danh sách của mọi người trong Ward.\n",
        " * (a) Cài đặt các class Student, Doctor, và Teacher theo mô tả trên. Thực hiện phương thức\n",
        "describe() method để in ra tất cả thông tin của các object.\n",
        " * (b) Viết add_person(person) method trong Ward class để add thêm một người mới với nghề\n",
        "nghiệp bất kỳ (student, teacher, doctor) vào danh sách người của ward. Tạo ra một ward\n",
        "object, và thêm vào 1 student, 2 teacher, và 2 doctor. Thực hiện describe() method để in ra\n",
        "tên ward (name) và toàn bộ thông tin của từng người trong ward.\n",
        " * (c) Viết count_doctor() method để đếm số lượng doctor trong ward.\n",
        " * (d) Viết sort_age() method để sort mọi người trong ward theo tuổi của họ với thứ tự tăng dần.\n",
        "(hint: Có thể sử dụng sort của list hoặc viết thêm function đều được)\n",
        " * (e) Viết compute_average() method để tính trung bình năm sinh của các teachers trong ward."
      ],
      "metadata": {
        "id": "IjQwpVGJDVnv"
      }
    },
    {
      "cell_type": "code",
      "source": [
        "class Ward:\n",
        "  def __init__(self, name, people):\n",
        "    self.name = name\n",
        "    self.people = people\n",
        "\n",
        "  def add_person(self, person):\n",
        "    self.people.append(person)\n",
        "\n",
        "  def count_doctor(self):\n",
        "    return sum(isinstance(p, Doctor) for p in self.people)\n",
        "\n",
        "  def sort_age(self):\n",
        "    self.people.sort(key=lambda p: p.yob)\n",
        "\n",
        "  def compute_average(self):\n",
        "    teachers = [p for p in self.people if isinstance(p, Teacher)]\n",
        "    if not teachers:\n",
        "      return None\n",
        "    return sum(t.yob for t in teachers) / len(teachers)\n",
        "\n",
        "  def describe(self):\n",
        "    print(f\"Ward: {self.name}\")\n",
        "    for person in self.people:\n",
        "      person.describe()\n",
        "\n",
        "class Student:\n",
        "  def __init__(self, name, yob, grade):\n",
        "    self.name = name\n",
        "    self.yob = yob\n",
        "    self.grade = grade\n",
        "\n",
        "  def describe(self):\n",
        "    print(f\"Student: {self.name}, yob: {self.yob}, grade: {self.grade}\")\n",
        "\n",
        "class Doctor:\n",
        "  def __init__(self, name, yob, specialist):\n",
        "    self.name = name\n",
        "    self.yob = yob\n",
        "    self.specialist = specialist\n",
        "\n",
        "  def describe(self):\n",
        "    print(f\"Doctor: {self.name}, yob: {self.yob}, specialist: {self.specialist}\")\n",
        "\n",
        "class Teacher:\n",
        "  def __init__(self, name, yob, subject):\n",
        "    self.name = name\n",
        "    self.yob = yob\n",
        "    self.subject = subject\n",
        "\n",
        "  def describe(self):\n",
        "    print(f\"Teacher: {self.name}, yob: {self.yob}, subject: {self.subject}\")\n"
      ],
      "metadata": {
        "id": "vo1tPFptDvfc"
      },
      "execution_count": null,
      "outputs": []
    },
    {
      "cell_type": "code",
      "source": [
        "# ward = Ward(\"Ward 1\", [])\n",
        "\n",
        "# student = Student(\"Student 1\", 2000, \"Grade 1\")\n",
        "# teacher_1 = Teacher(\"Teacher 1\", 1990, \"Math\")\n",
        "# teacher_2 = Teacher(\"Teacher 2\", 1985, \"Science\")\n",
        "# doctor_1 = Doctor(\"Doctor 1\", 1980, \"Cardiologist\")\n",
        "# doctor_2 = Doctor(\"Doctor 2\", 1975, \"General\")\n",
        "\n",
        "# ward.add_person(student)\n",
        "# ward.add_person(teacher_1)\n",
        "# ward.add_person(teacher_2)\n",
        "# ward.add_person(doctor_1)\n",
        "# ward.add_person(doctor_2)\n",
        "# ward.describe()"
      ],
      "metadata": {
        "id": "uEoOI-8YDfCF"
      },
      "execution_count": null,
      "outputs": []
    },
    {
      "cell_type": "code",
      "source": [
        "# Examples\n",
        "# 2(a)\n",
        "student1 = Student ( name =\" studentA \", yob =2010 , grade =\"7\")\n",
        "student1.describe()\n",
        "# output\n",
        "#>> Student - Name : studentA - YoB : 2010 - Grade : 7\n",
        "\n"
      ],
      "metadata": {
        "colab": {
          "base_uri": "https://localhost:8080/"
        },
        "id": "BfNoccCLFisu",
        "outputId": "1f5a8ffa-91c1-4b9b-9cea-42ffb4b2735c"
      },
      "execution_count": null,
      "outputs": [
        {
          "output_type": "stream",
          "name": "stdout",
          "text": [
            "Student:  studentA , yob: 2010, grade: 7\n"
          ]
        }
      ]
    },
    {
      "cell_type": "code",
      "source": [
        "teacher1 = Teacher ( name =\" teacherA \", yob =1969 , subject =\" Math \")\n",
        "teacher1 . describe ()\n",
        "# output\n",
        "# >> Teacher - Name : teacherA - YoB : 1969 - Subject : Math"
      ],
      "metadata": {
        "colab": {
          "base_uri": "https://localhost:8080/"
        },
        "id": "PyIwjYtyFsBT",
        "outputId": "482c9e9a-6edd-4f1f-b8c8-469fc356b9b5"
      },
      "execution_count": null,
      "outputs": [
        {
          "output_type": "stream",
          "name": "stdout",
          "text": [
            "Teacher:  teacherA , yob: 1969, subject:  Math \n"
          ]
        }
      ]
    },
    {
      "cell_type": "code",
      "source": [
        "doctor1 = Doctor ( name =\" doctorA \", yob =1945 , specialist =\" Endocrinologists \")\n",
        "doctor1 . describe ()\n",
        "# output\n",
        "# >> Doctor - Name : doctorA - YoB : 1945 - Specialist : Endocrinologists"
      ],
      "metadata": {
        "colab": {
          "base_uri": "https://localhost:8080/"
        },
        "id": "PYGUOcmzFzgf",
        "outputId": "ff49552a-da16-4cde-92e9-3b3a349f3970"
      },
      "execution_count": null,
      "outputs": [
        {
          "output_type": "stream",
          "name": "stdout",
          "text": [
            "Doctor:  doctorA , yob: 1945, specialist:  Endocrinologists \n"
          ]
        }
      ]
    },
    {
      "cell_type": "code",
      "source": [
        "# 2(b)\n",
        "print ()\n",
        "teacher2 = Teacher ( name =\" teacherB \", yob =1995 , subject =\" History \")\n",
        "doctor2 = Doctor ( name =\" doctorB \", yob =1975 , specialist =\" Cardiologists \")\n",
        "ward1 = Ward( name =\" Ward1 \", people=[])\n",
        "ward1.add_person ( student1 )\n",
        "ward1.add_person ( teacher1 )\n",
        "ward1.add_person ( teacher2 )\n",
        "ward1.add_person ( doctor1 )\n",
        "ward1.add_person ( doctor2 )\n",
        "ward1.describe ()\n",
        "\n",
        "# output\n",
        "# >> Ward Name : Ward1\n",
        "#Student - Name : studentA - YoB : 2010 - Grade : 7\n",
        "#Teacher - Name : teacherA - YoB : 1969 - Subject : Math\n",
        "#Teacher - Name : teacherB - YoB : 1995 - Subject : History\n",
        "#Doctor - Name : doctorA - YoB : 1945 - Specialist : Endocrinologists\n",
        "#Doctor - Name : doctorB - YoB : 1975 - Specialist : Cardiologists"
      ],
      "metadata": {
        "colab": {
          "base_uri": "https://localhost:8080/"
        },
        "id": "abvD6Em_F75b",
        "outputId": "02882c95-2160-48e9-e355-9a7baf197991"
      },
      "execution_count": null,
      "outputs": [
        {
          "output_type": "stream",
          "name": "stdout",
          "text": [
            "\n",
            "Ward:  Ward1 \n",
            "Student:  studentA , yob: 2010, grade: 7\n",
            "Teacher:  teacherA , yob: 1969, subject:  Math \n",
            "Teacher:  teacherB , yob: 1995, subject:  History \n",
            "Doctor:  doctorA , yob: 1945, specialist:  Endocrinologists \n",
            "Doctor:  doctorB , yob: 1975, specialist:  Cardiologists \n"
          ]
        }
      ]
    },
    {
      "cell_type": "code",
      "source": [
        "# 2(c)\n",
        "\n",
        "print ( f\"\\ nNumber of doctors : { ward1 . count_doctor ()}\")\n",
        "\n",
        "# output\n",
        "# >> Number of doctors : 2"
      ],
      "metadata": {
        "colab": {
          "base_uri": "https://localhost:8080/"
        },
        "id": "v8nBfhqzGRfR",
        "outputId": "7381643d-be1d-4adb-a7d4-5c568d1f0867"
      },
      "execution_count": null,
      "outputs": [
        {
          "output_type": "stream",
          "name": "stdout",
          "text": [
            "\\ nNumber of doctors : 2\n"
          ]
        }
      ]
    },
    {
      "cell_type": "code",
      "source": [
        "# 2(d)\n",
        "print (\"\\ nAfter sorting Age of Ward1 people \")\n",
        "ward1 . sort_age ()\n",
        "ward1 . describe ()\n",
        "\n",
        "# output\n",
        "# >> After sorting Age of Ward1 people\n",
        "# Ward Name : Ward1\n",
        "# Student - Name : studentA - YoB : 2010 - Grade : 7\n",
        "# Teacher - Name : teacherB - YoB : 1995 - Subject : History\n",
        "# Doctor - Name : doctorB - YoB : 1975 - Specialist : Cardiologists\n",
        "# Teacher - Name : teacherA - YoB : 1969 - Subject : Math\n",
        "# Doctor - Name : doctorA - YoB : 1945 - Specialist : Endocrinologists"
      ],
      "metadata": {
        "colab": {
          "base_uri": "https://localhost:8080/"
        },
        "id": "jDNZG_xiGtXo",
        "outputId": "7cc4d255-1f96-43d1-e5d8-41035c11b336"
      },
      "execution_count": null,
      "outputs": [
        {
          "output_type": "stream",
          "name": "stdout",
          "text": [
            "\\ nAfter sorting Age of Ward1 people \n",
            "Ward:  Ward1 \n",
            "Doctor:  doctorA , yob: 1945, specialist:  Endocrinologists \n",
            "Teacher:  teacherA , yob: 1969, subject:  Math \n",
            "Doctor:  doctorB , yob: 1975, specialist:  Cardiologists \n",
            "Teacher:  teacherB , yob: 1995, subject:  History \n",
            "Student:  studentA , yob: 2010, grade: 7\n"
          ]
        }
      ]
    },
    {
      "cell_type": "code",
      "source": [
        "# 2(e)\n",
        "print ( f\"\\ nAverage year of birth ( teachers ): { ward1 . compute_average ()}\")\n",
        "\n",
        "# output\n",
        "# >> Average year of birth ( teachers ) : 1982.0"
      ],
      "metadata": {
        "colab": {
          "base_uri": "https://localhost:8080/"
        },
        "id": "oox2klJDHFX_",
        "outputId": "af70f37c-d7f2-4dc3-90dd-7bc1fa9c5895"
      },
      "execution_count": null,
      "outputs": [
        {
          "output_type": "stream",
          "name": "stdout",
          "text": [
            "\\ nAverage year of birth ( teachers ): 1982.0\n"
          ]
        }
      ]
    },
    {
      "cell_type": "markdown",
      "source": [
        "#3.\n",
        "![](https://drive.google.com/uc?export=view&id=1Q53IohN9WcwF0rZbDgIi5sWdpTSVocgq)\n",
        "\n",
        "Thực hiện xây dựng class Stack với các phương thức (method) sau đây\n",
        "* initialization method nhận một input \"capacity\": dùng để khởi tạo stack với capacity là số lượng element mà stack có thể chứa\n",
        "* .is_empty(): kiểm tra stack có đang rỗng\n",
        "* .is_full(): kiểm tra stack đã full chưa\n",
        "* .pop(): loại bỏ top element và trả về giá trị đó\n",
        "* .push(value) add thêm value vào trong stack\n",
        "* .top() lấy giá trị top element hiện tại của stack, nhưng không loại bỏ giá trị đó\n",
        "* Không cần thiết phải thực hiện với pointer như trong hình minh họa"
      ],
      "metadata": {
        "id": "punoQNK3HouQ"
      }
    },
    {
      "cell_type": "code",
      "source": [
        "class MyStack:\n",
        "    def __init__(self, capacity):\n",
        "        self.__capacity = capacity\n",
        "        self.__stack = []\n",
        "\n",
        "    def is_empty(self):\n",
        "        return len(self.__stack) == 0\n",
        "\n",
        "    def is_full(self):\n",
        "        return len(self.__stack) == self.__capacity\n",
        "\n",
        "    def pop(self):\n",
        "        if self.is_empty():\n",
        "            print('Do nothing!')\n",
        "            return None\n",
        "        else:\n",
        "            return self.__stack.pop()\n",
        "\n",
        "    def push(self, value):\n",
        "        if self.is_full():\n",
        "            print('Do nothing!')\n",
        "        else:\n",
        "            self.__stack.append(value)\n",
        "    def top(self):\n",
        "        if self.is_empty():\n",
        "            print('Do nothing!')\n",
        "            return None\n",
        "        else:\n",
        "            return self.__stack[-1]"
      ],
      "metadata": {
        "id": "P9ovI9IH8jLH"
      },
      "execution_count": null,
      "outputs": []
    },
    {
      "cell_type": "code",
      "source": [
        "stack1 = MyStack ( capacity =5)\n",
        "stack1.push(1)\n",
        "stack1.push(2)\n",
        "print( stack1.is_full())\n",
        "# >> False"
      ],
      "metadata": {
        "colab": {
          "base_uri": "https://localhost:8080/"
        },
        "id": "LlkZKPR0INgL",
        "outputId": "7dee3b27-328f-42ce-adee-40f3f1194301"
      },
      "execution_count": null,
      "outputs": [
        {
          "output_type": "stream",
          "name": "stdout",
          "text": [
            "False\n"
          ]
        }
      ]
    },
    {
      "cell_type": "code",
      "source": [
        "print ( stack1.top() )\n",
        "# > >2"
      ],
      "metadata": {
        "colab": {
          "base_uri": "https://localhost:8080/"
        },
        "id": "P-YhAiz-9DyR",
        "outputId": "74259131-d67e-457e-9a3c-2ea3bcc0b535"
      },
      "execution_count": null,
      "outputs": [
        {
          "output_type": "stream",
          "name": "stdout",
          "text": [
            "2\n"
          ]
        }
      ]
    },
    {
      "cell_type": "code",
      "source": [
        "print ( stack1.pop() )\n",
        "# >> 2"
      ],
      "metadata": {
        "colab": {
          "base_uri": "https://localhost:8080/"
        },
        "id": "j5ZDozGB9ShP",
        "outputId": "fd4d3d0e-4514-41d6-9389-cbf161e4ceea"
      },
      "execution_count": null,
      "outputs": [
        {
          "output_type": "stream",
          "name": "stdout",
          "text": [
            "2\n"
          ]
        }
      ]
    },
    {
      "cell_type": "code",
      "source": [
        "print ( stack1.top() )\n",
        "# >> 1"
      ],
      "metadata": {
        "colab": {
          "base_uri": "https://localhost:8080/"
        },
        "id": "FJ8TTs-v9Vp-",
        "outputId": "6d2779f2-4309-4081-a444-ca43ea51929a"
      },
      "execution_count": null,
      "outputs": [
        {
          "output_type": "stream",
          "name": "stdout",
          "text": [
            "1\n"
          ]
        }
      ]
    },
    {
      "cell_type": "code",
      "source": [
        "print ( stack1.pop() )\n",
        "# >> 1"
      ],
      "metadata": {
        "colab": {
          "base_uri": "https://localhost:8080/"
        },
        "id": "Y-bWgYao9Y4f",
        "outputId": "fcc34024-dbba-42a5-e000-62b064658439"
      },
      "execution_count": null,
      "outputs": [
        {
          "output_type": "stream",
          "name": "stdout",
          "text": [
            "1\n"
          ]
        }
      ]
    },
    {
      "cell_type": "code",
      "source": [
        "print ( stack1.is_empty() )\n",
        "# >> True"
      ],
      "metadata": {
        "colab": {
          "base_uri": "https://localhost:8080/"
        },
        "id": "u2owcrS59hYO",
        "outputId": "d7693324-8da2-4ff5-a80f-a1865991bd84"
      },
      "execution_count": null,
      "outputs": [
        {
          "output_type": "stream",
          "name": "stdout",
          "text": [
            "True\n"
          ]
        }
      ]
    },
    {
      "cell_type": "markdown",
      "source": [
        "## 4.\n",
        "![](https://drive.google.com/uc?export=view&id=1_wtOwWt0OY8KZmyaL63Lovlq3HSTL9An)\n",
        "\n",
        "Thực hiện xây dựng class Queue với các chức năng (method) sau đây\n",
        "* initialization method nhận một input \"capacity\": dùng để khởi tạo queue với capacity là số lượng element mà queue có thể chứa\n",
        "* .is_empty(): kiểm tra queue có đang rỗng\n",
        "* .is_full(): kiểm tra queue đã full chưa\n",
        "* .dequeue(): loại bỏ first element và trả về giá trị đó\n",
        "* .enqueue(value) add thêm value vào trong queue\n",
        "* .front() lấy giá trị first element hiện tại của queue, nhưng không loại bỏ giá trị đó\n",
        "* Không cần thiết phải thực hiện với các pointers như trong hình minh họa"
      ],
      "metadata": {
        "id": "mn5yg7-fIn7N"
      }
    },
    {
      "cell_type": "code",
      "source": [
        "class MyQueue:\n",
        "    def __init__(self, capacity):\n",
        "        self.__capacity = capacity\n",
        "        self.__data = []\n",
        "\n",
        "    def is_empty(self):\n",
        "        return len(self.__data) == 0\n",
        "\n",
        "    def is_full(self):\n",
        "        return len(self.__data) == self.__capacity\n",
        "\n",
        "    def dequeue(self):\n",
        "        if self.is_empty():\n",
        "            print('Do nothing!')\n",
        "            return None\n",
        "        else:\n",
        "            return self.__data.pop(0)\n",
        "\n",
        "    def enqueue(self, value):\n",
        "        if self.is_full():\n",
        "            print('Do nothing!')\n",
        "        else:\n",
        "            self.__data.append(value)\n",
        "\n",
        "    def print(self):\n",
        "        print(self.__data)\n",
        "\n",
        "    def front(self):\n",
        "        if self.is_empty():\n",
        "            print('Do nothing!')\n",
        "            return None\n",
        "        else:\n",
        "            return self.__data[0]"
      ],
      "metadata": {
        "id": "N08A1rI3996B"
      },
      "execution_count": null,
      "outputs": []
    },
    {
      "cell_type": "code",
      "source": [
        "queue1 = MyQueue(capacity =5)\n",
        "\n",
        "queue1.enqueue(1)\n",
        "\n",
        "queue1.enqueue(2)\n",
        "\n",
        "print( queue1.is_full() )\n",
        "# >> False"
      ],
      "metadata": {
        "colab": {
          "base_uri": "https://localhost:8080/"
        },
        "id": "Y7laBHJbJg2b",
        "outputId": "6c4ae9c4-21a8-44a8-94ff-ea372cf29d46"
      },
      "execution_count": null,
      "outputs": [
        {
          "output_type": "stream",
          "name": "stdout",
          "text": [
            "False\n"
          ]
        }
      ]
    },
    {
      "cell_type": "code",
      "source": [
        "print ( queue1.front() )\n",
        "# >> 1"
      ],
      "metadata": {
        "colab": {
          "base_uri": "https://localhost:8080/"
        },
        "id": "srdgbR_p-aeF",
        "outputId": "00033b40-a8bd-4930-8b25-5397f2f461c4"
      },
      "execution_count": null,
      "outputs": [
        {
          "output_type": "stream",
          "name": "stdout",
          "text": [
            "1\n"
          ]
        }
      ]
    },
    {
      "cell_type": "code",
      "source": [
        "print ( queue1.dequeue() )\n",
        "# >> 1"
      ],
      "metadata": {
        "colab": {
          "base_uri": "https://localhost:8080/"
        },
        "id": "mY2J6iUo-k9Z",
        "outputId": "00cc57cd-ac3c-43b0-c313-a9398140a7e4"
      },
      "execution_count": null,
      "outputs": [
        {
          "output_type": "stream",
          "name": "stdout",
          "text": [
            "1\n"
          ]
        }
      ]
    },
    {
      "cell_type": "code",
      "source": [
        "print ( queue1.front() )\n",
        "# >> 2"
      ],
      "metadata": {
        "colab": {
          "base_uri": "https://localhost:8080/"
        },
        "id": "sT8PJqMw-m40",
        "outputId": "6ea7791f-2909-4b16-9dc0-4a82e0053012"
      },
      "execution_count": null,
      "outputs": [
        {
          "output_type": "stream",
          "name": "stdout",
          "text": [
            "2\n"
          ]
        }
      ]
    },
    {
      "cell_type": "code",
      "source": [
        "print ( queue1.dequeue() )\n",
        "# >> 2"
      ],
      "metadata": {
        "colab": {
          "base_uri": "https://localhost:8080/"
        },
        "id": "qVJP72HG-tHy",
        "outputId": "ec75d017-19f7-4bc4-90a0-38026ff8b3ee"
      },
      "execution_count": null,
      "outputs": [
        {
          "output_type": "stream",
          "name": "stdout",
          "text": [
            "2\n"
          ]
        }
      ]
    },
    {
      "cell_type": "code",
      "source": [
        "print ( queue1.is_empty() )\n",
        "# >> True"
      ],
      "metadata": {
        "colab": {
          "base_uri": "https://localhost:8080/"
        },
        "id": "8MVizRnp-uwu",
        "outputId": "d0273e29-5884-4d0f-8af5-66bbc5043e0a"
      },
      "execution_count": null,
      "outputs": [
        {
          "output_type": "stream",
          "name": "stdout",
          "text": [
            "True\n"
          ]
        }
      ]
    },
    {
      "cell_type": "markdown",
      "source": [
        "# Câu hỏi trắc nghiệm"
      ],
      "metadata": {
        "id": "oCRpU-de-3Wv"
      }
    },
    {
      "cell_type": "markdown",
      "source": [
        "## 1.\n",
        "Choose c"
      ],
      "metadata": {
        "id": "5Ue5jZ81-8Bs"
      }
    },
    {
      "cell_type": "code",
      "source": [
        "import torch\n",
        "import torch.nn as nn\n",
        "\n",
        "data = torch.Tensor ([1 , 2 , 3])\n",
        "softmax_function = nn.Softmax ( dim =0)\n",
        "output = softmax_function ( data )\n",
        "assert round ( output[0].item() , 2) == 0.09\n",
        "output"
      ],
      "metadata": {
        "colab": {
          "base_uri": "https://localhost:8080/"
        },
        "id": "CnAekTEC_CIm",
        "outputId": "e08cd3df-24e6-497e-9cfa-c6418209e88d"
      },
      "execution_count": null,
      "outputs": [
        {
          "output_type": "execute_result",
          "data": {
            "text/plain": [
              "tensor([0.0900, 0.2447, 0.6652])"
            ]
          },
          "metadata": {},
          "execution_count": 16
        }
      ]
    },
    {
      "cell_type": "markdown",
      "source": [
        "## 2.\n",
        "Choose b)"
      ],
      "metadata": {
        "id": "d1kAiGiT_ZnY"
      }
    },
    {
      "cell_type": "code",
      "source": [
        "import torch\n",
        "import torch . nn as nn\n",
        "\n",
        "class MySoftmax( nn . Module ) :\n",
        "  def __init__( self ) :\n",
        "    super().__init__()\n",
        "\n",
        "  def forward( self , x ) :\n",
        "  ### Your Code Here\n",
        "    return torch.exp(x) / torch.sum(torch.exp(x), dim=0, keepdim=True)\n",
        "  ### End Code Here\n",
        "\n",
        "data = torch . Tensor ([5 , 2 , 4])\n",
        "my_softmax = MySoftmax ()\n",
        "output = my_softmax ( data )\n",
        "assert round ( output [ -1]. item () , 2) == 0.26\n",
        "output"
      ],
      "metadata": {
        "colab": {
          "base_uri": "https://localhost:8080/"
        },
        "id": "_CxHe4uY_elV",
        "outputId": "2e432cc7-9874-433f-b231-92f4a0962f65"
      },
      "execution_count": null,
      "outputs": [
        {
          "output_type": "execute_result",
          "data": {
            "text/plain": [
              "tensor([0.7054, 0.0351, 0.2595])"
            ]
          },
          "metadata": {},
          "execution_count": 17
        }
      ]
    },
    {
      "cell_type": "markdown",
      "source": [
        "## 3.\n",
        "Choose c)"
      ],
      "metadata": {
        "id": "mljMFSQsAX6u"
      }
    },
    {
      "cell_type": "code",
      "source": [
        "import torch\n",
        "import torch . nn as nn\n",
        "\n",
        "class MySoftmax ( nn . Module ) :\n",
        "  def __init__ ( self ) :\n",
        "    super () . __init__ ()\n",
        "\n",
        "  def forward( self , x ) :\n",
        "  ### Your Code Here\n",
        "    return torch.exp(x) / torch.sum(torch.exp(x), dim=0, keepdim=True)\n",
        "  ### End Code Here\n",
        "\n",
        "data = torch . Tensor ([1 , 2 , 300000000])\n",
        "my_softmax = MySoftmax ()\n",
        "output = my_softmax ( data )\n",
        "assert round ( output [0]. item () , 2) == 0.0\n",
        "output"
      ],
      "metadata": {
        "colab": {
          "base_uri": "https://localhost:8080/"
        },
        "id": "Tq58Fop_AdQw",
        "outputId": "d6f6ef32-92b7-4d35-dc68-104214a1ff46"
      },
      "execution_count": null,
      "outputs": [
        {
          "output_type": "execute_result",
          "data": {
            "text/plain": [
              "tensor([0., 0., nan])"
            ]
          },
          "metadata": {},
          "execution_count": 21
        }
      ]
    },
    {
      "cell_type": "markdown",
      "source": [
        "## 4\n",
        "Hoàn thành đoạn code sau đây theo công thức tính stable softmax.\n",
        "* Choose b)"
      ],
      "metadata": {
        "id": "Bl6jHv2lBQov"
      }
    },
    {
      "cell_type": "code",
      "source": [
        "import torch\n",
        "import torch . nn as nn\n",
        "\n",
        "class SoftmaxStable ( nn.Module ):\n",
        "  def __init__ ( self ) :\n",
        "    super().__init__()\n",
        "\n",
        "  def forward ( self , x ) :\n",
        "    # max_val = torch.max(x)\n",
        "    # return torch.exp(x - max_val) / torch.sum(torch.exp(x - max_val), dim=0, keepdim=True)\n",
        "\n",
        "    x_max = torch.max(x , dim =0 , keepdims = True )\n",
        "    x_exp = torch.exp (x - x_max.values )\n",
        "    partition = x_exp.sum(0 , keepdims = True )\n",
        "    return x_exp / partition\n",
        "\n",
        "data = torch . Tensor ([1 , 2 , 3])\n",
        "softmax_stable = SoftmaxStable ()\n",
        "output = softmax_stable ( data )\n",
        "assert round ( output[ -1].item() , 2) == 0.67\n",
        "output"
      ],
      "metadata": {
        "colab": {
          "base_uri": "https://localhost:8080/"
        },
        "id": "OgpPo8mSBSXI",
        "outputId": "11161ca9-c61d-4454-ed30-42e2ef2f00fe"
      },
      "execution_count": null,
      "outputs": [
        {
          "output_type": "execute_result",
          "data": {
            "text/plain": [
              "tensor([0.0900, 0.2447, 0.6652])"
            ]
          },
          "metadata": {},
          "execution_count": 24
        }
      ]
    },
    {
      "cell_type": "markdown",
      "source": [
        "## 5.\n",
        "Một người (person) có thể là student, doctor, hoặc teacher. Một student gồm có name(string), yob (int) (năm sinh), và grade (string). Các bạn thực hiện viết class Student theo mô tả trên (Các bạn sẽ viết thêm describe() method để print ra tất cả thông tin của object) và kết quả đầu ra là gì? Chọn đáp án đúng nhất bên dưới.\n",
        "* Choose a)"
      ],
      "metadata": {
        "id": "e4vRbbAtGTvI"
      }
    },
    {
      "cell_type": "code",
      "source": [
        "from abc import ABC , abstractmethod\n",
        "\n",
        "class Person ( ABC ) :\n",
        "  def __init__ ( self , name :str , yob :int ) :\n",
        "    self._name = name\n",
        "    self._yob = yob\n",
        "\n",
        "  def get_yob ( self ) :\n",
        "    return self . _yob\n",
        "\n",
        "  @abstractmethod\n",
        "  def describe ( self ) :\n",
        "    pass\n",
        "\n",
        "class Student ( Person ) :\n",
        "  def __init__ ( self , name :str , yob :int , grade :str) :\n",
        "    ### Your Code Here\n",
        "    super().__init__(name, yob)\n",
        "    self._grade = grade\n",
        "    ### End Code Here\n",
        "\n",
        "  def describe ( self ) :\n",
        "    ### Your Code Here\n",
        "    print(f\"Student: {self._name}, yob: {self._yob}, grade: {self._grade}\")\n",
        "    ### End Code Here\n",
        "\n",
        "student1 = Student ( name =\" studentZ2023 \", yob =2011 , grade =\"6\")\n",
        "assert student1._yob == 2011\n",
        "student1.describe()"
      ],
      "metadata": {
        "colab": {
          "base_uri": "https://localhost:8080/"
        },
        "id": "m3dN0eVcGeDB",
        "outputId": "06bace99-d514-4211-809c-28c0f06a86a1"
      },
      "execution_count": null,
      "outputs": [
        {
          "output_type": "stream",
          "name": "stdout",
          "text": [
            "Student:  studentZ2023 , yob: 2011, grade: 6\n"
          ]
        }
      ]
    },
    {
      "cell_type": "markdown",
      "source": [
        "## 6.\n",
        "Một người (person) có thể là student, doctor, hoặc teacher. Một teacher gồm có name (string), yob (int), và subject (string). Các bạn thực hiện viết class Teacher theo mô tả trên (Các bạn sẽ viết thêm describe() method để print ra tất cả thông tin của object) và kết quả đầu ra là gì? Chọn đáp án đúng nhất bên dưới.\n",
        "* Choose b)"
      ],
      "metadata": {
        "id": "r4AzooBnHnLQ"
      }
    },
    {
      "cell_type": "code",
      "source": [
        "from abc import ABC , abstractmethod\n",
        "\n",
        "class Person ( ABC ) :\n",
        "  def __init__ ( self , name :str , yob :int ) :\n",
        "    self . _name = name\n",
        "    self . _yob = yob\n",
        "\n",
        "  def get_yob ( self ) :\n",
        "    return self . _yob\n",
        "\n",
        "  @abstractmethod\n",
        "  def describe ( self ) :\n",
        "    pass\n",
        "\n",
        "class Teacher ( Person ) :\n",
        "  def __init__ ( self , name :str , yob :int , subject : str) :\n",
        "  ### Your Code Here\n",
        "    super().__init__(name, yob)\n",
        "    self._subject = subject\n",
        "  ### End Code Here\n",
        "\n",
        "  def describe ( self ) :\n",
        "  ### Your Code Here\n",
        "    print(f\"Teacher: {self._name}, yob: {self._yob}, subject: {self._subject}\")\n",
        " ### End Code Here\n",
        "\n",
        "teacher1 = Teacher ( name =\" teacherZ2023 \", yob =1991 , subject =\" History \")\n",
        "assert teacher1 . _yob == 1991\n",
        "teacher1 . describe ()"
      ],
      "metadata": {
        "colab": {
          "base_uri": "https://localhost:8080/"
        },
        "id": "l1jrKYUOH2GT",
        "outputId": "2aa04289-c6b4-4a52-d108-8e1ca1ff5be9"
      },
      "execution_count": null,
      "outputs": [
        {
          "output_type": "stream",
          "name": "stdout",
          "text": [
            "Teacher:  teacherZ2023 , yob: 1991, subject:  History \n"
          ]
        }
      ]
    },
    {
      "cell_type": "markdown",
      "source": [
        "## 7.\n",
        "Một người (person) có thể là student, doctor, hoặc teacher. Một doctor gồm có name(string), yob (string), và specialist (string). Các bạn thực hiện viết class Teacher theo mô tả trên (Các bạn sẽ viết thêm describe() method để print ra tất cả thông tin của object) và kết quả đầu ra là gì? Chọn đáp án đúng nhất bên dưới.\n",
        "* Choose a)"
      ],
      "metadata": {
        "id": "Obwo2YEwIaBI"
      }
    },
    {
      "cell_type": "code",
      "source": [
        "from abc import ABC , abstractmethod\n",
        "\n",
        "class Person ( ABC ) :\n",
        "  def __init__ ( self , name :str , yob :int ) :\n",
        "    self . _name = name\n",
        "    self . _yob = yob\n",
        "\n",
        "  def get_yob ( self ) :\n",
        "    return self . _yob\n",
        "\n",
        "  @abstractmethod\n",
        "  def describe ( self ) :\n",
        "    pass\n",
        "\n",
        "\n",
        "class Doctor ( Person ) :\n",
        "  def __init__ ( self , name :str , yob :int , specialist :str) :\n",
        "  ### Your Code Here\n",
        "    super().__init__(name, yob)\n",
        "    self._specialist = specialist\n",
        "  ### End Code Here\n",
        "\n",
        "  def describe ( self ) :\n",
        "  ### Your Code Here\n",
        "    print(f\"Doctor: {self._name}, yob: {self._yob}, specialist: {self._specialist}\")\n",
        "  ### End Code Here\n",
        "\n",
        "doctor1 = Doctor ( name =\" doctorZ2023 \", yob =1981 , specialist =\" Endocrinologists \")\n",
        "assert doctor1 . _yob == 1981\n",
        "doctor1 . describe ()"
      ],
      "metadata": {
        "colab": {
          "base_uri": "https://localhost:8080/"
        },
        "id": "IkMttptaIj4z",
        "outputId": "98aaceb6-e3ca-4da0-b94e-5c77d69eaaa1"
      },
      "execution_count": null,
      "outputs": [
        {
          "output_type": "stream",
          "name": "stdout",
          "text": [
            "Doctor:  doctorZ2023 , yob: 1981, specialist:  Endocrinologists \n"
          ]
        }
      ]
    },
    {
      "cell_type": "markdown",
      "source": [
        "## 8.\n",
        "Một Ward gồm có name (string) và danh sách của mọi người trong Ward. Một người\n",
        "person có thể là student, doctor, hoặc teacher và cần sử dụng một list để chứa danh sách của mọingười trong Ward. Viết add_person(person) method trong Ward class để add thêm một người mới với nghề nghiệp bất kỳ (student, teacher, doctor) vào danh sách người của ward. Tạo ra một ward object, và thêm vào 1 student, 2 teacher, và 2 doctor. Thực hiện describe() method để in ra tên ward (name) và toàn bộ thông tin của từng người trong ward. Chọn đáp án đúng nhất bên dưới cho phương thức đếm số lượng doctor.\n",
        "* Choose c)"
      ],
      "metadata": {
        "id": "sDzd-6ioJKOQ"
      }
    },
    {
      "cell_type": "code",
      "source": [
        "class Ward :\n",
        "  def __init__ ( self , name : str) :\n",
        "    self . __name = name\n",
        "    self . __listPeople = list ()\n",
        "\n",
        "  def add_person ( self , person : Person ) :\n",
        "    self . __listPeople . append ( person )\n",
        "\n",
        "  def describe ( self ) :\n",
        "    print ( f\" Ward Name : { self . __name }\")\n",
        "    for p in self . __listPeople :\n",
        "      p . describe ()\n",
        "\n",
        "  def count_doctor ( self ) :\n",
        "  ### Your Code Here\n",
        "    count = 0\n",
        "    for p in self.__listPeople:\n",
        "      if isinstance(p, Doctor):\n",
        "        count += 1\n",
        "    return count\n",
        "  ### End Code Here\n",
        "\n",
        "student1 = Student ( name =\" studentA \", yob =2010 , grade =\"7\")\n",
        "teacher1 = Teacher ( name =\" teacherA \", yob =1969 , subject =\" Math \")\n",
        "teacher2 = Teacher ( name =\" teacherB \", yob =1995 , subject =\" History \")\n",
        "doctor1 = Doctor ( name =\" doctorA \", yob =1945 , specialist =\" Endocrinologists \")\n",
        "ward1 = Ward ( name =\" Ward1 \")\n",
        "ward1.add_person( student1 )\n",
        "ward1.add_person( teacher1 )\n",
        "ward1.add_person( teacher2 )\n",
        "ward1.add_person( doctor1 )\n",
        "assert ward1.count_doctor () == 1\n",
        "\n",
        "doctor2 = Doctor ( name =\" doctorB \", yob =1975 , specialist =\" Cardiologists \")\n",
        "ward1.add_person( doctor2 )\n",
        "ward1.count_doctor()"
      ],
      "metadata": {
        "colab": {
          "base_uri": "https://localhost:8080/"
        },
        "id": "H4YUSjJmJUuC",
        "outputId": "1288f490-0060-4dc5-9d96-6cecccd88273"
      },
      "execution_count": null,
      "outputs": [
        {
          "output_type": "execute_result",
          "data": {
            "text/plain": [
              "2"
            ]
          },
          "metadata": {},
          "execution_count": 30
        }
      ]
    },
    {
      "cell_type": "markdown",
      "source": [
        "## 9.\n",
        "Thực hiện xây dựng class Stack với các chức năng (method) sau đây: initialization method nhận một input \"capacity\": dùng để khởi tạo stack với capacity là số lượng element mà stack có thể chứa. .is_full(): kiểm tra stack đã full chưa. .push(value) add thêm value vào trong stack. Kết quả đầu ra là gì?\n",
        "* Choose b)"
      ],
      "metadata": {
        "id": "E-JF7-ZWKYm9"
      }
    },
    {
      "cell_type": "code",
      "source": [
        "class MyStack :\n",
        "  def __init__ ( self , capacity ) :\n",
        "    self . __capacity = capacity\n",
        "    self . __stack = []\n",
        "\n",
        "  def is_full ( self ) :\n",
        "    return len( self . __stack ) == self . __capacity\n",
        "\n",
        "  def push ( self , value ) :\n",
        "  ### Your Code Here\n",
        "    if self.is_full():\n",
        "      print('Do nothing!')\n",
        "    else:\n",
        "      self.__stack.append(value)\n",
        "  ### End Code Here\n",
        "\n",
        "stack1 = MyStack( capacity =5)\n",
        "stack1.push(1)\n",
        "assert stack1.is_full() == False\n",
        "stack1.push(2)\n",
        "print ( stack1.is_full() )"
      ],
      "metadata": {
        "colab": {
          "base_uri": "https://localhost:8080/"
        },
        "id": "VAPX97xuKiWC",
        "outputId": "f70f24be-c525-4ba4-ca17-388a44f1bbcb"
      },
      "execution_count": null,
      "outputs": [
        {
          "output_type": "stream",
          "name": "stdout",
          "text": [
            "False\n"
          ]
        }
      ]
    },
    {
      "cell_type": "markdown",
      "source": [
        "## 10.\n",
        "Thực hiện xây dựng class Stack với các chức năng (method) sau đây: initialization method nhận một input \"capacity\", dùng để khởi tạo stack với capacity là số lượng element mà stack có thể chứa. Phương thức is_empty(): kiểm tra stack có đang rỗng. Phương thức is_full(): kiểm tra stack đã full chưa. Phương thức push(value) add thêm value vào trong stack. Phương\n",
        "thức top() lấy giá trị top element hiện tại của stack, nhưng không loại bỏ giá trị đó. Kết quả đầu ra là gì?\n",
        "\n",
        "* Choose b)"
      ],
      "metadata": {
        "id": "peV7v4RJLAiG"
      }
    },
    {
      "cell_type": "code",
      "source": [
        "class MyStack :\n",
        "  def __init__ ( self , capacity ) :\n",
        "    self . __capacity = capacity\n",
        "    self . __stack = []\n",
        "\n",
        "  def is_full ( self ) :\n",
        "    return len( self . __stack ) == self . __capacity\n",
        "\n",
        "  def push ( self , value ) :\n",
        "  ### Your Code Here\n",
        "    if self.is_full():\n",
        "      print('Do nothing!')\n",
        "    else:\n",
        "      self.__stack.append(value)\n",
        "  ### End Code Here\n",
        "  def is_empty ( self ) :\n",
        "    return len( self . __stack ) == 0\n",
        "\n",
        "  def top ( self ) :\n",
        "  ### Your Code Here\n",
        "    if self.is_empty():\n",
        "      print('Do nothing!')\n",
        "      return None\n",
        "    else:\n",
        "      return self.__stack[-1]\n",
        "  ### End Code Here\n",
        "\n",
        "stack1 = MyStack(capacity =5)\n",
        "stack1.push(1)\n",
        "assert stack1.is_full() == False\n",
        "stack1.push(2)\n",
        "print ( stack1.top() )"
      ],
      "metadata": {
        "colab": {
          "base_uri": "https://localhost:8080/"
        },
        "id": "_gyr4-ulLN6n",
        "outputId": "c95ff3c7-1347-4248-9e4a-b85783d09d05"
      },
      "execution_count": null,
      "outputs": [
        {
          "output_type": "stream",
          "name": "stdout",
          "text": [
            "2\n"
          ]
        }
      ]
    },
    {
      "cell_type": "markdown",
      "source": [
        "## 11.\n",
        "Thực hiện xây dựng class Queue với các chức năng (method) sau đây: initialization method nhận một input \"capacity\", dùng để khởi tạo queue với capacity là số lượng element mà queue có thể chứa. Phương thức is_full(): kiểm tra queue đã full chưa. Phương thức enqueue(value) add thêm value vào trong queue. Kết quả đầu ra là gì?\n",
        "* Choose a)"
      ],
      "metadata": {
        "id": "pDKGj074MP7y"
      }
    },
    {
      "cell_type": "code",
      "source": [
        "class MyQueue :\n",
        "  def __init__ ( self , capacity ) :\n",
        "    self . __capacity = capacity\n",
        "    self . __queue = []\n",
        "\n",
        "  def is_full ( self ) :\n",
        "    return len( self . __queue ) == self . __capacity\n",
        "\n",
        "  def enqueue ( self , value ) :\n",
        "  ### Your Code Here\n",
        "    if self.is_full():\n",
        "      print('Do nothing!')\n",
        "    else:\n",
        "      self.__queue.append(value)\n",
        "  ### End Code Here\n",
        "\n",
        "queue1 = MyQueue ( capacity =5)\n",
        "queue1.enqueue(1)\n",
        "assert queue1.is_full () == False\n",
        "queue1.enqueue(2)\n",
        "print ( queue1.is_full() )"
      ],
      "metadata": {
        "colab": {
          "base_uri": "https://localhost:8080/"
        },
        "id": "Ist5eETUMYW1",
        "outputId": "9c44ed60-39ab-4e97-ff67-5c3e3083a8be"
      },
      "execution_count": null,
      "outputs": [
        {
          "output_type": "stream",
          "name": "stdout",
          "text": [
            "False\n"
          ]
        }
      ]
    },
    {
      "cell_type": "markdown",
      "source": [
        "## 12.\n",
        "Thực hiện xây dựng class Queue với các chức năng (method) sau đây: initialization method nhận một input \"capacity\" dùng để khởi tạo queue với capacity là số lượng element mà queue có thể chứa. Phương thức is_full(): kiểm tra queue đã full chưa. Phương thức enqueue(value) add thêm value vào trong queue. Phương thức front() lấy giá trị first element hiện tại của queue,\n",
        "nhưng không loại bỏ giá trị đó. Kết quả đầu ra là gì?\n",
        "\n",
        "* Choose d)"
      ],
      "metadata": {
        "id": "rld3PVeaMz2L"
      }
    },
    {
      "cell_type": "code",
      "source": [
        "class MyQueue :\n",
        "  def __init__ ( self , capacity ) :\n",
        "    self . __capacity = capacity\n",
        "    self . __queue = []\n",
        "\n",
        "  def isEmpty ( self ) :\n",
        "    return len( self . __queue ) == 0\n",
        "\n",
        "  def is_full ( self ) :\n",
        "    return len( self . __queue ) == self . __capacity\n",
        "\n",
        "  def dequeue ( self ) :\n",
        "    if self.isEmpty():\n",
        "      print('Do nothing!')\n",
        "      return None\n",
        "    else:\n",
        "      return self.__queue.pop(0)\n",
        "\n",
        "  def enqueue ( self , value ) :\n",
        "    if self.is_full():\n",
        "      print('Do nothing!')\n",
        "      return None\n",
        "    else:\n",
        "      self.__queue.append(value)\n",
        "\n",
        "  def front ( self ) :\n",
        "  ### Your Code Here\n",
        "    if self.isEmpty():\n",
        "      print('Do nothing!')\n",
        "      return None\n",
        "    else:\n",
        "      return self.__queue[0]\n",
        "  ### End Code Here\n",
        "\n",
        "queue1 = MyQueue ( capacity =5)\n",
        "queue1.enqueue(1)\n",
        "assert queue1.is_full () == False\n",
        "queue1.enqueue(2)\n",
        "print ( queue1.front() )"
      ],
      "metadata": {
        "colab": {
          "base_uri": "https://localhost:8080/"
        },
        "id": "ir4m6xiDM9o_",
        "outputId": "d0768a13-cac3-49b1-c3b9-d3d874d7f918"
      },
      "execution_count": null,
      "outputs": [
        {
          "output_type": "stream",
          "name": "stdout",
          "text": [
            "1\n"
          ]
        }
      ]
    }
  ]
}